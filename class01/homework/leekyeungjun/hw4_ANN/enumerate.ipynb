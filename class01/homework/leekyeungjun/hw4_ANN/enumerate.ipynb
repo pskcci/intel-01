{
 "cells": [
  {
   "cell_type": "code",
   "execution_count": 2,
   "id": "75c704d2-61a8-49de-b254-6b8499a85f17",
   "metadata": {},
   "outputs": [
    {
     "name": "stdout",
     "output_type": "stream",
     "text": [
      "[(0, 'apple'), (1, 'banana'), (2, 'cherry')]\n",
      "---------\n",
      "(0, 'A')\n",
      "(1, 'B')\n",
      "(2, 'C')\n",
      "---------\n",
      "0 A\n",
      "1 B\n",
      "2 C\n",
      "---------\n",
      "101 A\n",
      "102 B\n",
      "103 C\n"
     ]
    }
   ],
   "source": [
    "x = ( 'apple', 'banana','cherry')\n",
    "y= enumerate(x)\n",
    "print(list(y))\n",
    "print('---------')\n",
    "for entry in enumerate(['A','B','C']):\n",
    "    print(entry)\n",
    "print('---------')\n",
    "for i, letter in enumerate(['A','B','C']):\n",
    "    print(i, letter)\n",
    "print('---------')\n",
    "for i, letter in enumerate(['A','B','C'], start=101):\n",
    "    print(i, letter)"
   ]
  },
  {
   "cell_type": "code",
   "execution_count": 1,
   "id": "960c9a66-aeec-4d78-9d89-cf34f794a045",
   "metadata": {},
   "outputs": [],
   "source": [
    "filename = 'readme.txt'\n",
    "file = open(filename, 'w')\n",
    "file.write(\"Hello, World!\")\n",
    "file.close()"
   ]
  },
  {
   "cell_type": "code",
   "execution_count": 2,
   "id": "fecaaa27-4b9d-4011-87e2-7cf072e9e083",
   "metadata": {},
   "outputs": [
    {
     "name": "stdout",
     "output_type": "stream",
     "text": [
      "Hello, World!\n"
     ]
    }
   ],
   "source": [
    "filename = 'readme.txt'\n",
    "file = open(filename, 'r')\n",
    "content = file.read()\n",
    "print(content)\n",
    "file.close()"
   ]
  },
  {
   "cell_type": "code",
   "execution_count": 3,
   "id": "c695c8ee-52a6-4fde-9294-a3d86f83b26f",
   "metadata": {},
   "outputs": [],
   "source": [
    "filename = 'readme.txt'\n",
    "with open(filename, 'w') as file:\n",
    "    file.write(\"Hello, World!\")"
   ]
  },
  {
   "cell_type": "code",
   "execution_count": 5,
   "id": "8f6680d1-374d-4754-bd30-ebd319bc8c02",
   "metadata": {},
   "outputs": [
    {
     "name": "stdout",
     "output_type": "stream",
     "text": [
      "Hello, World!\n"
     ]
    }
   ],
   "source": [
    "filename = 'readme.txt'\n",
    "with open(filename, 'r') as file:\n",
    "    content = file.read()\n",
    "    print(content)"
   ]
  }
 ],
 "metadata": {
  "kernelspec": {
   "display_name": "Python 3 (ipykernel)",
   "language": "python",
   "name": "python3"
  },
  "language_info": {
   "codemirror_mode": {
    "name": "ipython",
    "version": 3
   },
   "file_extension": ".py",
   "mimetype": "text/x-python",
   "name": "python",
   "nbconvert_exporter": "python",
   "pygments_lexer": "ipython3",
   "version": "3.10.12"
  }
 },
 "nbformat": 4,
 "nbformat_minor": 5
}

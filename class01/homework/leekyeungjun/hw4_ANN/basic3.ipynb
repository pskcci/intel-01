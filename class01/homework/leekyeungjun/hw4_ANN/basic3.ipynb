{
 "cells": [
  {
   "cell_type": "code",
   "execution_count": 4,
   "id": "242f8067-44e7-40f3-8a2a-09100a2aba8d",
   "metadata": {},
   "outputs": [
    {
     "name": "stdout",
     "output_type": "stream",
     "text": [
      "banana\n",
      "apple\n",
      "True\n",
      "<class 'tuple'> <class 'int'>\n",
      "(1,) 1\n",
      "('a', 'b', 'c', 1, 2, 3) (1, 2, 3, 1, 2, 3)\n",
      "banana\n",
      "True\n",
      "<class 'tuple'> <class 'int'>\n",
      "(1,) 1\n",
      "('a', 'b', 'c', 1, 2, 3) (1, 2, 3, 1, 2, 3)\n",
      "cherry\n",
      "True\n",
      "<class 'tuple'> <class 'int'>\n",
      "(1,) 1\n",
      "('a', 'b', 'c', 1, 2, 3) (1, 2, 3, 1, 2, 3)\n"
     ]
    }
   ],
   "source": [
    "thistuple = (\"apple\", \"banana\", \"cherry\")\n",
    "print(thistuple[1])\n",
    "for x in thistuple:\n",
    "    print(x)\n",
    "    tuple1 = (\"abc\", 34, True, 40, \"male\", \"abc\")\n",
    "    print(tuple1[2])\n",
    "    a = 1,\n",
    "    b = 1\n",
    "    print(type(a), type(b))\n",
    "    print(a,b)\n",
    "\n",
    "    #tuple 연산\n",
    "    tuple1 = (\"a\", \"b\", \"c\")\n",
    "    tuple2 = ( 1, 2, 3)\n",
    "    tuple3 = tuple1 + tuple2\n",
    "    tuple4 = tuple2*2\n",
    "    print(tuple3,tuple4)"
   ]
  },
  {
   "cell_type": "code",
   "execution_count": null,
   "id": "1ea1b2c6-f7dd-46d6-8f1e-659fb2f4a6e5",
   "metadata": {},
   "outputs": [],
   "source": []
  }
 ],
 "metadata": {
  "kernelspec": {
   "display_name": "Python 3 (ipykernel)",
   "language": "python",
   "name": "python3"
  },
  "language_info": {
   "codemirror_mode": {
    "name": "ipython",
    "version": 3
   },
   "file_extension": ".py",
   "mimetype": "text/x-python",
   "name": "python",
   "nbconvert_exporter": "python",
   "pygments_lexer": "ipython3",
   "version": "3.10.12"
  }
 },
 "nbformat": 4,
 "nbformat_minor": 5
}

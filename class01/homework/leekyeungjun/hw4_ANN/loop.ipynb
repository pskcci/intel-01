{
 "cells": [
  {
   "cell_type": "code",
   "execution_count": 6,
   "id": "51080340-58c9-44bb-994f-9d102c055d71",
   "metadata": {},
   "outputs": [
    {
     "name": "stdout",
     "output_type": "stream",
     "text": [
      "1\n",
      "2\n",
      "3\n",
      "4\n",
      "Hello\n",
      "6.24\n",
      "---------\n",
      "1\n",
      "2\n",
      "3\n",
      "4\n",
      "Hello\n",
      "6.24\n",
      "---------\n",
      "1 2\n",
      "3 4\n",
      "5 6\n",
      "---------\n",
      "1 2\n",
      "3 4\n",
      "5 6\n",
      "---------\n",
      "A 1\n",
      "B 2\n",
      "C 3\n",
      "---------\n",
      "A 1\n",
      "B 2\n",
      "C 3\n"
     ]
    }
   ],
   "source": [
    "items = [1,2,3,4, 'Hello',6.24]\n",
    "for k in range(0, len(items)):\n",
    "    print(items[k])\n",
    "print('---------')\n",
    "for item in items:\n",
    "    print(item)\n",
    "print('---------')\n",
    "items = [[1,2],[3,4],[5,6]]\n",
    "for item in items:\n",
    "    print(item[0],item[1])\n",
    "print('---------')\n",
    "for item1, item2 in items:\n",
    "    print(item1,item2)\n",
    "print('---------')\n",
    "info = {'A' : 1, 'B' : 2, 'C' : 3}\n",
    "for key in info:\n",
    "    print(key, info[key])\n",
    "print('---------')\n",
    "for key, value in info.items():\n",
    "    print(key, value)"
   ]
  },
  {
   "cell_type": "code",
   "execution_count": 8,
   "id": "f7a00858-0745-46b6-b098-38d2d913e03f",
   "metadata": {},
   "outputs": [
    {
     "name": "stdout",
     "output_type": "stream",
     "text": [
      "[[1, 2], [3, 4], [5, 6]]\n",
      "[['A', 'B'], ['C', 'D'], ['E', 'F']]\n",
      "---------\n",
      "[1, 2] ['A', 'B']\n",
      "[3, 4] ['C', 'D']\n",
      "[5, 6] ['E', 'F']\n"
     ]
    }
   ],
   "source": [
    "items1 = [[1,2],[3,4],[5,6]]\n",
    "items2 = [['A','B'],['C','D'],['E','F']]\n",
    "print(items1)\n",
    "print(items2)\n",
    "print('---------')\n",
    "for digits, characters in zip(items1, items2):\n",
    "    print(digits, characters)"
   ]
  },
  {
   "cell_type": "code",
   "execution_count": 9,
   "id": "69dbe81c-679a-4f21-a08f-30b4792582cb",
   "metadata": {},
   "outputs": [
    {
     "name": "stdout",
     "output_type": "stream",
     "text": [
      "[0, 1, 2, 3, 4]\n",
      "---------\n",
      "[0, 1, 2, 3, 4]\n",
      "---------\n",
      "[0, 6, 2, 16, 4]\n",
      "---------\n",
      "[0, 2, 4]\n",
      "---------\n",
      "{0: 0, 1: 10, 2: 20, 3: 30, 4: 40}\n",
      "---------\n",
      "[2, 6, 8]\n"
     ]
    }
   ],
   "source": [
    "a = []\n",
    "for k in range(0,5):\n",
    "    a.append(k)\n",
    "print(a)\n",
    "print('---------')\n",
    "a = [k for k in range(0,5)]\n",
    "print(a)\n",
    "print('---------')\n",
    "a = [k if (k+1)%2 else k*5+1 for k in range(0, 5)]\n",
    "print(a)\n",
    "print('---------')\n",
    "a = [k for k in range(0, 5) if k % 2 ==0]\n",
    "print(a)\n",
    "print('---------')\n",
    "a = {k : k*10 for k in range(0, 5)}\n",
    "print(a)\n",
    "print('---------')\n",
    "a = [1, 3, 4]\n",
    "c = [a[i] + a[i] for i in range(len(a))]\n",
    "print(c)"
   ]
  },
  {
   "cell_type": "code",
   "execution_count": null,
   "id": "742745aa-e102-4c68-b04d-4f31e7cb693e",
   "metadata": {},
   "outputs": [],
   "source": []
  }
 ],
 "metadata": {
  "kernelspec": {
   "display_name": "Python 3 (ipykernel)",
   "language": "python",
   "name": "python3"
  },
  "language_info": {
   "codemirror_mode": {
    "name": "ipython",
    "version": 3
   },
   "file_extension": ".py",
   "mimetype": "text/x-python",
   "name": "python",
   "nbconvert_exporter": "python",
   "pygments_lexer": "ipython3",
   "version": "3.10.12"
  }
 },
 "nbformat": 4,
 "nbformat_minor": 5
}

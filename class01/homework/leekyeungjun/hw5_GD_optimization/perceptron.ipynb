{
 "cells": [
  {
   "cell_type": "code",
   "execution_count": 9,
   "id": "c214c3f4-ec1b-4df9-a307-12b9547f81d3",
   "metadata": {},
   "outputs": [],
   "source": [
    "import numpy as np\n"
   ]
  },
  {
   "cell_type": "code",
   "execution_count": 40,
   "id": "a7a263f7-3a27-4143-b281-9bd959c7e60f",
   "metadata": {},
   "outputs": [],
   "source": [
    "def sigmoid(x):\n",
    "    return 1/(1+np.exp(-x))"
   ]
  },
  {
   "cell_type": "code",
   "execution_count": 41,
   "id": "618fc5bc-54be-4022-9ee1-b1f075535db8",
   "metadata": {},
   "outputs": [],
   "source": [
    "def numerical_dericative(f,x):\n",
    "    delta_x=1e-4\n",
    "    gradf=np.zeros_like(x)\n",
    "\n",
    "    it = np.nditer(x,flags=['multi_index'],op_flags=['readwrite'])\n",
    "\n",
    "    while not it.finished:\n",
    "        idx=it.multi_index\n",
    "        tmp_val=x[idx]\n",
    "        x[idx]=float(tmp_val)+delta_x\n",
    "        fx1=f(x)\n",
    "\n",
    "        x[idx]=float(tmp_val)-delta_x\n",
    "        fx2=f(x)\n",
    "        gradf[idx]=(fx1-fx2)/(2*delta_x)\n",
    "\n",
    "        x[idx]=tmp_val\n",
    "        it.iternext()\n",
    "    return gradf"
   ]
  },
  {
   "cell_type": "code",
   "execution_count": 42,
   "id": "375d99a8-8ac4-4934-8f63-adf5bcc68394",
   "metadata": {},
   "outputs": [],
   "source": [
    "class logicGate:\n",
    "    def __init__(self,gate_name,xdata,tdata,learning_rate=0.01,threshold=0.5):\n",
    "        self.name=gate_name\n",
    "\n",
    "        self.__xdata=xdata.reshape(4,2)\n",
    "        self.__tdata=tdata.reshape(4,1)\n",
    "\n",
    "        self.__w=np.random.rand(2,1)\n",
    "        self.__b=np.random.rand(1)\n",
    "\n",
    "        self.__learning_rate=learning_rate\n",
    "        self.__threshold=threshold\n",
    "\n",
    "    def __loss_func(self):\n",
    "        delta=1e-7\n",
    "\n",
    "        z=np.dot(self.__xdata, self.__w)+self.__b\n",
    "        y=sigmoid(z)\n",
    "\n",
    "        return -np.sum(self.__tdata*np.log(y+delta)+(1-self.__tdata)*np.log((1-y)+delta))\n",
    "    def err_val(self):\n",
    "        delta=1e-7   \n",
    "\n",
    "        z=np.dot(self.__xdata, self.__w)+self.__b\n",
    "        y=sigmoid(z)\n",
    "        return -np.sum(self.__tdata*np.log(y+delta)+(1-self.__tdata)*np.log((1-y)+delta))\n",
    "    def train(self):\n",
    "        f=lambda x : self.__loss_func()\n",
    "\n",
    "        print(\"init error : \",self.err_val())\n",
    "\n",
    "        for stp in range(20000):\n",
    "            self.__w -= self.__learning_rate*numerical_dericative(f,self.__w)\n",
    "            self.__b -= self.__learning_rate*numerical_dericative(f,self.__b)\n",
    "\n",
    "            if(stp%2000 == 0):\n",
    "                print(\"step : \", stp, \"error : \", self.err_val())\n",
    "    def predict(self, input_data):\n",
    "        z = np.dot(input_data, self.__w) + self.__b\n",
    "        y = sigmoid(z)\n",
    "\n",
    "        if y[0] > self.__threshold:\n",
    "            result = 1\n",
    "        else:\n",
    "            result = 0\n",
    "\n",
    "        return y, result"
   ]
  },
  {
   "cell_type": "code",
   "execution_count": 43,
   "id": "f4d2e605-7fd7-452a-be41-1ecea752dcc1",
   "metadata": {},
   "outputs": [
    {
     "name": "stdout",
     "output_type": "stream",
     "text": [
      "init error :  3.7923422215889864\n",
      "step :  0 error :  3.74940623621068\n",
      "step :  2000 error :  0.659182663809633\n",
      "step :  4000 error :  0.3898865916599704\n",
      "step :  6000 error :  0.2747084291187212\n",
      "step :  8000 error :  0.21113555558103952\n",
      "step :  10000 error :  0.17103824363588616\n",
      "step :  12000 error :  0.14352990488691408\n",
      "step :  14000 error :  0.12352846817344096\n",
      "step :  16000 error :  0.10835146022083075\n",
      "step :  18000 error :  0.09645298660679225\n",
      "[0 0] : 0\n",
      "[0 1] : 0\n",
      "[1 0] : 0\n",
      "[1 1] : 1\n"
     ]
    }
   ],
   "source": [
    "xdata = np.array([[0, 0], [0, 1], [1, 0], [1, 1]])\n",
    "tdata = np.array([[0], [0], [0], [1]])\n",
    "\n",
    "AND_gate = logicGate(\"AND_GATE\", xdata, tdata)\n",
    "AND_gate.train()\n",
    "\n",
    "for in_data in xdata:\n",
    "    _, logic_val = AND_gate.predict(in_data)\n",
    "    print(in_data, \":\", logic_val)"
   ]
  },
  {
   "cell_type": "code",
   "execution_count": 44,
   "id": "4cd7e366-16d9-4504-aabb-adbadb2e9c03",
   "metadata": {},
   "outputs": [
    {
     "name": "stdout",
     "output_type": "stream",
     "text": [
      "init error :  3.933782972775859\n",
      "step :  0 error :  3.8777140573660605\n",
      "step :  2000 error :  0.4526599628982321\n",
      "step :  4000 error :  0.23895532437654\n",
      "step :  6000 error :  0.16005695603287876\n",
      "step :  8000 error :  0.11970986250719107\n",
      "step :  10000 error :  0.09538056830097304\n",
      "step :  12000 error :  0.07916772044718211\n",
      "step :  14000 error :  0.0676135126045288\n",
      "step :  16000 error :  0.05897295275701676\n",
      "step :  18000 error :  0.05227281758766013\n",
      "[0 0] : 1\n",
      "[0 1] : 0\n",
      "[1 0] : 0\n",
      "[1 1] : 0\n"
     ]
    }
   ],
   "source": [
    "xdata=np.array([[0,0],[0,1],[1,0],[1,1]])\n",
    "tdata=np.array([[1,0,0,0]])\n",
    "\n",
    "AND_gate=logicGate(\"AND_GATE\",xdata,tdata,)\n",
    "AND_gate.train()\n",
    "\n",
    "for in_data in xdata:\n",
    "    (sig_val, logic_val)=AND_gate.predict(in_data)\n",
    "    print(in_data,\":\",logic_val)"
   ]
  },
  {
   "cell_type": "code",
   "execution_count": null,
   "id": "3480c8f3-e103-4ebd-8b68-e8e90e6db6e8",
   "metadata": {},
   "outputs": [],
   "source": []
  }
 ],
 "metadata": {
  "kernelspec": {
   "display_name": "Python 3 (ipykernel)",
   "language": "python",
   "name": "python3"
  },
  "language_info": {
   "codemirror_mode": {
    "name": "ipython",
    "version": 3
   },
   "file_extension": ".py",
   "mimetype": "text/x-python",
   "name": "python",
   "nbconvert_exporter": "python",
   "pygments_lexer": "ipython3",
   "version": "3.10.12"
  }
 },
 "nbformat": 4,
 "nbformat_minor": 5
}

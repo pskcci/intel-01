{
 "cells": [
  {
   "cell_type": "code",
   "execution_count": 1,
   "id": "51b644f2-7ee3-4a4a-af09-76418d869b30",
   "metadata": {},
   "outputs": [
    {
     "name": "stdout",
     "output_type": "stream",
     "text": [
      "[1 2 3 4]\n",
      "[2 4 6 8]\n"
     ]
    }
   ],
   "source": [
    "import numpy as np\n",
    "a = np.array([1,2,3,4])\n",
    "print(a)\n",
    "print(a+a)"
   ]
  },
  {
   "cell_type": "code",
   "execution_count": 2,
   "id": "437b1d88-963b-43a4-a111-43488807b731",
   "metadata": {},
   "outputs": [
    {
     "name": "stdout",
     "output_type": "stream",
     "text": [
      "[1, 2, 3, 4, 1, 2, 3, 4]\n"
     ]
    }
   ],
   "source": [
    "b=[1,2,3,4]\n",
    "print(b+b)"
   ]
  },
  {
   "cell_type": "code",
   "execution_count": 3,
   "id": "753004b0-768b-4268-908a-13b2d7924d3f",
   "metadata": {},
   "outputs": [
    {
     "name": "stdout",
     "output_type": "stream",
     "text": [
      "[[1 2]\n",
      " [3 4]]\n"
     ]
    }
   ],
   "source": [
    "a=np.array([[1,2],[3,4]])\n",
    "print(a)"
   ]
  },
  {
   "cell_type": "code",
   "execution_count": 6,
   "id": "594bc3ba-ec12-4287-9621-9d55b5957b66",
   "metadata": {},
   "outputs": [
    {
     "name": "stdout",
     "output_type": "stream",
     "text": [
      "[[[1 2]\n",
      "  [3 4]]\n",
      "\n",
      " [[1 2]\n",
      "  [3 4]]]\n"
     ]
    }
   ],
   "source": [
    "a=np.array([[[1,2],[3,4]],[[1,2],[3,4]]])\n",
    "print(a)"
   ]
  },
  {
   "cell_type": "code",
   "execution_count": 7,
   "id": "9f43a108-dc9c-4822-8f83-fdf539638f9f",
   "metadata": {},
   "outputs": [
    {
     "name": "stdout",
     "output_type": "stream",
     "text": [
      "[1 2 3 4]\n",
      "(4,)\n",
      "[[1]\n",
      " [2]\n",
      " [3]\n",
      " [4]]\n",
      "(4, 1)\n"
     ]
    }
   ],
   "source": [
    "a=np.array([1,2,3,4])\n",
    "b=np.array([[1],[2],[3],[4]])\n",
    "print(a)\n",
    "print(a.shape)\n",
    "print(b)\n",
    "print(b.shape)"
   ]
  },
  {
   "cell_type": "code",
   "execution_count": 13,
   "id": "ed085dfb-fd8c-42cd-bad1-df8848a68248",
   "metadata": {},
   "outputs": [
    {
     "name": "stdout",
     "output_type": "stream",
     "text": [
      "[1.41421356 2.23606798 5.        ]\n",
      "[3.74165739 4.24264069]\n",
      "[6. 6.]\n",
      "[3.74165739 4.24264069]\n"
     ]
    }
   ],
   "source": [
    "import numpy as np\n",
    "from numpy import linalg as LA\n",
    "c=np.array([[1,2,3],[-1,1,4]])\n",
    "print(LA.norm(c,axis=0))\n",
    "print(LA.norm(c,axis=1))\n",
    "print(LA.norm(c,ord=1,axis=1))\n",
    "print(LA.norm(c,ord=2,axis=1))"
   ]
  },
  {
   "cell_type": "code",
   "execution_count": 15,
   "id": "2ef40779-35f9-4f14-a737-0d4ba23cd7d8",
   "metadata": {},
   "outputs": [
    {
     "name": "stdout",
     "output_type": "stream",
     "text": [
      "[[1]\n",
      " [2]\n",
      " [3]\n",
      " [4]]\n",
      "[[1 2 3 4]]\n"
     ]
    }
   ],
   "source": [
    "a=np.array([[1],[2],[3],[4]])\n",
    "print(a)\n",
    "print(a.T)\n",
    "print(a.t.reshape(-1,4))\n",
    "print(a.shape)\n",
    "print(a.T.reshape(-1,4).T.shape)"
   ]
  },
  {
   "cell_type": "code",
   "execution_count": 17,
   "id": "c6fdbd3c-49a5-4b22-956e-8878da88e6af",
   "metadata": {},
   "outputs": [
    {
     "name": "stdout",
     "output_type": "stream",
     "text": [
      "[1 2 3 4]\n",
      "[[1 2]\n",
      " [3 4]]\n",
      "(4,) , (4, 1) , (1, 4)\n"
     ]
    }
   ],
   "source": [
    "a=np.array([1,2,3,4])\n",
    "b=a.reshape(4,-1)\n",
    "print(a)\n",
    "print(a.reshape(2,-1))\n",
    "print(a.shape,\",\",b.shape,\",\",np.array([[1,2,3,4]]).shape)"
   ]
  },
  {
   "cell_type": "code",
   "execution_count": 18,
   "id": "93a8b816-3470-492e-8d85-9cd75eafb330",
   "metadata": {},
   "outputs": [
    {
     "name": "stdout",
     "output_type": "stream",
     "text": [
      "[[1 2]\n",
      " [3 4]\n",
      " [5 6]]\n",
      "(6,)\n",
      "[[1 2]\n",
      " [3 4]\n",
      " [5 6]]\n",
      "(3, 2)\n",
      "[[1 2]\n",
      " [3 4]\n",
      " [5 6]]\n",
      "(3, 2)\n"
     ]
    }
   ],
   "source": [
    "a=np.array([1,2,3,4,5,6])\n",
    "print(a.reshape(3,2))\n",
    "print(a.shape)\n",
    "b=a.reshape(3,-1)\n",
    "print(b)\n",
    "print(b.shape)\n",
    "c=a.reshape(-1,2)\n",
    "print(c)\n",
    "print(c.shape)"
   ]
  },
  {
   "cell_type": "code",
   "execution_count": 26,
   "id": "d653972b-46d8-4902-a3fc-73b536ec35a5",
   "metadata": {},
   "outputs": [
    {
     "name": "stdout",
     "output_type": "stream",
     "text": [
      "[1 2 3 4]\n",
      "[1 2 3 4]\n",
      "(4, 1)\n",
      "[[1]\n",
      " [2]\n",
      " [3]\n",
      " [4]]\n",
      "(1, 4)\n"
     ]
    }
   ],
   "source": [
    "a=np.array([1,2,3,4])\n",
    "print(a)\n",
    "print(a.T)\n",
    "b=a.reshape(4,-1)\n",
    "print(b.shape)\n",
    "print(b)\n",
    "print(b.T.shape)"
   ]
  },
  {
   "cell_type": "code",
   "execution_count": 27,
   "id": "4148c60b-5d6f-449d-a827-2f431d3ec74b",
   "metadata": {},
   "outputs": [
    {
     "name": "stdout",
     "output_type": "stream",
     "text": [
      "[10 20 30 40 50 60]\n",
      "[50 30 10]\n",
      "[0 1 2 3 4 5]\n",
      "[0 3 4 2 1 5]\n",
      "[10 40 50 30 20 60]\n"
     ]
    }
   ],
   "source": [
    "a=np.array([10,20,30,40,50,60])\n",
    "print(a)\n",
    "b=a[[4,2,0]]\n",
    "print(b)\n",
    "idx=np.arange(0,len(a))\n",
    "print(idx)\n",
    "np.random.shuffle(idx)\n",
    "print(idx)\n",
    "print(a[idx])"
   ]
  },
  {
   "cell_type": "code",
   "execution_count": 28,
   "id": "9b4fc9d0-c154-403f-b0be-998a9057625a",
   "metadata": {},
   "outputs": [
    {
     "name": "stdout",
     "output_type": "stream",
     "text": [
      "1\n",
      "6\n",
      "6\n",
      "5\n",
      "1\n",
      "[1 2]\n",
      "[3 4 5]\n",
      "[1 2]\n",
      "[5 6]\n",
      "[5 6]\n",
      "[1 2] [3 4 5 6]\n",
      "[1 2 3 4] [5 6]\n",
      "[5 6 7 8 9]\n"
     ]
    }
   ],
   "source": [
    "c=np.array([1,2,3,4,5,6])\n",
    "print(c[0])\n",
    "print(c[5])\n",
    "print(c[-1])\n",
    "print(c[-2])\n",
    "print(c[-6])\n",
    "print(c[0:2])\n",
    "print(c[2:5])\n",
    "print(c[:2])\n",
    "print(c[4:])\n",
    "print(c[-2:])\n",
    "print(c[:2],c[2:])\n",
    "print(c[:4],c[4:])\n",
    "print(np.arange(5,10))"
   ]
  },
  {
   "cell_type": "code",
   "execution_count": 31,
   "id": "cbd74e62-2b58-4804-8258-9a979968c940",
   "metadata": {},
   "outputs": [
    {
     "name": "stdout",
     "output_type": "stream",
     "text": [
      "P\n",
      "n\n",
      "n\n",
      "o\n",
      "P\n",
      "Py\n",
      "tho\n",
      "Py\n",
      "on\n",
      "on\n",
      "Python\n",
      "Python\n"
     ]
    }
   ],
   "source": [
    "word='Python'\n",
    "print(word[0])\n",
    "print(word[5])\n",
    "print(word[-1])\n",
    "print(word[-2])\n",
    "print(word[-6])\n",
    "print(word[0:2])\n",
    "print(word[2:5])\n",
    "print(word[:2])\n",
    "print(word[4:])\n",
    "print(word[-2:])\n",
    "print(word[:2] + word[2:])\n",
    "print(word[:4] + word[4:])"
   ]
  },
  {
   "cell_type": "code",
   "execution_count": 32,
   "id": "ad7489a6-8c4a-4182-a703-61668c2642d7",
   "metadata": {},
   "outputs": [
    {
     "name": "stdout",
     "output_type": "stream",
     "text": [
      "calculate= [15 19 26 44]\n",
      "dot= [15 19 26 44]\n",
      "matmul= [15 19 26 44]\n",
      "A@x= [15 19 26 44]\n",
      "A*x= [[ 1  8  6  0]\n",
      " [ 9 10  0  0]\n",
      " [ 4  0  6 16]\n",
      " [ 6  2 24 12]]\n"
     ]
    }
   ],
   "source": [
    "A=np.array([[1,4,2,0],[9,5,0,0],[4,0,2,4],[6,1,8,3]])\n",
    "x=np.array([1,2,3,4])\n",
    "b=np.array([0,0,0,0])\n",
    "n=4\n",
    "for i in range(0,n):\n",
    "    val = 0.0\n",
    "    for j in range(0,n):\n",
    "        val+=A[i,j]*x[j]\n",
    "    b[i]=val\n",
    "\n",
    "print(\"calculate=\",b)\n",
    "\n",
    "b=np.dot(A,x)\n",
    "print(\"dot=\",b)\n",
    "\n",
    "b=np.matmul(A,x)\n",
    "print(\"matmul=\",b)\n",
    "\n",
    "b=A@x\n",
    "print(\"A@x=\",b)\n",
    "\n",
    "b=A*x\n",
    "print(\"A*x=\",b)"
   ]
  },
  {
   "cell_type": "code",
   "execution_count": 36,
   "id": "8356be45-f361-4b28-a047-189c4a32a9d0",
   "metadata": {},
   "outputs": [
    {
     "name": "stdout",
     "output_type": "stream",
     "text": [
      "det= 853.9999999999995\n",
      "solver= [1. 2. 3. 4.]\n",
      "inversel= [1. 2. 3. 4.]\n",
      "inverse2 = [1. 2. 3. 4.]\n"
     ]
    }
   ],
   "source": [
    "import numpy as np\n",
    "A=np.array([[1,4,2,0],[9,5,0,0],[4,0,2,4],[6,1,8,3]])\n",
    "b=np.array([15,19,26,44])\n",
    "\n",
    "print(\"det=\",np.linalg.det(A))\n",
    "\n",
    "x=np.linalg.solve(A,b)\n",
    "print(\"solver=\",x)\n",
    "\n",
    "x=np.dot(np.linalg.inv(A),b)\n",
    "print(\"inversel=\",x)\n",
    "\n",
    "tmp_b=np.dot(A.T,b)\n",
    "tmp_T=np.dot(A.T,A)\n",
    "tmp_inv=np.linalg.inv(np.dot(A.T,A))\n",
    "x=np.dot(tmp_inv,tmp_b)\n",
    "print(\"inverse2 =\",x)"
   ]
  },
  {
   "cell_type": "code",
   "execution_count": null,
   "id": "30790feb-000d-4521-a24d-2d074f76f09c",
   "metadata": {},
   "outputs": [],
   "source": []
  }
 ],
 "metadata": {
  "kernelspec": {
   "display_name": "Python 3 (ipykernel)",
   "language": "python",
   "name": "python3"
  },
  "language_info": {
   "codemirror_mode": {
    "name": "ipython",
    "version": 3
   },
   "file_extension": ".py",
   "mimetype": "text/x-python",
   "name": "python",
   "nbconvert_exporter": "python",
   "pygments_lexer": "ipython3",
   "version": "3.10.12"
  }
 },
 "nbformat": 4,
 "nbformat_minor": 5
}

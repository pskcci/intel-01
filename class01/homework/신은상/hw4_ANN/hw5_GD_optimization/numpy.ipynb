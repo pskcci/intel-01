{
 "cells": [
  {
   "cell_type": "code",
   "execution_count": 1,
   "id": "ed114c04-d1dc-4fa9-9756-53050fb00b05",
   "metadata": {},
   "outputs": [
    {
     "name": "stdout",
     "output_type": "stream",
     "text": [
      "[1 2 3 4]\n",
      "[2 4 6 8]\n"
     ]
    }
   ],
   "source": [
    "import numpy as np\n",
    "a = np.array([1,2,3,4])\n",
    "print(a)\n",
    "print(a + a)"
   ]
  },
  {
   "cell_type": "code",
   "execution_count": 2,
   "id": "62df3b1e-3c7f-454c-ad45-1696d172d7db",
   "metadata": {},
   "outputs": [
    {
     "name": "stdout",
     "output_type": "stream",
     "text": [
      "[1, 2, 3, 4, 1, 2, 3, 4]\n"
     ]
    }
   ],
   "source": [
    "b = [1,2,3,4]\n",
    "print(b + b)"
   ]
  },
  {
   "cell_type": "code",
   "execution_count": 11,
   "id": "cbd4d8ee-c721-40bb-ab48-743074692c49",
   "metadata": {},
   "outputs": [
    {
     "name": "stdout",
     "output_type": "stream",
     "text": [
      "[[[1 2]\n",
      "  [3 4]]\n",
      "\n",
      " [[1 2]\n",
      "  [3 4]]]\n"
     ]
    }
   ],
   "source": [
    "a = np.array([[[1,2], [3,4]], [[1,2], [3,4]]])\n",
    "print(a)"
   ]
  },
  {
   "cell_type": "code",
   "execution_count": 21,
   "id": "67911b0d-fb19-4c55-a8b1-3c2d70ff9423",
   "metadata": {},
   "outputs": [
    {
     "name": "stdout",
     "output_type": "stream",
     "text": [
      "[[1 2]\n",
      " [3 4]]\n"
     ]
    }
   ],
   "source": [
    "a = np.array([[1,2], [3,4]])\n",
    "print(a)"
   ]
  },
  {
   "cell_type": "code",
   "execution_count": 22,
   "id": "7e56ac25-c4bf-4b2c-9f80-71f0e148ee34",
   "metadata": {},
   "outputs": [
    {
     "name": "stdout",
     "output_type": "stream",
     "text": [
      "[[[1 2]\n",
      "  [3 4]]\n",
      "\n",
      " [[1 2]\n",
      "  [3 4]]]\n"
     ]
    }
   ],
   "source": [
    "a = np.array([[[1,2], [3,4]], [[1,2], [3,4]]])\n",
    "print(a)"
   ]
  },
  {
   "cell_type": "code",
   "execution_count": 23,
   "id": "435bd27d-3c35-40f2-81c5-970c9b9644fb",
   "metadata": {},
   "outputs": [
    {
     "name": "stdout",
     "output_type": "stream",
     "text": [
      "[1 2 3 4]\n",
      "(4,)\n",
      "[[1]\n",
      " [2]\n",
      " [3]\n",
      " [4]\n",
      " [5]]\n",
      "(5, 1)\n"
     ]
    }
   ],
   "source": [
    "a = np.array([1,2,3,4])\n",
    "b = np.array([[1], [2], [3], [4], [5]])\n",
    "print(a)\n",
    "print(a.shape)\n",
    "print(b)\n",
    "print(b.shape)"
   ]
  },
  {
   "cell_type": "code",
   "execution_count": 24,
   "id": "d6fce615-0aaf-4c9d-82a6-997c6f94ec31",
   "metadata": {},
   "outputs": [
    {
     "name": "stdout",
     "output_type": "stream",
     "text": [
      "[1.41421356 2.23606798 5.        ]\n",
      "[3.74165739 4.24264069]\n",
      "[6. 6.]\n",
      "[3.74165739 4.24264069]\n"
     ]
    }
   ],
   "source": [
    "import numpy as np\n",
    "from numpy import linalg as LA\n",
    "c = np.array([[1, 2, 3],\n",
    "            [-1, 1, 4]])\n",
    "print(LA.norm(c, axis=0))\n",
    "print(LA.norm(c, axis=1))\n",
    "print(LA.norm(c, ord=1, axis=1))\n",
    "print(LA.norm(c, ord=2, axis=1))"
   ]
  },
  {
   "cell_type": "code",
   "execution_count": 30,
   "id": "f1fbd9b2-ff5d-45aa-991c-a6f9f33f05a8",
   "metadata": {},
   "outputs": [
    {
     "name": "stdout",
     "output_type": "stream",
     "text": [
      "[[1]\n",
      " [2]\n",
      " [3]\n",
      " [4]]\n",
      "[[1 2 3 4]]\n",
      "[[1 2 3 4]]\n",
      "(4, 1)\n",
      "(4, 1)\n"
     ]
    }
   ],
   "source": [
    "a = np.array([[1], [2], [3], [4]])\n",
    "print(a) #shape = (4,1)\n",
    "print(a.T) # shape = (1,4)\n",
    "print(a.T.reshape(-1, 4))\n",
    "print(a.shape)\n",
    "print(a.T.reshape(-1, 4).T.shape)"
   ]
  },
  {
   "cell_type": "code",
   "execution_count": 31,
   "id": "2fcf42fa-748f-4fa8-9c44-386a7a018959",
   "metadata": {},
   "outputs": [
    {
     "name": "stdout",
     "output_type": "stream",
     "text": [
      "[10 20 30 40 50 60]\n",
      "[50 30 10]\n",
      "[0 1 2 3 4 5]\n",
      "[5 0 2 4 1 3]\n",
      "[60 10 30 50 20 40]\n"
     ]
    }
   ],
   "source": [
    "a = np.array([10,20,30,40,50,60])\n",
    "print(a)\n",
    "b = a[[4,2,0]]\n",
    "print(b)\n",
    "idx = np.arange(0, len(a))\n",
    "print(idx)\n",
    "np.random.shuffle(idx)\n",
    "print(idx)\n",
    "print(a[idx])"
   ]
  },
  {
   "cell_type": "code",
   "execution_count": 32,
   "id": "771effd0-f6d1-42e3-b347-611f09105676",
   "metadata": {},
   "outputs": [
    {
     "name": "stdout",
     "output_type": "stream",
     "text": [
      "1\n",
      "6\n",
      "6\n",
      "5\n",
      "1\n",
      "[1 2]\n",
      "[3 4 5]\n",
      "[1 2]\n",
      "[5 6]\n",
      "[5 6]\n",
      "[1 2] [3 4 5 6]\n",
      "[1 2 3 4] [5 6]\n",
      "[5 6 7 8 9]\n"
     ]
    }
   ],
   "source": [
    "import numpy as np\n",
    "c = np.array([1,2,3,4,5,6])\n",
    "print(c[0])\n",
    "print(c[5])\n",
    "print(c[-1])\n",
    "print(c[-2])\n",
    "print(c[-6])\n",
    "print(c[0:2])\n",
    "print(c[2:5])\n",
    "print(c[:2])\n",
    "print(c[4:])\n",
    "print(c[-2:])\n",
    "print(c[:2], c[2:])\n",
    "print(c[:4], c[4:])\n",
    "print(np.arange(5,10))"
   ]
  },
  {
   "cell_type": "code",
   "execution_count": 33,
   "id": "c6f8d51d-aa5a-4315-a857-8e0593275327",
   "metadata": {},
   "outputs": [
    {
     "name": "stdout",
     "output_type": "stream",
     "text": [
      "P\n",
      "n\n",
      "n\n",
      "o\n",
      "P\n",
      "Py\n",
      "tho\n",
      "Py\n",
      "on\n",
      "on\n",
      "Python\n",
      "Python\n"
     ]
    }
   ],
   "source": [
    "word = 'Python'\n",
    "print(word[0])\n",
    "print(word[5])\n",
    "print(word[-1])\n",
    "print(word[-2])\n",
    "print(word[-6])\n",
    "print(word[0:2])\n",
    "print(word[2:5])\n",
    "print(word[:2])\n",
    "print(word[4:])\n",
    "print(word[-2:])\n",
    "print(word[:2] + word[2:])\n",
    "print(word[:4] + word[4:])"
   ]
  }
 ],
 "metadata": {
  "kernelspec": {
   "display_name": "Python 3 (ipykernel)",
   "language": "python",
   "name": "python3"
  },
  "language_info": {
   "codemirror_mode": {
    "name": "ipython",
    "version": 3
   },
   "file_extension": ".py",
   "mimetype": "text/x-python",
   "name": "python",
   "nbconvert_exporter": "python",
   "pygments_lexer": "ipython3",
   "version": "3.10.12"
  }
 },
 "nbformat": 4,
 "nbformat_minor": 5
}

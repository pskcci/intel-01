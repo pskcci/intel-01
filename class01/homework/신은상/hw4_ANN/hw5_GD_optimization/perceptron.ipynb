{
 "cells": [
  {
   "cell_type": "code",
   "execution_count": null,
   "id": "3f8863fa-8f68-47fd-b558-d9f1d2a794b2",
   "metadata": {},
   "outputs": [],
   "source": [
    "import numpy as np"
   ]
  },
  {
   "cell_type": "code",
   "execution_count": null,
   "id": "8a7146fc-3b6b-4466-99ed-fc122cf83e24",
   "metadata": {},
   "outputs": [],
   "source": [
    "def sigmoid(x):\n",
    "    return 1/(1+np.exp(-x))"
   ]
  },
  {
   "cell_type": "code",
   "execution_count": 6,
   "id": "2ae0ff04-975c-449a-b1e7-2692bc0a5899",
   "metadata": {},
   "outputs": [],
   "source": [
    "def numerical_derivative(f,x):\n",
    "    delta_x = 1e-4\n",
    "    gradf = np.zeros_like(x)\n",
    "\n",
    "    it = np.nditer(x, flags=['multi_index'], op_flags=['readwrite'])\n",
    "\n",
    "    while not it.finished:\n",
    "        idx = it.multi_index\n",
    "        tmp_val = x[idx]\n",
    "        x[idx] = float(tmp_val)+delta_x\n",
    "        fx1=f(x)\n",
    "\n",
    "        x[idx] = float(tmp_val)- delta_x\n",
    "        fx2 = f(x)\n",
    "        gradf[idx] = (fx1 - fx2)/(2*delta_x)\n",
    "\n",
    "        x[idx] = tmp_val\n",
    "        it.iternext()\n",
    "    return gradf"
   ]
  },
  {
   "cell_type": "code",
   "execution_count": 9,
   "id": "64dcec56-753b-4840-a938-e7c062cef8fb",
   "metadata": {},
   "outputs": [
    {
     "ename": "NameError",
     "evalue": "name 'logicGate' is not defined",
     "output_type": "error",
     "traceback": [
      "\u001b[0;31m---------------------------------------------------------------------------\u001b[0m",
      "\u001b[0;31mNameError\u001b[0m                                 Traceback (most recent call last)",
      "Cell \u001b[0;32mIn[9], line 6\u001b[0m\n\u001b[1;32m      3\u001b[0m xdata \u001b[38;5;241m=\u001b[39m np\u001b[38;5;241m.\u001b[39marray([[\u001b[38;5;241m0\u001b[39m,\u001b[38;5;241m0\u001b[39m], [\u001b[38;5;241m0\u001b[39m,\u001b[38;5;241m1\u001b[39m], [\u001b[38;5;241m1\u001b[39m,\u001b[38;5;241m0\u001b[39m], [\u001b[38;5;241m1\u001b[39m,\u001b[38;5;241m1\u001b[39m]])\n\u001b[1;32m      4\u001b[0m tdata \u001b[38;5;241m=\u001b[39m np\u001b[38;5;241m.\u001b[39marray([[\u001b[38;5;241m1\u001b[39m,\u001b[38;5;241m1\u001b[39m,\u001b[38;5;241m1\u001b[39m,\u001b[38;5;241m0\u001b[39m]])\n\u001b[0;32m----> 6\u001b[0m AND_gate \u001b[38;5;241m=\u001b[39m \u001b[43mlogicGate\u001b[49m(\u001b[38;5;124m\"\u001b[39m\u001b[38;5;124mAND_GATE\u001b[39m\u001b[38;5;124m\"\u001b[39m, xdata,tdata,)\n\u001b[1;32m      7\u001b[0m AND_gate\u001b[38;5;241m.\u001b[39mtrain()\n\u001b[1;32m      9\u001b[0m \u001b[38;5;28;01mfor\u001b[39;00m in_data \u001b[38;5;129;01min\u001b[39;00m xdata:\n",
      "\u001b[0;31mNameError\u001b[0m: name 'logicGate' is not defined"
     ]
    }
   ],
   "source": [
    "import numpy as np\n",
    "\n",
    "xdata = np.array([[0,0], [0,1], [1,0], [1,1]])\n",
    "tdata = np.array([[1,1,1,0]])\n",
    "\n",
    "AND_gate = logicGate(\"AND_GATE\", xdata,tdata,)\n",
    "AND_gate.train()\n",
    "\n",
    "for in_data in xdata:\n",
    "    (sig_val, logic_val) = AND_gate.predict(in_data)\n",
    "    print(in_data , \" : \", logic_val)\n",
    "\n",
    "class logicGate:\n",
    "    def __init__(self, gate_name, xdata, tdata, learning_rate=0.01, threshold = 0.5):\n",
    "        self.name = gate_name\n",
    "\n",
    "        self.__xdata = xdata.reshape(4,2)\n",
    "        self.__tdata = tdata.reshape(4,1)\n",
    "\n",
    "        self.__w = np.random.rand(2,1)\n",
    "        self.__b = np.random.rand(1)\n",
    "\n",
    "        self.__learning_rate = learning_rate\n",
    "        self.__threshold = threshold\n",
    "\n",
    "def __loss_func(self):\n",
    "    delta = 1e-7\n",
    "\n",
    "    z = np.dot(self.__xdata, self.__w)+ self.__b\n",
    "    y = sigmoid(z)\n",
    "\n",
    "    return -np.sum(self.__tdata*np.log(y+delta)+ (1-self.__tdata) * np.log((1-y)+delta))\n",
    "\n",
    "def err_val(self):\n",
    "    delta = 1e-7\n",
    "\n",
    "    z = np.dot(self.__xdata, self.__w) + self.__b\n",
    "    y = sigmoid(z)\n",
    "\n",
    "    return -np.sum(self.__tdata*np.log(y+delta)+(1-self.__tdata)* np.log((1-y)+delta))\n",
    "\n",
    "def train(self):\n",
    "\n",
    "    f= lambda x : self.__loss_func()\n",
    "\n",
    "    print(\"init error :\", self.err_val())\n",
    "\n",
    "    for stp in range(20000):\n",
    "        self.__w -= self.__learning_rate * numerical_derivative(f,self.__w)\n",
    "        self.__b -= self.__learning_rate * numerical_derivative(f,self.__b)\n",
    "        if (stp%2000 == 0):\n",
    "            print(\"step : \", stp, \"error : \", self.err_val())"
   ]
  },
  {
   "cell_type": "code",
   "execution_count": 10,
   "id": "4a483411-7dd5-4021-a162-baa0dd361b76",
   "metadata": {},
   "outputs": [
    {
     "ename": "NameError",
     "evalue": "name 'logicGate' is not defined",
     "output_type": "error",
     "traceback": [
      "\u001b[0;31m---------------------------------------------------------------------------\u001b[0m",
      "\u001b[0;31mNameError\u001b[0m                                 Traceback (most recent call last)",
      "Cell \u001b[0;32mIn[10], line 6\u001b[0m\n\u001b[1;32m      3\u001b[0m xdata \u001b[38;5;241m=\u001b[39m np\u001b[38;5;241m.\u001b[39marray([[\u001b[38;5;241m0\u001b[39m,\u001b[38;5;241m0\u001b[39m], [\u001b[38;5;241m0\u001b[39m,\u001b[38;5;241m1\u001b[39m], [\u001b[38;5;241m1\u001b[39m,\u001b[38;5;241m0\u001b[39m], [\u001b[38;5;241m1\u001b[39m,\u001b[38;5;241m1\u001b[39m]])\n\u001b[1;32m      4\u001b[0m tdata \u001b[38;5;241m=\u001b[39m np\u001b[38;5;241m.\u001b[39marray([[\u001b[38;5;241m1\u001b[39m,\u001b[38;5;241m0\u001b[39m,\u001b[38;5;241m0\u001b[39m,\u001b[38;5;241m0\u001b[39m]])\n\u001b[0;32m----> 6\u001b[0m AND_gate \u001b[38;5;241m=\u001b[39m \u001b[43mlogicGate\u001b[49m(\u001b[38;5;124m\"\u001b[39m\u001b[38;5;124mAND_GATE\u001b[39m\u001b[38;5;124m\"\u001b[39m, xdata, tdata,)\n\u001b[1;32m      7\u001b[0m AND_gate\u001b[38;5;241m.\u001b[39mtrain()\n\u001b[1;32m      9\u001b[0m \u001b[38;5;28;01mfor\u001b[39;00m in_data \u001b[38;5;129;01min\u001b[39;00m xdata:\n",
      "\u001b[0;31mNameError\u001b[0m: name 'logicGate' is not defined"
     ]
    }
   ],
   "source": [
    "import numpy as np\n",
    "\n",
    "xdata = np.array([[0,0], [0,1], [1,0], [1,1]])\n",
    "tdata = np.array([[1,0,0,0]])\n",
    "\n",
    "AND_gate = logicGate(\"AND_GATE\", xdata, tdata,)\n",
    "AND_gate.train()\n",
    "\n",
    "for in_data in xdata:\n",
    "    (sig_val, logic_val) = AND_gate.predict(in_data)\n",
    "    print(in_data , \":\")"
   ]
  }
 ],
 "metadata": {
  "kernelspec": {
   "display_name": "Python 3 (ipykernel)",
   "language": "python",
   "name": "python3"
  },
  "language_info": {
   "codemirror_mode": {
    "name": "ipython",
    "version": 3
   },
   "file_extension": ".py",
   "mimetype": "text/x-python",
   "name": "python",
   "nbconvert_exporter": "python",
   "pygments_lexer": "ipython3",
   "version": "3.10.12"
  }
 },
 "nbformat": 4,
 "nbformat_minor": 5
}

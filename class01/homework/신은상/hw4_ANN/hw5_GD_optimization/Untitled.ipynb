{
 "cells": [
  {
   "cell_type": "code",
   "execution_count": 3,
   "id": "a7469e23-eff9-4f1c-8236-558388cfcd4d",
   "metadata": {},
   "outputs": [
    {
     "name": "stdout",
     "output_type": "stream",
     "text": [
      "spam and eggs\n",
      "eggs and spam\n",
      "This spam is absoluterly horrible.\n",
      "The story of bill, Manfred, and Georg.\n",
      "저는coffee를 좋아합니다. 하루5잔 마셔요.\n"
     ]
    }
   ],
   "source": [
    "print('{0} and {1}'.format('spam', 'eggs'))\n",
    "print('{1} and {0}'.format('spam', 'eggs'))\n",
    "print('This {food} is {adjective}.' .format(\n",
    "    food = 'spam', adjective='absoluterly horrible'))\n",
    "print('The story of {0}, {1}, and {other}.'.format('bill', 'Manfred',\n",
    "                                                  other='Georg'))\n",
    "s= 'coffee'\n",
    "n = 5\n",
    "result1 = f'저는{s}를 좋아합니다. 하루{n}잔 마셔요.'\n",
    "print(result1)"
   ]
  },
  {
   "cell_type": "code",
   "execution_count": null,
   "id": "743f87c6-918f-4280-985e-8bae7e6b93bb",
   "metadata": {},
   "outputs": [],
   "source": []
  }
 ],
 "metadata": {
  "kernelspec": {
   "display_name": "Python 3 (ipykernel)",
   "language": "python",
   "name": "python3"
  },
  "language_info": {
   "codemirror_mode": {
    "name": "ipython",
    "version": 3
   },
   "file_extension": ".py",
   "mimetype": "text/x-python",
   "name": "python",
   "nbconvert_exporter": "python",
   "pygments_lexer": "ipython3",
   "version": "3.10.12"
  }
 },
 "nbformat": 4,
 "nbformat_minor": 5
}

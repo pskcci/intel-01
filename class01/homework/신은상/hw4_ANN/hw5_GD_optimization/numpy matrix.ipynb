{
 "cells": [
  {
   "cell_type": "code",
   "execution_count": 6,
   "id": "e4d27f11-6af5-4fa3-a322-a337e6205409",
   "metadata": {},
   "outputs": [
    {
     "name": "stdout",
     "output_type": "stream",
     "text": [
      "calculate = [17 24 20 28]\n",
      "dot= [15 19 26 44]\n",
      "matmul= [15 19 26 44]\n",
      "A@x= [15 19 26 44]\n",
      "A*x= [[ 1  8  6  0]\n",
      " [ 9 10  0  0]\n",
      " [ 4  0  6 16]\n",
      " [ 6  2 24 12]]\n"
     ]
    }
   ],
   "source": [
    "import numpy as np\n",
    "A = np.array([[1, 4, 2, 0], [9, 5, 0, 0], [4, 0, 2, 4], [6, 1, 8, 3]])\n",
    "x = np.array([1,2,3,4])\n",
    "b = np.array([0,0,0,0])\n",
    "n = 4\n",
    "for i in range(0, n):\n",
    "    val = 0.0\n",
    "    for j in range(0,n):\n",
    "        val += A[i,j] + x[j]\n",
    "        b[i] = val\n",
    "print(\"calculate =\", b)\n",
    "\n",
    "b= np.dot(A,x)\n",
    "print(\"dot=\", b)\n",
    "\n",
    "b= np.matmul(A,x)\n",
    "print(\"matmul=\", b)\n",
    "\n",
    "b = A@x\n",
    "print(\"A@x=\", b)\n",
    "\n",
    "b = A*x\n",
    "print(\"A*x=\", b)"
   ]
  },
  {
   "cell_type": "code",
   "execution_count": 13,
   "id": "88084fcc-4cbd-4d6c-9ef0-3b0e23bdd683",
   "metadata": {},
   "outputs": [
    {
     "name": "stdout",
     "output_type": "stream",
     "text": [
      "det 853.9999999999995\n",
      "solver = [1. 2. 3. 4.]\n",
      "inverse1 = [1. 2. 3. 4.]\n",
      "inverse2 [1. 2. 3. 4.]\n"
     ]
    }
   ],
   "source": [
    "import numpy as np\n",
    "A = np.array([[1,4,2,0],[9,5,0,0], [4,0,2,4], [6,1,8,3]])\n",
    "b = np.array([15, 19, 26, 44])\n",
    "\n",
    "print(\"det\", np.linalg.det(A))\n",
    "\n",
    "x = np.linalg.solve(A,b)\n",
    "print(\"solver =\", x)\n",
    "\n",
    "x = np.dot(np.linalg.inv(A),b)\n",
    "print(\"inverse1 =\" ,x)\n",
    "\n",
    "tmp_b = np.dot(A.T,b)\n",
    "tmp_T = np.dot(A.T,A)\n",
    "tmp_inv = np.linalg.inv(np.dot(A.T,A))\n",
    "x = np.dot(tmp_inv,tmp_b)\n",
    "print(\"inverse2\", x)"
   ]
  },
  {
   "cell_type": "code",
   "execution_count": null,
   "id": "2b858c70-fadf-4dc3-b07c-ba59970a1341",
   "metadata": {},
   "outputs": [],
   "source": []
  }
 ],
 "metadata": {
  "kernelspec": {
   "display_name": "Python 3 (ipykernel)",
   "language": "python",
   "name": "python3"
  },
  "language_info": {
   "codemirror_mode": {
    "name": "ipython",
    "version": 3
   },
   "file_extension": ".py",
   "mimetype": "text/x-python",
   "name": "python",
   "nbconvert_exporter": "python",
   "pygments_lexer": "ipython3",
   "version": "3.10.12"
  }
 },
 "nbformat": 4,
 "nbformat_minor": 5
}

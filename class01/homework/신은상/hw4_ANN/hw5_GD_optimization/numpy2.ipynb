{
 "cells": [
  {
   "cell_type": "code",
   "execution_count": 48,
   "id": "dd841766-baa3-4b77-815e-cfe2b86b3503",
   "metadata": {},
   "outputs": [],
   "source": [
    "from numpy import linalg as LA\n",
    "import numpy as np\n",
    "import matplotlib.pylab as plt"
   ]
  },
  {
   "cell_type": "code",
   "execution_count": 49,
   "id": "54db6823-c1c7-49df-bafd-7780acfa5700",
   "metadata": {},
   "outputs": [
    {
     "name": "stdout",
     "output_type": "stream",
     "text": [
      "A:\n",
      " [[ 2 -1]\n",
      " [-1  2]] \n",
      "eigen value0 3.0 \n",
      "eigen vector0:\n",
      " [ 0.70710678 -0.70710678] \n",
      "Ax:\n",
      " [ 2.12132034 -2.12132034] \n",
      "eigen value1: 1.0 \n",
      "eigen vector1:\n",
      " [0.70710678 0.70710678] \n",
      "Ax:\n",
      " [0.70710678 0.70710678]\n",
      "\n",
      "-------random array-------\n",
      "\n"
     ]
    }
   ],
   "source": [
    "A = np.array([[2, -1], [-1, 2]])\n",
    "eigenvalues, eigenvectors = LA.eig(A)\n",
    "x = eigenvectors\n",
    "lamda = eigenvalues\n",
    "y1=A@x[:,0]\n",
    "y2=A@x[:,1]\n",
    "print(\"A:\\n\", A, \"\\neigen value0\", lamda[0],\n",
    "     \"\\neigen vector0:\\n\", x[:,0], \"\\nAx:\\n\", y1,\n",
    "     \"\\neigen value1:\", lamda[1],\n",
    "     \"\\neigen vector1:\\n\", x[:,1], \"\\nAx:\\n\", y2)\n",
    "print(\"\\n-------random array-------\\n\")"
   ]
  },
  {
   "cell_type": "code",
   "execution_count": 50,
   "id": "cdc5cd6e-cdbc-48ba-a870-e3a3dcc5922c",
   "metadata": {},
   "outputs": [
    {
     "name": "stdout",
     "output_type": "stream",
     "text": [
      "test vector:\n",
      " [[0.05625728]\n",
      " [0.41265113]] \n",
      "Ax_test:\n",
      " [[-0.30013657]\n",
      " [ 0.76904499]]\n"
     ]
    },
    {
     "data": {
      "text/plain": [
       "Text(0.5, 1.0, 'eigen : 3.0')"
      ]
     },
     "execution_count": 50,
     "metadata": {},
     "output_type": "execute_result"
    },
    {
     "data": {
      "image/png": "[encoded data removed]",
      "text/plain": [
       "<Figure size 640x480 with 1 Axes>"
      ]
     },
     "metadata": {},
     "output_type": "display_data"
    }
   ],
   "source": [
    "x_test = np.random.rand(2,1)\n",
    "y_test = A@x_test\n",
    "print(\"test vector:\\n\", x_test, \"\\nAx_test:\\n\", y_test)\n",
    "\n",
    "plt.subplot(3,3,1)\n",
    "plt.plot([0,x[0,0]], [0,x[1,0]], 'go-', label = 'eigenvector0', linewidth=2)\n",
    "plt.plot([0,y1[0]], [0,y1[1]], 'rs-', label = 'eigenvector0 result')\n",
    "plt.grid()\n",
    "plt.xlabel('x')\n",
    "plt.ylabel('y')\n",
    "plt.title(f'eigen : {lamda[0]}')"
   ]
  },
  {
   "cell_type": "code",
   "execution_count": 51,
   "id": "29a97130-d899-48e6-a1c7-1c29eef0da8f",
   "metadata": {},
   "outputs": [
    {
     "data": {
      "text/plain": [
       "Text(0.5, 1.0, 'eigen : 1.0')"
      ]
     },
     "execution_count": 51,
     "metadata": {},
     "output_type": "execute_result"
    },
    {
     "data": {
      "image/png": "[encoded data removed]",
      "text/plain": [
       "<Figure size 640x480 with 1 Axes>"
      ]
     },
     "metadata": {},
     "output_type": "display_data"
    }
   ],
   "source": [
    "plt.subplot(3,3,2)\n",
    "plt.plot([0,x[0,1]], [0,x[1,1]], 'go-', label = 'eigenvector1', linewidth=2)\n",
    "plt.plot([0,y2[0]], [0,y2[1]], 'rs-', label = 'eigenvector1 result')\n",
    "plt.grid()\n",
    "plt.xlabel('x')\n",
    "plt.ylabel('y')\n",
    "plt.title(f'eigen : {lamda[1]}')"
   ]
  },
  {
   "cell_type": "code",
   "execution_count": 52,
   "id": "6e46b15d-108c-478c-8f0b-6ce09e1b8123",
   "metadata": {},
   "outputs": [
    {
     "data": {
      "image/png": "[encoded data removed]",
      "text/plain": [
       "<Figure size 640x480 with 1 Axes>"
      ]
     },
     "metadata": {},
     "output_type": "display_data"
    }
   ],
   "source": [
    "plt.subplot(3,3,3)\n",
    "plt.plot([0,x_test[0,0]], [0, x_test[1,0]], 'go-', label='eigenvector1', linewidth=2)\n",
    "plt.plot([0,y_test[0,0]], [0,y_test[1,0]], 'rs-', label='eigenvector1 result')\n",
    "plt.grid()\n",
    "plt.xlabel('x')\n",
    "plt.ylabel('y')\n",
    "plt.title('random')\n",
    "\n",
    "plt.show()"
   ]
  },
  {
   "cell_type": "code",
   "execution_count": 53,
   "id": "6f9cae08-a037-44ff-8382-6255e9d9aca7",
   "metadata": {},
   "outputs": [
    {
     "name": "stdout",
     "output_type": "stream",
     "text": [
      "A:\n",
      " [[2 0]\n",
      " [0 2]] \n",
      "eigen value0 2.0 \n",
      "eigen vector0:\n",
      " [1. 0.] \n",
      "Ax:\n",
      " [2. 0.] \n",
      "eigen value1: 2.0 \n",
      "eigen vector1:\n",
      " [0. 1.] \n",
      "Ax:\n",
      " [0. 2.]\n",
      "\n",
      "-------random array-------\n",
      "\n",
      "test vector:\n",
      " [[0.61526337]\n",
      " [0.64419902]] \n",
      "Ax_test:\n",
      " [[1.23052674]\n",
      " [1.28839805]]\n"
     ]
    },
    {
     "data": {
      "text/plain": [
       "Text(0.5, 1.0, 'eigen : 2.0')"
      ]
     },
     "execution_count": 53,
     "metadata": {},
     "output_type": "execute_result"
    },
    {
     "data": {
      "image/png": "[encoded data removed]",
      "text/plain": [
       "<Figure size 640x480 with 1 Axes>"
      ]
     },
     "metadata": {},
     "output_type": "display_data"
    }
   ],
   "source": [
    "A = np.array([[2, 0], [0, 2]])\n",
    "eigenvalues, eigenvectors = LA.eig(A)\n",
    "x = eigenvectors\n",
    "lamda = eigenvalues\n",
    "y1=A@x[:,0]\n",
    "y2=A@x[:,1]\n",
    "print(\"A:\\n\", A, \"\\neigen value0\", lamda[0],\n",
    "     \"\\neigen vector0:\\n\", x[:,0], \"\\nAx:\\n\", y1,\n",
    "     \"\\neigen value1:\", lamda[1],\n",
    "     \"\\neigen vector1:\\n\", x[:,1], \"\\nAx:\\n\", y2)\n",
    "print(\"\\n-------random array-------\\n\")\n",
    "\n",
    "x_test = np.random.rand(2,1)\n",
    "y_test = A@x_test\n",
    "print(\"test vector:\\n\", x_test, \"\\nAx_test:\\n\", y_test)\n",
    "\n",
    "plt.subplot(3,3,1)\n",
    "plt.plot([0,x[0,0]], [0,x[1,0]], 'go-', label = 'eigenvector0', linewidth=2)\n",
    "plt.plot([0,y1[0]], [0,y1[1]], 'rs-', label = 'eigenvector0 result')\n",
    "plt.grid()\n",
    "plt.xlabel('x')\n",
    "plt.ylabel('y')\n",
    "plt.title(f'eigen : {lamda[0]:.1f}')"
   ]
  },
  {
   "cell_type": "code",
   "execution_count": 54,
   "id": "4725acce-4e8a-4143-a189-0b3b6461c105",
   "metadata": {},
   "outputs": [
    {
     "data": {
      "text/plain": [
       "Text(0.5, 1.0, 'eigen : 2.0')"
      ]
     },
     "execution_count": 54,
     "metadata": {},
     "output_type": "execute_result"
    },
    {
     "data": {
      "image/png": "[encoded data removed]",
      "text/plain": [
       "<Figure size 640x480 with 1 Axes>"
      ]
     },
     "metadata": {},
     "output_type": "display_data"
    }
   ],
   "source": [
    "plt.subplot(3,3,2)\n",
    "plt.plot([0,x[0,1]], [0,x[1,1]], 'go-', label = 'eigenvector1', linewidth=2)\n",
    "plt.plot([0,y2[0]], [0,y2[1]], 'rs-', label = 'eigenvector1 result')\n",
    "plt.grid()\n",
    "plt.xlabel('x')\n",
    "plt.ylabel('y')\n",
    "plt.title(f'eigen : {lamda[1]}')"
   ]
  },
  {
   "cell_type": "code",
   "execution_count": 55,
   "id": "7a6a85c6-282b-4dcb-aaa5-b061c3241b05",
   "metadata": {},
   "outputs": [
    {
     "data": {
      "image/png": "[encoded data removed]",
      "text/plain": [
       "<Figure size 640x480 with 1 Axes>"
      ]
     },
     "metadata": {},
     "output_type": "display_data"
    }
   ],
   "source": [
    "plt.subplot(3,3,3)\n",
    "plt.plot([0,x_test[0,0]], [0, x_test[1,0]], 'go-', label='eigenvector1', linewidth=2)\n",
    "plt.plot([0,y_test[0,0]], [0,y_test[1,0]], 'rs-', label='eigenvector1 result')\n",
    "plt.grid()\n",
    "plt.xlabel('x')\n",
    "plt.ylabel('y')\n",
    "plt.title('random')\n",
    "\n",
    "plt.show()"
   ]
  },
  {
   "cell_type": "code",
   "execution_count": 60,
   "id": "7ec86592-7707-4d21-95a4-3907f207c038",
   "metadata": {},
   "outputs": [
    {
     "name": "stdout",
     "output_type": "stream",
     "text": [
      "A:\n",
      " [[ 0 -2]\n",
      " [ 2  0]] \n",
      "eigen value0 2j \n",
      "eigen vector0:\n",
      " [0.        +0.70710678j 0.70710678+0.j        ] \n",
      "Ax:\n",
      " [-1.41421356+0.j          0.        +1.41421356j] \n",
      "eigen value1: -2j \n",
      "eigen vector1:\n",
      " [0.        -0.70710678j 0.70710678-0.j        ] \n",
      "Ax:\n",
      " [-1.41421356+0.j          0.        -1.41421356j]\n",
      "\n",
      "-------random array-------\n",
      "\n",
      "test vector:\n",
      " [[0.10441896]\n",
      " [0.95792537]] \n",
      "Ax_test:\n",
      " [[-1.91585074]\n",
      " [ 0.20883792]]\n"
     ]
    },
    {
     "data": {
      "text/plain": [
       "Text(0.5, 1.0, 'eigen : 0.0+2.0j')"
      ]
     },
     "execution_count": 60,
     "metadata": {},
     "output_type": "execute_result"
    },
    {
     "data": {
      "image/png": "[encoded data removed]",
      "text/plain": [
       "<Figure size 640x480 with 1 Axes>"
      ]
     },
     "metadata": {},
     "output_type": "display_data"
    }
   ],
   "source": [
    "A = np.array([[0, -2], [2, 0]])\n",
    "eigenvalues, eigenvectors = LA.eig(A)\n",
    "x = eigenvectors\n",
    "lamda = eigenvalues\n",
    "y1=A@x[:,0]\n",
    "y2=A@x[:,1]\n",
    "print(\"A:\\n\", A, \"\\neigen value0\", np.round(lamda[0],2),\n",
    "     \"\\neigen vector0:\\n\", x[:,0], \"\\nAx:\\n\", y1,\n",
    "     \"\\neigen value1:\", np.round(lamda[1],2),\n",
    "     \"\\neigen vector1:\\n\", x[:,1], \"\\nAx:\\n\", y2)\n",
    "print(\"\\n-------random array-------\\n\")\n",
    "\n",
    "x_test = np.random.rand(2,1)\n",
    "y_test = A@x_test\n",
    "print(\"test vector:\\n\", x_test, \"\\nAx_test:\\n\", y_test)\n",
    "\n",
    "plt.subplot(3,3,1)\n",
    "plt.plot([0,x[0,0]], [0,np.abs(x[1,0])], 'go-', label = 'eigenvector0', linewidth=2)\n",
    "plt.plot([0,y1[0]], [0,np.abs(y1[1])], 'rs-', label = 'eigenvector0 result')\n",
    "plt.grid()\n",
    "plt.xlabel('x')\n",
    "plt.ylabel('y')\n",
    "plt.title(f'eigen : {lamda[0]:.1f}')"
   ]
  },
  {
   "cell_type": "code",
   "execution_count": 61,
   "id": "7765d170-933e-44d4-bb04-d59387f119bc",
   "metadata": {},
   "outputs": [
    {
     "data": {
      "text/plain": [
       "Text(0.5, 1.0, 'eigen : 0.0+2.0j')"
      ]
     },
     "execution_count": 61,
     "metadata": {},
     "output_type": "execute_result"
    },
    {
     "data": {
      "image/png": "[encoded data removed]",
      "text/plain": [
       "<Figure size 640x480 with 1 Axes>"
      ]
     },
     "metadata": {},
     "output_type": "display_data"
    }
   ],
   "source": [
    "plt.subplot(3,3,1)\n",
    "plt.plot([0,x[0,0]], [0,np.abs(x[1,0])], 'go-', label = 'eigenvector0', linewidth=2)\n",
    "plt.plot([0,y1[0]], [0,np.abs(y1[1])], 'rs-', label = 'eigenvector0 result')\n",
    "plt.grid()\n",
    "plt.xlabel('x')\n",
    "plt.ylabel('y')\n",
    "plt.title(f'eigen : {lamda[0]:.1f}')"
   ]
  },
  {
   "cell_type": "code",
   "execution_count": 62,
   "id": "5c266797-570c-4dd7-8259-e65dbf94bc8d",
   "metadata": {},
   "outputs": [
    {
     "data": {
      "image/png": "[encoded data removed]",
      "text/plain": [
       "<Figure size 640x480 with 1 Axes>"
      ]
     },
     "metadata": {},
     "output_type": "display_data"
    }
   ],
   "source": [
    "plt.subplot(3,3,3)\n",
    "plt.plot([0,x_test[0,0]], [0, x_test[1,0]], 'go-', label='eigenvector1', linewidth=2)\n",
    "plt.plot([0,y_test[0,0]], [0,y_test[1,0]], 'rs-', label='eigenvector1 result')\n",
    "plt.grid()\n",
    "plt.xlabel('x')\n",
    "plt.ylabel('y')\n",
    "plt.title('random')\n",
    "\n",
    "plt.show()"
   ]
  },
  {
   "cell_type": "code",
   "execution_count": null,
   "id": "010e42a5-977d-4c58-9404-ccaf1c1a4b26",
   "metadata": {},
   "outputs": [],
   "source": []
  }
 ],
 "metadata": {
  "kernelspec": {
   "display_name": "Python 3 (ipykernel)",
   "language": "python",
   "name": "python3"
  },
  "language_info": {
   "codemirror_mode": {
    "name": "ipython",
    "version": 3
   },
   "file_extension": ".py",
   "mimetype": "text/x-python",
   "name": "python",
   "nbconvert_exporter": "python",
   "pygments_lexer": "ipython3",
   "version": "3.10.12"
  }
 },
 "nbformat": 4,
 "nbformat_minor": 5
}

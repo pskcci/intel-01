{
 "cells": [
  {
   "cell_type": "code",
   "execution_count": 1,
   "id": "bd8c54c8-db27-4011-be33-2deb7966c23a",
   "metadata": {},
   "outputs": [
    {
     "name": "stdout",
     "output_type": "stream",
     "text": [
      "[1, 3, 4]\n",
      "[9, 3, 4]\n",
      "[1, 3, 'string']\n",
      "[1, 3, 'string', 6.24]\n",
      "[9, 3, 4, 9, 3, 4]\n",
      "[1, 3, 'string', 6.24, 1, 3, 'string', 6.24]\n",
      "[18, 6, 8]\n"
     ]
    }
   ],
   "source": [
    "a = [1,3,4]\n",
    "print(a)\n",
    "a[0] = 9\n",
    "print(a)\n",
    "\n",
    "b = [1,3,'string']\n",
    "print(b)\n",
    "b.append(6.24)\n",
    "print(b)\n",
    "\n",
    "print(2*a)\n",
    "print(b*2)\n",
    "c = [a[i] + a[i] for i in range(len(a))]\n",
    "print(c)"
   ]
  },
  {
   "cell_type": "code",
   "execution_count": 35,
   "id": "acc2b496-95cf-4e01-9f22-c9e9e6871eb1",
   "metadata": {},
   "outputs": [
    {
     "name": "stdout",
     "output_type": "stream",
     "text": [
      "(1, 2, 3)\n",
      "(1, 3, 'string')\n"
     ]
    },
    {
     "ename": "TypeError",
     "evalue": "'tuple' object does not support item assignment",
     "output_type": "error",
     "traceback": [
      "\u001b[0;31m---------------------------------------------------------------------------\u001b[0m",
      "\u001b[0;31mTypeError\u001b[0m                                 Traceback (most recent call last)",
      "Cell \u001b[0;32mIn[35], line 6\u001b[0m\n\u001b[1;32m      3\u001b[0m b \u001b[38;5;241m=\u001b[39m (\u001b[38;5;241m1\u001b[39m,\u001b[38;5;241m3\u001b[39m,\u001b[38;5;124m'\u001b[39m\u001b[38;5;124mstring\u001b[39m\u001b[38;5;124m'\u001b[39m)\n\u001b[1;32m      4\u001b[0m \u001b[38;5;28mprint\u001b[39m(b)\n\u001b[0;32m----> 6\u001b[0m \u001b[43ma\u001b[49m\u001b[43m[\u001b[49m\u001b[38;5;241;43m0\u001b[39;49m\u001b[43m]\u001b[49m \u001b[38;5;241m=\u001b[39m \u001b[38;5;241m2\u001b[39m\n\u001b[1;32m      7\u001b[0m a\u001b[38;5;241m.\u001b[39mappend(\u001b[38;5;241m4\u001b[39m)\n",
      "\u001b[0;31mTypeError\u001b[0m: 'tuple' object does not support item assignment"
     ]
    }
   ],
   "source": [
    "a = (1,2,3)\n",
    "print(a)\n",
    "b = (1,3,'string')\n",
    "print(b)\n",
    "\n",
    "a[0] = 2\n",
    "a.append(4)"
   ]
  },
  {
   "cell_type": "code",
   "execution_count": 4,
   "id": "108a633b-77ce-4361-9008-9a5221c90e7e",
   "metadata": {},
   "outputs": [
    {
     "name": "stdout",
     "output_type": "stream",
     "text": [
      "{'A': 2.3, 'B': 'C', 5: 'D'}\n",
      "{'A': 5.2, 'B': 'C', 5: 'D'}\n",
      "{'A': 5.2, 'B': 'C', 5: 'D', 'Hello': [1, 2, 3, 4, 'world']}\n"
     ]
    }
   ],
   "source": [
    "info = {'A':2.3,'B':'C', 5:'D'}\n",
    "print(info)\n",
    "\n",
    "info['A'] = 5.2\n",
    "print(info)\n",
    "\n",
    "info['Hello'] = [1,2,3,4,'world']\n",
    "print(info)"
   ]
  },
  {
   "cell_type": "code",
   "execution_count": 6,
   "id": "14ab6fca-c43c-442d-b111-f8e345126a81",
   "metadata": {},
   "outputs": [
    {
     "name": "stdout",
     "output_type": "stream",
     "text": [
      "banana\n",
      "apple\n",
      "banana\n",
      "cherry\n",
      "True\n",
      "<class 'tuple'> <class 'int'>\n",
      "(1,) 1\n"
     ]
    }
   ],
   "source": [
    "thisuple = (\"apple\", \"banana\", \"cherry\")\n",
    "print(thisuple[1])\n",
    "for x in thisuple:\n",
    "    print(x)\n",
    "tuple1 = (\"abc\", 34, True, 40, \"male\", \"abc\")\n",
    "print(tuple1[2])\n",
    "a=1,\n",
    "b=1\n",
    "print(type(a),type(b))\n",
    "print(a,b)"
   ]
  },
  {
   "cell_type": "code",
   "execution_count": 8,
   "id": "3686a2b4-e06e-4100-ae67-f7d1fb0e9dfe",
   "metadata": {},
   "outputs": [
    {
     "name": "stdout",
     "output_type": "stream",
     "text": [
      "('apple', 'banana', 'cherry')\n",
      "('apple', 'banana', 'cherry', 'orange')\n",
      "('apple', 'banana', 'cherry')\n",
      "('apple', 'banana', 'cherry', 'orange')\n",
      "apple\n",
      "banana\n",
      "['cherry', 'strawberry', 'raspberry']\n",
      "apple\n",
      "banana\n",
      "cherry\n"
     ]
    }
   ],
   "source": [
    "#updat tuple\n",
    "thisuple = (\"apple\", \"banana\", \"cherry\")\n",
    "print(thisuple)\n",
    "y = (\"orange\",)\n",
    "thisuple += y \n",
    "print(thisuple)\n",
    "\n",
    "thisuple = (\"apple\", \"banana\", \"cherry\")\n",
    "print(thisuple)\n",
    "y = list(thisuple)\n",
    "y. append(\"orange\")\n",
    "thisuple = tuple(y)\n",
    "print(thisuple)\n",
    "\n",
    "# tuple unpack\n",
    "fruits = (\"apple\", \"banana\", \"cherry\", \"strawberry\", \"raspberry\")\n",
    "(green, yellow, *red) = fruits\n",
    "print(green)\n",
    "print(yellow)\n",
    "print(red)\n",
    "\n",
    "fruits = (\"apple\", \"mango\", \"papaya\", \"pineapple\", \"cherry\")\n",
    "(green, *tropic, red) = fruits\n",
    "print(green)\n",
    "print(yellow)\n",
    "print(red)"
   ]
  },
  {
   "cell_type": "code",
   "execution_count": 11,
   "id": "e990e086-67fd-4fd1-bd2c-b003552f6cf9",
   "metadata": {},
   "outputs": [
    {
     "name": "stdout",
     "output_type": "stream",
     "text": [
      "1\n",
      "2\n",
      "3\n",
      "4\n",
      "Hello\n",
      "5.24\n",
      "----------------------\n",
      "1\n",
      "2\n",
      "3\n",
      "4\n",
      "Hello\n",
      "5.24\n",
      "----------------------\n",
      "1 2\n",
      "3 4\n",
      "5 6\n",
      "----------------------\n",
      "1 2\n",
      "3 4\n",
      "5 6\n",
      "----------------------\n",
      "A 1\n",
      "B 2\n",
      "C 3\n",
      "----------------------\n",
      "A 1\n",
      "B 2\n",
      "C 3\n"
     ]
    }
   ],
   "source": [
    "items = [1,2,3,4,'Hello',5.24]\n",
    "\n",
    "for k in range(0, len(items)):\n",
    "    print(items[k])\n",
    "print('----------------------')\n",
    "for item in items:\n",
    "    print(item)\n",
    "print('----------------------')\n",
    "items = [[1,2],[3,4],[5,6]]\n",
    "for item in items:\n",
    "    print(item[0], item[1])\n",
    "print('----------------------')\n",
    "for item1, item2 in items:\n",
    "    print(item1,item2)\n",
    "print('----------------------')\n",
    "info = {'A':1,'B':2,'C':3}\n",
    "for key in info:\n",
    "    print(key, info[key])\n",
    "print('----------------------')\n",
    "for key, value in info.items():\n",
    "    print(key, value)"
   ]
  },
  {
   "cell_type": "code",
   "execution_count": 13,
   "id": "8575cd94-66d4-44ba-99eb-cb7e063a56c4",
   "metadata": {},
   "outputs": [
    {
     "name": "stdout",
     "output_type": "stream",
     "text": [
      "5\n",
      "6\n",
      "----------------------\n",
      "[1, 2] ['A', 'B']\n",
      "[3, 4] ['C', 'D']\n",
      "[5, 6] ['E', 'F']\n"
     ]
    }
   ],
   "source": [
    "items1 = [[1,2],[3,4],[5,6]]\n",
    "items2 = [['A','B'], ['C','D'],['E','F']]\n",
    "print(item1)\n",
    "print(item2)\n",
    "print('----------------------')\n",
    "for digits, characters in zip(items1, items2):\n",
    "    print(digits, characters)"
   ]
  },
  {
   "cell_type": "code",
   "execution_count": 16,
   "id": "c246ef49-3087-4e8c-bcba-26b869e9f217",
   "metadata": {},
   "outputs": [
    {
     "name": "stdout",
     "output_type": "stream",
     "text": [
      "[0, 1, 2, 3, 4]\n",
      "----------------------\n",
      "----------------------\n",
      "[0, 7, 2, 9, 4]\n",
      "----------------------\n",
      "[0, 2, 4]\n",
      "----------------------\n",
      "{0: 10, 1: 11, 2: 12, 3: 13, 4: 14}\n",
      "----------------------\n",
      "[2, 6, 8]\n"
     ]
    }
   ],
   "source": [
    "a = []\n",
    "for k in range(0,5):\n",
    "    a.append(k)\n",
    "print(a)\n",
    "print('----------------------')\n",
    "a = [k for k in range(0,5)]\n",
    "print('----------------------')\n",
    "a = [k if (k-1)%2 else k+5+1 for k in range(0,5)]\n",
    "print(a)\n",
    "print('----------------------')\n",
    "a = [k for k in range(0,5) if k % 2 == 0]\n",
    "print(a)\n",
    "print('----------------------')\n",
    "a = {k:k+10 for k in range(0,5)}\n",
    "print(a)\n",
    "print('----------------------')\n",
    "a = [1,3,4]\n",
    "c = [a[i] + a[i] for i in range(len(a))]\n",
    "print(c)"
   ]
  },
  {
   "cell_type": "code",
   "execution_count": 17,
   "id": "a9ec8409-a3ad-41d6-86c6-fa5baaa021cb",
   "metadata": {},
   "outputs": [
    {
     "name": "stdout",
     "output_type": "stream",
     "text": [
      "[(0, 'apple'), (1, 'banana'), (2, 'cherry')]\n",
      "----------------------\n",
      "(0, 'A')\n",
      "(1, 'B')\n",
      "(2, 'C')\n",
      "----------------------\n",
      "0 A\n",
      "1 B\n",
      "2 C\n",
      "----------------------\n",
      "101 A\n",
      "102 B\n",
      "103 C\n"
     ]
    }
   ],
   "source": [
    "x = ('apple', 'banana', 'cherry')\n",
    "y = enumerate(x)\n",
    "print(list(y))\n",
    "print('----------------------')\n",
    "for entry in enumerate(['A','B','C']):\n",
    "    print(entry)\n",
    "print('----------------------')\n",
    "for i, letter in enumerate(['A','B','C']):\n",
    "    print(i, letter)\n",
    "print('----------------------')\n",
    "for i, letter in enumerate(['A','B','C'], start=101):\n",
    "    print(i, letter)"
   ]
  },
  {
   "cell_type": "code",
   "execution_count": 29,
   "id": "1570507c-10ea-4dad-9373-08f629eb3fd9",
   "metadata": {},
   "outputs": [],
   "source": [
    "filename = 'readme.txt'\n",
    "file = open(filename, 'w')\n",
    "file.write(\"Hello, World!\")\n",
    "file.close()"
   ]
  },
  {
   "cell_type": "code",
   "execution_count": 30,
   "id": "b5ac8733-e1bf-49bf-a41f-b3cb677b3654",
   "metadata": {},
   "outputs": [
    {
     "name": "stdout",
     "output_type": "stream",
     "text": [
      "Hello, World!\n"
     ]
    }
   ],
   "source": [
    "filename = 'readme.txt'\n",
    "file = open(filename, 'r')\n",
    "content = file.read()\n",
    "print(content)\n",
    "file.close()"
   ]
  },
  {
   "cell_type": "code",
   "execution_count": 34,
   "id": "920cd4da-e839-468d-8de8-392acad0cae8",
   "metadata": {},
   "outputs": [],
   "source": [
    "filename = 'readme.txt'\n",
    "with open(filename,'w') as file:\n",
    "    file.write(\"Hello, World!\")"
   ]
  },
  {
   "cell_type": "code",
   "execution_count": 28,
   "id": "5a8ddcf8-eb67-43c4-bcd2-d460016e5c35",
   "metadata": {},
   "outputs": [
    {
     "name": "stdout",
     "output_type": "stream",
     "text": [
      "Hello, World!\n"
     ]
    }
   ],
   "source": [
    "filename = 'readme.txt'\n",
    "with open(filename, 'r') as file:\n",
    "    content = file.read()\n",
    "    print(content)"
   ]
  },
  {
   "cell_type": "code",
   "execution_count": null,
   "id": "800d48a0-0a3a-4b56-b728-4ccc8de7ee55",
   "metadata": {},
   "outputs": [],
   "source": []
  },
  {
   "cell_type": "code",
   "execution_count": null,
   "id": "37381cff-14cb-4a1e-86e7-b80228dca0d6",
   "metadata": {},
   "outputs": [],
   "source": []
  }
 ],
 "metadata": {
  "kernelspec": {
   "display_name": "Python 3 (ipykernel)",
   "language": "python",
   "name": "python3"
  },
  "language_info": {
   "codemirror_mode": {
    "name": "ipython",
    "version": 3
   },
   "file_extension": ".py",
   "mimetype": "text/x-python",
   "name": "python",
   "nbconvert_exporter": "python",
   "pygments_lexer": "ipython3",
   "version": "3.10.12"
  }
 },
 "nbformat": 4,
 "nbformat_minor": 5
}

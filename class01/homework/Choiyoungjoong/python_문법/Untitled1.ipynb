{
 "cells": [
  {
   "cell_type": "code",
   "execution_count": 1,
   "id": "4d7c1926-7039-4ebb-9139-3e9aa58707e0",
   "metadata": {},
   "outputs": [
    {
     "name": "stdout",
     "output_type": "stream",
     "text": [
      "P\n"
     ]
    }
   ],
   "source": [
    "word = 'Python'\n",
    "print(word[0])"
   ]
  },
  {
   "cell_type": "code",
   "execution_count": 2,
   "id": "342cd992-a90a-441d-8e4c-26d23e005601",
   "metadata": {},
   "outputs": [
    {
     "name": "stdout",
     "output_type": "stream",
     "text": [
      "n\n"
     ]
    }
   ],
   "source": [
    "print(word[5])"
   ]
  },
  {
   "cell_type": "code",
   "execution_count": 3,
   "id": "0cd9620d-116e-4bbc-a387-fcdd88ea94ac",
   "metadata": {},
   "outputs": [
    {
     "name": "stdout",
     "output_type": "stream",
     "text": [
      "n\n"
     ]
    }
   ],
   "source": [
    "print(word[-1])"
   ]
  },
  {
   "cell_type": "code",
   "execution_count": 4,
   "id": "b7e44477-b79e-48d6-a63d-89e33b7400d4",
   "metadata": {},
   "outputs": [
    {
     "name": "stdout",
     "output_type": "stream",
     "text": [
      "o\n"
     ]
    }
   ],
   "source": [
    "print(word[-2])"
   ]
  },
  {
   "cell_type": "code",
   "execution_count": 5,
   "id": "7e3714e6-f66d-45ee-aeb2-6139fb20f754",
   "metadata": {},
   "outputs": [
    {
     "name": "stdout",
     "output_type": "stream",
     "text": [
      "P\n"
     ]
    }
   ],
   "source": [
    "print(word[-6])"
   ]
  },
  {
   "cell_type": "code",
   "execution_count": 6,
   "id": "7b550782-9f72-43bd-9e37-c08bf72b9b22",
   "metadata": {},
   "outputs": [
    {
     "name": "stdout",
     "output_type": "stream",
     "text": [
      "Py\n"
     ]
    }
   ],
   "source": [
    "print(word[0:2])"
   ]
  },
  {
   "cell_type": "code",
   "execution_count": 7,
   "id": "c6b5ab6c-f6e1-4a1c-8f8a-85de13700ce4",
   "metadata": {},
   "outputs": [
    {
     "name": "stdout",
     "output_type": "stream",
     "text": [
      "tho\n"
     ]
    }
   ],
   "source": [
    "print(word[2:5])"
   ]
  },
  {
   "cell_type": "code",
   "execution_count": 8,
   "id": "51e4de8c-f946-44a1-9fd4-f271395e6db7",
   "metadata": {},
   "outputs": [
    {
     "name": "stdout",
     "output_type": "stream",
     "text": [
      "Py\n"
     ]
    }
   ],
   "source": [
    "print(word[:2])"
   ]
  },
  {
   "cell_type": "code",
   "execution_count": 9,
   "id": "660dcbb0-91f6-45e8-a34e-e56a13f3fbee",
   "metadata": {},
   "outputs": [
    {
     "name": "stdout",
     "output_type": "stream",
     "text": [
      "on\n"
     ]
    }
   ],
   "source": [
    "print(word[4:])"
   ]
  },
  {
   "cell_type": "code",
   "execution_count": 10,
   "id": "3367ef83-2c50-4c1d-bc2e-f1e36a9ec146",
   "metadata": {},
   "outputs": [
    {
     "name": "stdout",
     "output_type": "stream",
     "text": [
      "Pyth\n"
     ]
    }
   ],
   "source": [
    "print(word[:-2])"
   ]
  },
  {
   "cell_type": "code",
   "execution_count": 11,
   "id": "c921f34a-ea8f-4473-824d-6dcd5540f403",
   "metadata": {},
   "outputs": [
    {
     "name": "stdout",
     "output_type": "stream",
     "text": [
      "PyPyth\n"
     ]
    }
   ],
   "source": [
    "print(word[:2] + word[:4])"
   ]
  },
  {
   "cell_type": "code",
   "execution_count": null,
   "id": "5da53bc6-bfa0-4e63-87bc-6da467e2b7e1",
   "metadata": {},
   "outputs": [],
   "source": []
  }
 ],
 "metadata": {
  "kernelspec": {
   "display_name": "Python 3 (ipykernel)",
   "language": "python",
   "name": "python3"
  },
  "language_info": {
   "codemirror_mode": {
    "name": "ipython",
    "version": 3
   },
   "file_extension": ".py",
   "mimetype": "text/x-python",
   "name": "python",
   "nbconvert_exporter": "python",
   "pygments_lexer": "ipython3",
   "version": "3.10.12"
  }
 },
 "nbformat": 4,
 "nbformat_minor": 5
}

{
 "cells": [
  {
   "cell_type": "code",
   "execution_count": 6,
   "id": "a2cf9766-d5eb-489e-8dbb-7d7225ff29c6",
   "metadata": {},
   "outputs": [
    {
     "name": "stdout",
     "output_type": "stream",
     "text": [
      "[10 20 30 40 50 60]\n"
     ]
    }
   ],
   "source": [
    "import numpy as np\n",
    "from numpy import random\n",
    "\n",
    "a=np.array([10,20,30,40,50,60])\n",
    "print(a)"
   ]
  },
  {
   "cell_type": "code",
   "execution_count": null,
   "id": "b41b0686-c780-4206-9107-9559ac859d74",
   "metadata": {},
   "outputs": [],
   "source": []
  },
  {
   "cell_type": "code",
   "execution_count": 2,
   "id": "a150c8be-394a-45e5-9b9d-793ab12185ef",
   "metadata": {},
   "outputs": [
    {
     "name": "stdout",
     "output_type": "stream",
     "text": [
      "[50 30 10]\n"
     ]
    }
   ],
   "source": [
    "b = a[[4,2,0]]\n",
    "print(b)"
   ]
  },
  {
   "cell_type": "code",
   "execution_count": 3,
   "id": "ed753085-cbe9-4126-a1d3-0e8153fc9b0b",
   "metadata": {},
   "outputs": [
    {
     "name": "stdout",
     "output_type": "stream",
     "text": [
      "[0 1 2 3 4 5]\n"
     ]
    }
   ],
   "source": [
    "idx = np.arange(0, len(a))\n",
    "print(idx)"
   ]
  },
  {
   "cell_type": "code",
   "execution_count": 8,
   "id": "0000b03d-9d85-4169-b28f-50cc239a0f8f",
   "metadata": {},
   "outputs": [
    {
     "name": "stdout",
     "output_type": "stream",
     "text": [
      "[1 4 3 2 5 0]\n",
      "[20 50 40 30 60 10]\n"
     ]
    }
   ],
   "source": [
    "np.random.shuffle(idx)\n",
    "print(idx)\n",
    "print(a[idx])"
   ]
  },
  {
   "cell_type": "code",
   "execution_count": 9,
   "id": "6cf8d125-c1a1-4f1f-9f71-e52233a26896",
   "metadata": {},
   "outputs": [
    {
     "name": "stdout",
     "output_type": "stream",
     "text": [
      "1\n"
     ]
    }
   ],
   "source": [
    "import numpy as np\n",
    "c = np.array([1,2,3,4,5,6])\n",
    "print(c[0])"
   ]
  },
  {
   "cell_type": "code",
   "execution_count": 10,
   "id": "f3e414a3-0f86-4789-92b4-e26c17ed1863",
   "metadata": {},
   "outputs": [
    {
     "name": "stdout",
     "output_type": "stream",
     "text": [
      "6\n"
     ]
    }
   ],
   "source": [
    "print(c[5])"
   ]
  },
  {
   "cell_type": "code",
   "execution_count": 11,
   "id": "f461b30f-a33c-4648-ab45-4389991e21e3",
   "metadata": {},
   "outputs": [
    {
     "name": "stdout",
     "output_type": "stream",
     "text": [
      "6\n"
     ]
    }
   ],
   "source": [
    "print(c[-1])"
   ]
  },
  {
   "cell_type": "code",
   "execution_count": 12,
   "id": "204aae92-171c-408e-98cf-521994a24da6",
   "metadata": {},
   "outputs": [
    {
     "name": "stdout",
     "output_type": "stream",
     "text": [
      "5\n"
     ]
    }
   ],
   "source": [
    "print(c[-2])"
   ]
  },
  {
   "cell_type": "code",
   "execution_count": 13,
   "id": "971a157c-7fa8-43b3-966d-79f5216f10b1",
   "metadata": {},
   "outputs": [
    {
     "name": "stdout",
     "output_type": "stream",
     "text": [
      "1\n"
     ]
    }
   ],
   "source": [
    "print(c[-6])"
   ]
  },
  {
   "cell_type": "code",
   "execution_count": 14,
   "id": "cd66f67e-a5ce-48d2-baa2-3577391300d9",
   "metadata": {},
   "outputs": [
    {
     "name": "stdout",
     "output_type": "stream",
     "text": [
      "[1 2]\n"
     ]
    }
   ],
   "source": [
    "print(c[0:2])"
   ]
  },
  {
   "cell_type": "code",
   "execution_count": 15,
   "id": "ed360b0b-7c26-45cc-b597-2bb01593c879",
   "metadata": {},
   "outputs": [
    {
     "name": "stdout",
     "output_type": "stream",
     "text": [
      "[3 4 5]\n"
     ]
    }
   ],
   "source": [
    "print(c[2:5])"
   ]
  },
  {
   "cell_type": "code",
   "execution_count": 16,
   "id": "ad830ed8-3956-45fc-8ad4-1b853c29300f",
   "metadata": {},
   "outputs": [
    {
     "name": "stdout",
     "output_type": "stream",
     "text": [
      "[1 2]\n"
     ]
    }
   ],
   "source": [
    "print(c[:2])"
   ]
  },
  {
   "cell_type": "code",
   "execution_count": 17,
   "id": "f3957f07-1e54-4e1a-a149-cd414d0361cd",
   "metadata": {},
   "outputs": [
    {
     "name": "stdout",
     "output_type": "stream",
     "text": [
      "[5 6]\n"
     ]
    }
   ],
   "source": [
    "print(c[4:])"
   ]
  },
  {
   "cell_type": "code",
   "execution_count": 18,
   "id": "c512f1bf-6b4e-419d-bc32-62118e9dd66e",
   "metadata": {},
   "outputs": [
    {
     "name": "stdout",
     "output_type": "stream",
     "text": [
      "[5 6]\n"
     ]
    }
   ],
   "source": [
    "print(c[-2:])"
   ]
  },
  {
   "cell_type": "code",
   "execution_count": 19,
   "id": "47fe5b15-2a91-4adb-9fd1-6f08767a2390",
   "metadata": {},
   "outputs": [
    {
     "name": "stdout",
     "output_type": "stream",
     "text": [
      "[1 2] [3 4 5 6]\n"
     ]
    }
   ],
   "source": [
    "print(c[:2], c[2:])"
   ]
  },
  {
   "cell_type": "code",
   "execution_count": 20,
   "id": "1446228b-d291-41a9-81ce-049ea51b7cd5",
   "metadata": {},
   "outputs": [
    {
     "name": "stdout",
     "output_type": "stream",
     "text": [
      "[5 6 7 8 9]\n"
     ]
    }
   ],
   "source": [
    "print(np.arange(5,10))"
   ]
  },
  {
   "cell_type": "code",
   "execution_count": null,
   "id": "f0fe2805-bc26-41e5-8c61-ff0001d82a81",
   "metadata": {},
   "outputs": [],
   "source": []
  },
  {
   "cell_type": "code",
   "execution_count": null,
   "id": "680fdf39-bdb8-44cd-9618-decf39ce0b97",
   "metadata": {},
   "outputs": [],
   "source": []
  },
  {
   "cell_type": "code",
   "execution_count": null,
   "id": "98e3d74e-d25c-49dc-bfd3-7e3230fd97ae",
   "metadata": {},
   "outputs": [],
   "source": []
  },
  {
   "cell_type": "code",
   "execution_count": null,
   "id": "fa9145dc-2c84-414f-84fc-37fbdc548987",
   "metadata": {},
   "outputs": [],
   "source": []
  },
  {
   "cell_type": "code",
   "execution_count": null,
   "id": "0139ba54-8888-4925-b66c-c01cf0b79187",
   "metadata": {},
   "outputs": [],
   "source": []
  }
 ],
 "metadata": {
  "kernelspec": {
   "display_name": "Python 3 (ipykernel)",
   "language": "python",
   "name": "python3"
  },
  "language_info": {
   "codemirror_mode": {
    "name": "ipython",
    "version": 3
   },
   "file_extension": ".py",
   "mimetype": "text/x-python",
   "name": "python",
   "nbconvert_exporter": "python",
   "pygments_lexer": "ipython3",
   "version": "3.10.12"
  }
 },
 "nbformat": 4,
 "nbformat_minor": 5
}

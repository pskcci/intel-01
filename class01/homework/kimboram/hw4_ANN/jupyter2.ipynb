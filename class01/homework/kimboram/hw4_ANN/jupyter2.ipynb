{
 "cells": [
  {
   "cell_type": "code",
   "execution_count": 3,
   "id": "5912ca1b-4b71-4c79-b9a1-3ebf9a401aa9",
   "metadata": {},
   "outputs": [
    {
     "name": "stdout",
     "output_type": "stream",
     "text": [
      "[1, 3, 4]\n",
      "[9, 3, 4]\n",
      "[1, 3, 'string']\n",
      "[1, 3, 'string', 6.24]\n",
      "[9, 3, 4, 9, 3, 4]\n",
      "[1, 3, 'string', 6.24, 1, 3, 'string', 6.24]\n",
      "[18, 6, 8]\n"
     ]
    },
    {
     "data": {
      "text/plain": [
       "[18, 6, 8]"
      ]
     },
     "execution_count": 3,
     "metadata": {},
     "output_type": "execute_result"
    }
   ],
   "source": [
    "a = [1, 3, 4]\n",
    "print(a)\n",
    "a[0] = 9\n",
    "print(a)\n",
    "\n",
    "b = [1, 3, 'string']\n",
    "print(b)\n",
    "b.append(6.24)\n",
    "print(b)\n",
    "\n",
    "print(2*a)\n",
    "print(b*2)\n",
    "c = [a[i] + a[i] for i in range(len(a))]\n",
    "print(c)\n",
    "\n",
    "[1, 3, 4]\n",
    "[9, 3, 4]\n",
    "[1, 3, 'string']\n",
    "[1, 3, 'string', 6.24]\n",
    "[9, 3, 4, 9, 3, 4]\n",
    "[1, 3, 'string', 6.24, 1, 3, 'string', 6.24]\n",
    "[18, 6, 8]"
   ]
  },
  {
   "cell_type": "code",
   "execution_count": 1,
   "id": "c5d68f8f-81d7-40f5-a500-bcd6285f3804",
   "metadata": {},
   "outputs": [
    {
     "name": "stdout",
     "output_type": "stream",
     "text": [
      "(1, 2, 3)\n",
      "(1, 3, 'string')\n"
     ]
    },
    {
     "ename": "TypeError",
     "evalue": "'tuple' object does not support item assignment",
     "output_type": "error",
     "traceback": [
      "\u001b[0;31m---------------------------------------------------------------------------\u001b[0m",
      "\u001b[0;31mTypeError\u001b[0m                                 Traceback (most recent call last)",
      "Cell \u001b[0;32mIn[1], line 6\u001b[0m\n\u001b[1;32m      3\u001b[0m b \u001b[38;5;241m=\u001b[39m (\u001b[38;5;241m1\u001b[39m, \u001b[38;5;241m3\u001b[39m, \u001b[38;5;124m'\u001b[39m\u001b[38;5;124mstring\u001b[39m\u001b[38;5;124m'\u001b[39m)\n\u001b[1;32m      4\u001b[0m \u001b[38;5;28mprint\u001b[39m(b)\n\u001b[0;32m----> 6\u001b[0m \u001b[43ma\u001b[49m\u001b[43m[\u001b[49m\u001b[38;5;241;43m0\u001b[39;49m\u001b[43m]\u001b[49m \u001b[38;5;241m=\u001b[39m \u001b[38;5;241m2\u001b[39m\n\u001b[1;32m      7\u001b[0m a\u001b[38;5;241m.\u001b[39mappend(\u001b[38;5;241m4\u001b[39m)\n",
      "\u001b[0;31mTypeError\u001b[0m: 'tuple' object does not support item assignment"
     ]
    }
   ],
   "source": [
    "a = (1, 2, 3)\n",
    "print(a)\n",
    "b = (1, 3, 'string')\n",
    "print(b)\n",
    "\n",
    "a[0] = 2\n",
    "a.append(4)"
   ]
  },
  {
   "cell_type": "code",
   "execution_count": 4,
   "id": "bde363ba-f4ad-4655-ac46-f409c30a7a13",
   "metadata": {},
   "outputs": [
    {
     "name": "stdout",
     "output_type": "stream",
     "text": [
      "{'A': 2.3, 'B': 'C', 5: 'D'}\n",
      "{'A': 5.2, 'B': 'C', 5: 'D'}\n",
      "{'A': 5.2, 'B': 'C', 5: 'D', 'Hello': [1, 2, 3, 4, 'World']}\n"
     ]
    }
   ],
   "source": [
    "info = {'A' : 2.3, 'B' : 'C', 5 : 'D'}\n",
    "print(info)\n",
    "\n",
    "info['A'] = 5.2\n",
    "print(info)\n",
    "\n",
    "info['Hello'] = [1, 2, 3, 4, 'World']\n",
    "print(info)"
   ]
  }
 ],
 "metadata": {
  "kernelspec": {
   "display_name": "Python 3 (ipykernel)",
   "language": "python",
   "name": "python3"
  },
  "language_info": {
   "codemirror_mode": {
    "name": "ipython",
    "version": 3
   },
   "file_extension": ".py",
   "mimetype": "text/x-python",
   "name": "python",
   "nbconvert_exporter": "python",
   "pygments_lexer": "ipython3",
   "version": "3.10.12"
  }
 },
 "nbformat": 4,
 "nbformat_minor": 5
}

{
 "cells": [
  {
   "cell_type": "code",
   "execution_count": 1,
   "id": "05b5bf50-1107-4db1-ad3e-bea7267bf1db",
   "metadata": {},
   "outputs": [
    {
     "name": "stdout",
     "output_type": "stream",
     "text": [
      "[(0, 'apple'), (1, 'banana'), (2, 'cherry')]\n",
      "--------------------\n",
      "(0, 'A')\n",
      "(1, 'B')\n",
      "(2, 'C')\n",
      "--------------------\n",
      "0 A\n",
      "1 B\n",
      "2 C\n",
      "--------------------\n",
      "101 A\n",
      "102 B\n",
      "103 C\n"
     ]
    }
   ],
   "source": [
    "x = ('apple', 'banana', 'cherry')\n",
    "y = enumerate(x)\n",
    "print(list(y))\n",
    "print('--------------------')\n",
    "for entry in enumerate(['A', 'B', 'C']):\n",
    "        print(entry)\n",
    "print('--------------------')\n",
    "for i, letter in enumerate(['A', 'B', 'C']):\n",
    "    print(i, letter)\n",
    "print('--------------------')\n",
    "for i, letter in enumerate(['A', 'B', 'C'], start=101):\n",
    "    print(i, letter)"
   ]
  },
  {
   "cell_type": "code",
   "execution_count": 2,
   "id": "3a5e6db0-794a-44e8-b11c-e58f81fb92da",
   "metadata": {},
   "outputs": [
    {
     "name": "stdout",
     "output_type": "stream",
     "text": [
      "Hello, World!\n"
     ]
    }
   ],
   "source": [
    "filename = 'readme.txt'\n",
    "file = open(filename, 'w')\n",
    "file.write(\"Hello, World!\")\n",
    "file.close()\n",
    "\n",
    "filename = 'readme.txt'\n",
    "file = open(filename, 'r')\n",
    "content = file.read()\n",
    "print(content)\n",
    "file.close()"
   ]
  },
  {
   "cell_type": "code",
   "execution_count": 3,
   "id": "c58f9274-ac2c-4336-b13a-35ac27dfba3a",
   "metadata": {},
   "outputs": [
    {
     "name": "stdout",
     "output_type": "stream",
     "text": [
      "Hello, World!\n"
     ]
    }
   ],
   "source": [
    "fileaname = 'readme.txt'\n",
    "with open(filename, 'w') as file:\n",
    "        file.write(\"Hello, World!\")\n",
    "\n",
    "filename = 'readme.txt'\n",
    "with open(filename, 'r') as file:\n",
    "    content = file.read()\n",
    "    print(content)"
   ]
  }
 ],
 "metadata": {
  "kernelspec": {
   "display_name": "Python 3 (ipykernel)",
   "language": "python",
   "name": "python3"
  },
  "language_info": {
   "codemirror_mode": {
    "name": "ipython",
    "version": 3
   },
   "file_extension": ".py",
   "mimetype": "text/x-python",
   "name": "python",
   "nbconvert_exporter": "python",
   "pygments_lexer": "ipython3",
   "version": "3.10.12"
  }
 },
 "nbformat": 4,
 "nbformat_minor": 5
}

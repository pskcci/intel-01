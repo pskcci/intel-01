{
 "cells": [
  {
   "cell_type": "code",
   "execution_count": 1,
   "id": "7f3333fe-53ec-411d-a71c-d0238431678f",
   "metadata": {},
   "outputs": [
    {
     "name": "stdout",
     "output_type": "stream",
     "text": [
      "('apple', 'banana', 'cherry')\n",
      "('apple', 'banana', 'cherry', 'orange')\n",
      "('apple', 'banana', 'cherry')\n",
      "('apple', 'banana', 'cherry', 'orange')\n",
      "apple\n",
      "banana\n",
      "['cherry', 'strawberry', 'raspberry']\n",
      "apple\n",
      "['mango', 'papaya', 'pineapple']\n",
      "cherry\n"
     ]
    }
   ],
   "source": [
    "thistuple = (\"apple\", \"banana\", \"cherry\")\n",
    "print(thistuple)\n",
    "y = (\"orange\",)\n",
    "thistuple += y\n",
    "print(thistuple)\n",
    "\n",
    "thistuple = (\"apple\", \"banana\", \"cherry\")\n",
    "print(thistuple)\n",
    "y = list(thistuple) \n",
    "y.append(\"orange\",)\n",
    "thistuple = tuple(y)\n",
    "print(thistuple)\n",
    "\n",
    "fruits = (\"apple\", \"banana\", \"cherry\", \"strawberry\", \"raspberry\")\n",
    "(green, yellow, *red) = fruits\n",
    "print(green)\n",
    "print(yellow)\n",
    "print(red)\n",
    "\n",
    "fruits = (\"apple\", \"mango\", \"papaya\", \"pineapple\", \"cherry\")\n",
    "(green, *tropic, red) = fruits\n",
    "print(green)\n",
    "print(tropic)\n",
    "print(red)"
   ]
  }
 ],
 "metadata": {
  "kernelspec": {
   "display_name": "Python 3 (ipykernel)",
   "language": "python",
   "name": "python3"
  },
  "language_info": {
   "codemirror_mode": {
    "name": "ipython",
    "version": 3
   },
   "file_extension": ".py",
   "mimetype": "text/x-python",
   "name": "python",
   "nbconvert_exporter": "python",
   "pygments_lexer": "ipython3",
   "version": "3.10.12"
  }
 },
 "nbformat": 4,
 "nbformat_minor": 5
}

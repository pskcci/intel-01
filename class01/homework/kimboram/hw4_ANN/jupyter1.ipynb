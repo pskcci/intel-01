{
 "cells": [
  {
   "cell_type": "code",
   "execution_count": null,
   "id": "8fd1f35e-4c98-42b3-bb38-d3ffd2fabb2a",
   "metadata": {},
   "outputs": [],
   "source": [
    "in [2]:"
   ]
  },
  {
   "cell_type": "code",
   "execution_count": 5,
   "id": "2ba75c16-051f-4f44-868d-3907466dd690",
   "metadata": {},
   "outputs": [
    {
     "name": "stdout",
     "output_type": "stream",
     "text": [
      "1\n",
      "2.0\n",
      "String\n",
      "<class 'int'>\n",
      "<class 'float'>\n",
      "<class 'str'>\n"
     ]
    }
   ],
   "source": [
    "a = 1\n",
    "b = 2.\n",
    "c = \"String\"\n",
    "print(a)\n",
    "print(b)\n",
    "print(c)\n",
    "print(type(a))\n",
    "print(type(b))\n",
    "print(type(c))"
   ]
  },
  {
   "cell_type": "code",
   "execution_count": 7,
   "id": "fa8a8b02-b000-43e9-9419-fb468f9d54ef",
   "metadata": {},
   "outputs": [
    {
     "name": "stdout",
     "output_type": "stream",
     "text": [
      "3.0\n"
     ]
    }
   ],
   "source": [
    "def f(x, y):\n",
    "    val = x + y\n",
    "    return val\n",
    "\n",
    "a = 1\n",
    "b = 2.\n",
    "d = f(a, b)\n",
    "print(d)"
   ]
  },
  {
   "cell_type": "code",
   "execution_count": 6,
   "id": "d1c68ecd-d76a-4609-9a1a-f490cf0d97fa",
   "metadata": {},
   "outputs": [
    {
     "name": "stdout",
     "output_type": "stream",
     "text": [
      "3.0\n"
     ]
    }
   ],
   "source": [
    "f = lambda x, y : x + y\n",
    "\n",
    "a = 1\n",
    "b = 2.\n",
    "d = f(a, b)\n",
    "print(d)"
   ]
  }
 ],
 "metadata": {
  "kernelspec": {
   "display_name": "Python 3 (ipykernel)",
   "language": "python",
   "name": "python3"
  },
  "language_info": {
   "codemirror_mode": {
    "name": "ipython",
    "version": 3
   },
   "file_extension": ".py",
   "mimetype": "text/x-python",
   "name": "python",
   "nbconvert_exporter": "python",
   "pygments_lexer": "ipython3",
   "version": "3.10.12"
  }
 },
 "nbformat": 4,
 "nbformat_minor": 5
}

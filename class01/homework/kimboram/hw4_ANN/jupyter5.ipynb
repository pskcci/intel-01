{
 "cells": [
  {
   "cell_type": "code",
   "execution_count": 2,
   "id": "8e5d5418-2294-4bb3-916a-6ad2c6ed055f",
   "metadata": {},
   "outputs": [
    {
     "name": "stdout",
     "output_type": "stream",
     "text": [
      "1\n",
      "2\n",
      "3\n",
      "4\n",
      "Hello\n",
      "6.24\n",
      "----------------\n",
      "[1, 2, 3, 4, 'Hello', 6.24]\n",
      "[1, 2, 3, 4, 'Hello', 6.24]\n",
      "[1, 2, 3, 4, 'Hello', 6.24]\n",
      "[1, 2, 3, 4, 'Hello', 6.24]\n",
      "[1, 2, 3, 4, 'Hello', 6.24]\n",
      "[1, 2, 3, 4, 'Hello', 6.24]\n",
      "----------------\n",
      "[1, 2] 2\n",
      "[1, 2] 4\n",
      "[1, 2] 6\n",
      "----------------\n",
      "1 2\n",
      "3 4\n",
      "5 6\n",
      "----------------\n",
      "A 1\n",
      "B 2\n",
      "c 3\n",
      "----------------\n",
      "A 1\n",
      "B 2\n",
      "c 3\n"
     ]
    }
   ],
   "source": [
    "items = [1, 2, 3, 4, 'Hello', 6.24]\n",
    "\n",
    "for k in range(0, len(items)):\n",
    "    print(items[k])\n",
    "print('----------------')\n",
    "for item in items:\n",
    "    print(items)\n",
    "print('----------------')\n",
    "items = [[1, 2], [3, 4], [5, 6]]\n",
    "for item in items:\n",
    "    print(items[0], item[1])\n",
    "print('----------------')\n",
    "for item1, item2 in items:\n",
    "    print(item1,item2)\n",
    "print('----------------')\n",
    "info = {'A' : 1, 'B' : 2, 'c' :3}\n",
    "for key in info:\n",
    "    print(key, info[key])\n",
    "print('----------------')\n",
    "for key, value in info.items():\n",
    "    print(key, value)"
   ]
  },
  {
   "cell_type": "code",
   "execution_count": 3,
   "id": "73b78031-1859-4ed8-ad81-a7f5ccb1bbd9",
   "metadata": {},
   "outputs": [
    {
     "name": "stdout",
     "output_type": "stream",
     "text": [
      "[[1, 2], [3, 4], [5, 6]]\n",
      "[['A', 'B'], ['C', 'D'], ['E', 'F']]\n",
      "--------------------------------------\n",
      "[1, 2] ['A', 'B']\n",
      "[3, 4] ['C', 'D']\n",
      "[5, 6] ['E', 'F']\n"
     ]
    }
   ],
   "source": [
    "items1 = [[1, 2], [3, 4], [5, 6]]\n",
    "items2 = [['A', 'B'], ['C', 'D'], ['E', 'F']]\n",
    "print(items1)\n",
    "print(items2)\n",
    "print('--------------------------------------')\n",
    "for digits, characters in zip(items1, items2):\n",
    "    print(digits, characters)"
   ]
  },
  {
   "cell_type": "code",
   "execution_count": 7,
   "id": "6f5cd744-48ce-4b4e-b90f-cebce1d29f49",
   "metadata": {},
   "outputs": [
    {
     "name": "stdout",
     "output_type": "stream",
     "text": [
      "[0, 1, 2, 3, 4]\n",
      "--------------------------------------\n",
      "[0, 1, 2, 3, 4]\n",
      "--------------------------------------\n",
      "[0, 7, 2, 9, 4]\n",
      "--------------------------------------\n",
      "[0, 2, 4]\n",
      "--------------------------------------\n",
      "{0: 0, 1: 10, 2: 20, 3: 30, 4: 40}\n",
      "--------------------------------------\n",
      "[2, 6, 8]\n"
     ]
    }
   ],
   "source": [
    "a = []\n",
    "for k in range(0,5):\n",
    "    a.append(k)\n",
    "print(a)\n",
    "print('--------------------------------------')\n",
    "a = [k for k in range(0,5)]\n",
    "print (a)\n",
    "print('--------------------------------------')\n",
    "a = [k if (k+1)%2 else k+5+1 for k in range(0,5)]\n",
    "print(a)\n",
    "print('--------------------------------------')\n",
    "a = [k for k in range(0,5) if k % 2 == 0]\n",
    "print(a)\n",
    "print('--------------------------------------')\n",
    "a = {k : k*10 for k in range(0,5)}\n",
    "print (a)\n",
    "print('--------------------------------------')\n",
    "a = [1, 3, 4]\n",
    "c = [a[i] + a[i] for i in range(len(a))]\n",
    "print(c)"
   ]
  }
 ],
 "metadata": {
  "kernelspec": {
   "display_name": "Python 3 (ipykernel)",
   "language": "python",
   "name": "python3"
  },
  "language_info": {
   "codemirror_mode": {
    "name": "ipython",
    "version": 3
   },
   "file_extension": ".py",
   "mimetype": "text/x-python",
   "name": "python",
   "nbconvert_exporter": "python",
   "pygments_lexer": "ipython3",
   "version": "3.10.12"
  }
 },
 "nbformat": 4,
 "nbformat_minor": 5
}

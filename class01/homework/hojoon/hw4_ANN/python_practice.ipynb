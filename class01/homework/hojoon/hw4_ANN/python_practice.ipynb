{
 "cells": [
  {
   "cell_type": "code",
   "execution_count": 1,
   "id": "b9ec999f-31f3-4b79-a35e-68a6648a4a55",
   "metadata": {},
   "outputs": [
    {
     "name": "stdout",
     "output_type": "stream",
     "text": [
      "1\n",
      "1\n",
      "String\n",
      "<class 'int'>\n",
      "<class 'int'>\n",
      "<class 'str'>\n"
     ]
    }
   ],
   "source": [
    "a = 1\n",
    "b = 1\n",
    "c = \"String\"\n",
    "\n",
    "print(a)\n",
    "print(b)\n",
    "print(c)\n",
    "\n",
    "print(type(a))\n",
    "print(type(b))\n",
    "print(type(c))"
   ]
  },
  {
   "cell_type": "code",
   "execution_count": 2,
   "id": "ebfc101f-915f-414d-bb4f-3a5a8709ac17",
   "metadata": {},
   "outputs": [],
   "source": [
    "def f(x, y):\n",
    "    val = x + y\n",
    "    return val\n",
    "    "
   ]
  },
  {
   "cell_type": "code",
   "execution_count": 3,
   "id": "ea423387-5ab5-4fdf-b5af-9520bb8658a6",
   "metadata": {},
   "outputs": [
    {
     "name": "stdout",
     "output_type": "stream",
     "text": [
      "3\n"
     ]
    }
   ],
   "source": [
    "a = 1\n",
    "b = 2\n",
    "d = f(a, b)\n",
    "print(d)"
   ]
  },
  {
   "cell_type": "code",
   "execution_count": 4,
   "id": "b95329ad-7c8d-4e90-a2a4-cd520d8dbfd6",
   "metadata": {},
   "outputs": [],
   "source": [
    "f = lambda x, y: x + y"
   ]
  },
  {
   "cell_type": "code",
   "execution_count": 5,
   "id": "1b13e927-b149-43e6-9f89-7ae4673d58f5",
   "metadata": {},
   "outputs": [
    {
     "name": "stdout",
     "output_type": "stream",
     "text": [
      "3\n"
     ]
    }
   ],
   "source": [
    "a = 1\n",
    "b = 2\n",
    "d = f(a, b)\n",
    "print(d)"
   ]
  },
  {
   "cell_type": "code",
   "execution_count": 2,
   "id": "a2552479-51a3-448f-9cb6-783c122cb2f1",
   "metadata": {},
   "outputs": [
    {
     "name": "stdout",
     "output_type": "stream",
     "text": [
      "[1, 3, 4]\n",
      "[9, 3, 4]\n",
      "[1, 3, 'string']\n",
      "[1, 3, 'string', 6.24]\n",
      "[9, 3, 4, 9, 3, 4]\n",
      "[1, 3, 'string', 6.24, 1, 3, 'string', 6.24]\n",
      "[81, 9, 16]\n"
     ]
    }
   ],
   "source": [
    "a = [1, 3, 4]\n",
    "print(a)\n",
    "a[0] = 9\n",
    "print(a)\n",
    "\n",
    "b = [1, 3, 'string']\n",
    "print(b)\n",
    "b.append(6.24)\n",
    "print(b)\n",
    "\n",
    "print(2*a)\n",
    "print(b*2)\n",
    "\n",
    "c = [a[i] * a[i] for i in range(len(a))]\n",
    "print(c)"
   ]
  },
  {
   "cell_type": "code",
   "execution_count": 3,
   "id": "c6fd0cc7-3fbd-4bfd-a922-a408ab016804",
   "metadata": {},
   "outputs": [
    {
     "name": "stdout",
     "output_type": "stream",
     "text": [
      "(1, 2, 3)\n",
      "(1, 3, 'string')\n"
     ]
    },
    {
     "ename": "TypeError",
     "evalue": "'tuple' object does not support item assignment",
     "output_type": "error",
     "traceback": [
      "\u001b[0;31m---------------------------------------------------------------------------\u001b[0m",
      "\u001b[0;31mTypeError\u001b[0m                                 Traceback (most recent call last)",
      "Cell \u001b[0;32mIn[3], line 5\u001b[0m\n\u001b[1;32m      3\u001b[0m b \u001b[38;5;241m=\u001b[39m (\u001b[38;5;241m1\u001b[39m, \u001b[38;5;241m3\u001b[39m, \u001b[38;5;124m'\u001b[39m\u001b[38;5;124mstring\u001b[39m\u001b[38;5;124m'\u001b[39m)\n\u001b[1;32m      4\u001b[0m \u001b[38;5;28mprint\u001b[39m(b)\n\u001b[0;32m----> 5\u001b[0m \u001b[43ma\u001b[49m\u001b[43m[\u001b[49m\u001b[38;5;241;43m0\u001b[39;49m\u001b[43m]\u001b[49m \u001b[38;5;241m=\u001b[39m \u001b[38;5;241m2\u001b[39m\n\u001b[1;32m      6\u001b[0m a\u001b[38;5;241m.\u001b[39mappend(\u001b[38;5;241m4\u001b[39m)\n",
      "\u001b[0;31mTypeError\u001b[0m: 'tuple' object does not support item assignment"
     ]
    }
   ],
   "source": [
    "a = (1, 2, 3)\n",
    "print(a)\n",
    "b = (1, 3, 'string')\n",
    "print(b)\n",
    "a[0] = 2\n",
    "a.append(4)"
   ]
  },
  {
   "cell_type": "code",
   "execution_count": 4,
   "id": "87dd2d78-8285-4325-a19a-121d5b3bb655",
   "metadata": {},
   "outputs": [
    {
     "name": "stdout",
     "output_type": "stream",
     "text": [
      "{'a': 2.3, 'B': 'C', 5: 'O'}\n",
      "{'a': 5.2, 'B': 'C', 5: 'O', 'Hello': [1, 2, 3, 4, 'World']}\n"
     ]
    }
   ],
   "source": [
    "info = {'a' : 2.3, 'B' : 'C', 5 : 'O'}\n",
    "print(info)\n",
    "\n",
    "info['a'] = 5.2\n",
    "\n",
    "info['Hello'] = [1, 2, 3, 4, 'World']\n",
    "print(info)"
   ]
  },
  {
   "cell_type": "code",
   "execution_count": 6,
   "id": "ea1c4f31-57e3-4292-ad13-e67a0fb44639",
   "metadata": {},
   "outputs": [
    {
     "name": "stdout",
     "output_type": "stream",
     "text": [
      "banana\n"
     ]
    }
   ],
   "source": [
    "thistuple = (\"apple\", \"banana\", \"cherry\")\n",
    "print(thistuple[1])"
   ]
  },
  {
   "cell_type": "code",
   "execution_count": 7,
   "id": "ae28daf4-feb3-4343-9ab6-a1287bd2ded5",
   "metadata": {},
   "outputs": [
    {
     "name": "stdout",
     "output_type": "stream",
     "text": [
      "apple\n",
      "banana\n",
      "cherry\n"
     ]
    }
   ],
   "source": [
    "for x in thistuple:\n",
    "    print(x)"
   ]
  },
  {
   "cell_type": "code",
   "execution_count": 8,
   "id": "a571b1c3-586b-4ce6-95a6-ef94b2384467",
   "metadata": {},
   "outputs": [
    {
     "name": "stdout",
     "output_type": "stream",
     "text": [
      "True\n",
      "<class 'tuple'> <class 'int'>\n"
     ]
    }
   ],
   "source": [
    "tuple1 = (\"abc\", 34, True, 40, \"male\", \"abc\")\n",
    "print(tuple1[2])\n",
    "a=1,\n",
    "b=1\n",
    "\n",
    "print(type(a), type(b))"
   ]
  },
  {
   "cell_type": "code",
   "execution_count": 9,
   "id": "c4761199-8cfe-4f4d-ab60-efaf7041ddf6",
   "metadata": {},
   "outputs": [
    {
     "name": "stdout",
     "output_type": "stream",
     "text": [
      "(1,) 1\n"
     ]
    }
   ],
   "source": [
    "print(a, b)"
   ]
  },
  {
   "cell_type": "code",
   "execution_count": 10,
   "id": "f7ba2459-fcb4-4b19-b081-07dd3c67de46",
   "metadata": {},
   "outputs": [
    {
     "name": "stdout",
     "output_type": "stream",
     "text": [
      "('a', 'b', 'c', 1, 2, 3) (1, 2, 3, 1, 2, 3)\n"
     ]
    }
   ],
   "source": [
    "tuple1 = (\"a\", \"b\", \"c\")\n",
    "tuple2 = (1, 2, 3)\n",
    "tuple3 = tuple1 + tuple2\n",
    "tuple4 = tuple2 * 2\n",
    "print(tuple3, tuple4)"
   ]
  },
  {
   "cell_type": "code",
   "execution_count": 11,
   "id": "55e0b64c-2afb-4db9-83f4-5bc3d2b3fe63",
   "metadata": {},
   "outputs": [
    {
     "name": "stdout",
     "output_type": "stream",
     "text": [
      "('apple', 'banana', 'cherry')\n",
      "('apple', 'banana', 'cherry', 'orange')\n"
     ]
    }
   ],
   "source": [
    "thisistuple = (\"apple\", \"banana\", \"cherry\")\n",
    "print(thisistuple)\n",
    "\n",
    "y = (\"orange\",)\n",
    "thisistuple += y\n",
    "print(thisistuple)"
   ]
  },
  {
   "cell_type": "code",
   "execution_count": 12,
   "id": "5c5b22e3-93f4-4f74-8055-80b094ad771d",
   "metadata": {},
   "outputs": [
    {
     "name": "stdout",
     "output_type": "stream",
     "text": [
      "('apple', 'banana', 'cherry')\n",
      "('apple', 'banana', 'cherry', 'orange')\n"
     ]
    }
   ],
   "source": [
    "thisistuple = (\"apple\", \"banana\", \"cherry\")\n",
    "print(thisistuple)\n",
    "\n",
    "y = list(thisistuple)\n",
    "y.append(\"orange\")\n",
    "thisistuple = tuple(y)\n",
    "print(thisistuple)"
   ]
  },
  {
   "cell_type": "code",
   "execution_count": 13,
   "id": "21d8a05e-6133-4070-88a9-ae55e1126132",
   "metadata": {},
   "outputs": [
    {
     "name": "stdout",
     "output_type": "stream",
     "text": [
      "apple\n",
      "banana\n",
      "['cherry', 'strawberry', 'raspberry']\n"
     ]
    }
   ],
   "source": [
    "fruits = (\"apple\", \"banana\", \"cherry\", \"strawberry\", \"raspberry\")\n",
    "(green, yellow, *red) = fruits\n",
    "\n",
    "print(green)\n",
    "print(yellow)\n",
    "print(red)"
   ]
  },
  {
   "cell_type": "code",
   "execution_count": 14,
   "id": "e95bb203-a713-44a2-a87f-22d6dd0b0a10",
   "metadata": {},
   "outputs": [
    {
     "name": "stdout",
     "output_type": "stream",
     "text": [
      "apple\n",
      "['banana', 'cherry', 'strawberry']\n",
      "raspberry\n"
     ]
    }
   ],
   "source": [
    "fruits = (\"apple\", \"banana\", \"cherry\", \"strawberry\", \"raspberry\")\n",
    "(green, *trapic, red) = fruits\n",
    "\n",
    "print(green)\n",
    "print(trapic)\n",
    "print(red)"
   ]
  },
  {
   "cell_type": "code",
   "execution_count": 19,
   "id": "90d117c1-0673-4427-83e7-e40bf7e864c8",
   "metadata": {},
   "outputs": [
    {
     "name": "stdout",
     "output_type": "stream",
     "text": [
      "1\n",
      "2\n",
      "3\n",
      "4\n",
      "Hello\n",
      "4.24\n",
      "------\n",
      "1\n",
      "2\n",
      "3\n",
      "4\n",
      "Hello\n",
      "4.24\n",
      "------\n",
      "A 1\n",
      "B 2\n",
      "C 3\n",
      "-------\n",
      "A 1\n",
      "B 2\n",
      "C 3\n",
      "[[1, 2], [3, 4], [5, 6]]\n",
      "[['A', 'B'], ['C', 'D'], ['E', 'F']]\n",
      "----------------------\n",
      "[1, 2] ['A', 'B']\n",
      "[3, 4] ['C', 'D']\n",
      "[5, 6] ['E', 'F']\n"
     ]
    }
   ],
   "source": [
    "items = [1, 2, 3, 4, 'Hello', 4.24]\n",
    "for k in range(0, len(items)):\n",
    "    print(items[k])\n",
    "\n",
    "print(\"------\")\n",
    "\n",
    "for item in items:\n",
    "    print(item)\n",
    "\n",
    "print(\"------\")\n",
    "\n",
    "info = {'A' :1, 'B' :2, 'C' :3}\n",
    "for key in info:\n",
    "    print(key, info[key])\n",
    "\n",
    "print(\"-------\")\n",
    "\n",
    "for key, value in info.items():\n",
    "    print(key, value)\n",
    "\n",
    "items1 = [[1, 2], [3, 4], [5, 6]]\n",
    "items2 = [['A', 'B'], ['C', 'D'], ['E', 'F']]\n",
    "print(items1)\n",
    "print(items2)\n",
    "print(\"----------------------\")\n",
    "for digits, characters in zip(items1, items2):\n",
    "    print(digits, characters)"
   ]
  },
  {
   "cell_type": "code",
   "execution_count": 20,
   "id": "7eb426d8-810b-48dc-859e-51ec1092abc2",
   "metadata": {},
   "outputs": [],
   "source": [
    "filename = \"readme.txt\"\n",
    "file = open(filename, 'w')\n",
    "file.write(\"Hello world\")\n",
    "file.close()"
   ]
  },
  {
   "cell_type": "code",
   "execution_count": 22,
   "id": "6f36d609-2943-47d9-8a51-3c756b2d75b4",
   "metadata": {},
   "outputs": [
    {
     "name": "stdout",
     "output_type": "stream",
     "text": [
      "Hello world\n"
     ]
    }
   ],
   "source": [
    "filename = \"readme.txt\"\n",
    "file = open(filename, 'r')\n",
    "content = file.read()\n",
    "print(content)\n",
    "file.close()"
   ]
  },
  {
   "cell_type": "code",
   "execution_count": 25,
   "id": "0a3b5e67-63ab-4e49-bdad-2affdef4743a",
   "metadata": {},
   "outputs": [
    {
     "name": "stdout",
     "output_type": "stream",
     "text": [
      "[(0, 'cherry'), (1, 'banana'), (2, 'apple')]\n",
      "-------------\n",
      "(0, 'A')\n",
      "(1, 'B')\n",
      "(2, 'C')\n",
      "-------------\n",
      "0 A\n",
      "1 B\n",
      "2 C\n",
      "-------------\n",
      "101 A\n",
      "102 B\n",
      "103 C\n"
     ]
    }
   ],
   "source": [
    "x = {'apple', 'banana', 'cherry'}\n",
    "y = enumerate(x)\n",
    "print(list(y))\n",
    "print(\"-------------\")\n",
    "for entry in enumerate(['A', 'B', 'C']):\n",
    "    print(entry)\n",
    "\n",
    "print(\"-------------\")\n",
    "\n",
    "for i, letter in enumerate(['A', 'B', 'C']):\n",
    "    print(i, letter)\n",
    "\n",
    "print(\"-------------\")\n",
    "\n",
    "for i, letter in enumerate(['A', 'B', 'C'], start=101):\n",
    "    print(i, letter)"
   ]
  },
  {
   "cell_type": "code",
   "execution_count": 26,
   "id": "3925dda4-9178-43c8-9596-3d3ba164840a",
   "metadata": {},
   "outputs": [],
   "source": [
    "filename = \"readme.txt\"\n",
    "with open(filename, 'w') as file:\n",
    "    file.write(\"Hello world\")"
   ]
  },
  {
   "cell_type": "code",
   "execution_count": 27,
   "id": "c197026a-d726-4864-884d-da135ea1dc59",
   "metadata": {},
   "outputs": [
    {
     "name": "stdout",
     "output_type": "stream",
     "text": [
      "Hello world\n"
     ]
    }
   ],
   "source": [
    "filename = \"readme.txt\"\n",
    "with open(filename, 'r') as file:\n",
    "    content = file.read()\n",
    "    print(content)"
   ]
  },
  {
   "cell_type": "code",
   "execution_count": null,
   "id": "50271dbf-7028-42c8-af28-4c763bb1b4cf",
   "metadata": {},
   "outputs": [],
   "source": []
  }
 ],
 "metadata": {
  "kernelspec": {
   "display_name": "Python 3 (ipykernel)",
   "language": "python",
   "name": "python3"
  },
  "language_info": {
   "codemirror_mode": {
    "name": "ipython",
    "version": 3
   },
   "file_extension": ".py",
   "mimetype": "text/x-python",
   "name": "python",
   "nbconvert_exporter": "python",
   "pygments_lexer": "ipython3",
   "version": "3.10.12"
  }
 },
 "nbformat": 4,
 "nbformat_minor": 5
}

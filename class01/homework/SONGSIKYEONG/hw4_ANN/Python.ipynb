{
 "cells": [
  {
   "cell_type": "code",
   "execution_count": 3,
   "id": "6ea2b031-7a9a-401c-bdda-bfdc7659c30a",
   "metadata": {},
   "outputs": [
    {
     "name": "stdout",
     "output_type": "stream",
     "text": [
      "1\n",
      "2\n",
      "String\n",
      "<class 'int'>\n",
      "<class 'int'>\n",
      "<class 'str'>\n"
     ]
    }
   ],
   "source": [
    "a = 1\n",
    "b = 2\n",
    "c = \"String\"\n",
    "print (a)\n",
    "print (b)\n",
    "print (c)\n",
    "print (type(a))\n",
    "print (type(b))\n",
    "print (type(c))"
   ]
  },
  {
   "cell_type": "code",
   "execution_count": 5,
   "id": "c8b37257-fdad-4670-a66b-72fae380dda3",
   "metadata": {},
   "outputs": [],
   "source": [
    "def f(x,y):\n",
    "    val = x+y\n",
    "    return val\n"
   ]
  },
  {
   "cell_type": "markdown",
   "id": "1f422b25-6b2e-495a-a275-d8232582a9ce",
   "metadata": {},
   "source": []
  },
  {
   "cell_type": "code",
   "execution_count": 6,
   "id": "d36b2005-964c-4bcf-ab48-0431837601c5",
   "metadata": {},
   "outputs": [
    {
     "name": "stdout",
     "output_type": "stream",
     "text": [
      "3\n"
     ]
    }
   ],
   "source": [
    "a = 1\n",
    "b =2\n",
    "d = f(a,b)\n",
    "print(d)"
   ]
  },
  {
   "cell_type": "code",
   "execution_count": 10,
   "id": "d877f717-13ce-49df-aa95-b3fafc46326c",
   "metadata": {},
   "outputs": [
    {
     "name": "stdout",
     "output_type": "stream",
     "text": [
      "3\n"
     ]
    }
   ],
   "source": [
    "f= lambda x,y : x + y\n",
    "a = 1\n",
    "b = 2\n",
    "d = f(a,b)\n",
    "print(d)"
   ]
  },
  {
   "cell_type": "code",
   "execution_count": 13,
   "id": "02136063-96c0-467b-a723-b2c23c928496",
   "metadata": {},
   "outputs": [
    {
     "name": "stdout",
     "output_type": "stream",
     "text": [
      "[1, 3, 4]\n",
      "[9, 3, 4]\n",
      "[1, 3, 'string']\n",
      "[1, 3, 'string', 6.24]\n",
      "[9, 3, 4, 9, 3, 4]\n",
      "[1, 3, 'string', 6.24, 1, 3, 'string', 6.24]\n"
     ]
    }
   ],
   "source": [
    "a = [1,3,4]\n",
    "print (a)\n",
    "a[0] = 9\n",
    "print (a)\n",
    "\n",
    "b = [1,3,'string']\n",
    "print(b)\n",
    "b.append(6.24)\n",
    "print(b)\n",
    "\n",
    "print(2*a)\n",
    "print(b*2)\n",
    "c=[a[i]+ a[i] for i in range(len(a))]"
   ]
  },
  {
   "cell_type": "code",
   "execution_count": 25,
   "id": "251d5f8b-50ae-4d2c-8990-385a07795e3f",
   "metadata": {},
   "outputs": [
    {
     "name": "stdout",
     "output_type": "stream",
     "text": [
      "(1, 2, 3)\n",
      "(1, 3, 'string')\n"
     ]
    },
    {
     "ename": "TypeError",
     "evalue": "'tuple' object does not support item assignment",
     "output_type": "error",
     "traceback": [
      "\u001b[0;31m---------------------------------------------------------------------------\u001b[0m",
      "\u001b[0;31mTypeError\u001b[0m                                 Traceback (most recent call last)",
      "Cell \u001b[0;32mIn[25], line 6\u001b[0m\n\u001b[1;32m      3\u001b[0m b \u001b[38;5;241m=\u001b[39m (\u001b[38;5;241m1\u001b[39m,\u001b[38;5;241m3\u001b[39m,\u001b[38;5;124m'\u001b[39m\u001b[38;5;124mstring\u001b[39m\u001b[38;5;124m'\u001b[39m)\n\u001b[1;32m      4\u001b[0m \u001b[38;5;28mprint\u001b[39m(b)\n\u001b[0;32m----> 6\u001b[0m \u001b[43ma\u001b[49m\u001b[43m[\u001b[49m\u001b[38;5;241;43m0\u001b[39;49m\u001b[43m]\u001b[49m \u001b[38;5;241m=\u001b[39m \u001b[38;5;241m2\u001b[39m\n\u001b[1;32m      7\u001b[0m a\u001b[38;5;241m.\u001b[39mappend(\u001b[38;5;241m4\u001b[39m)\n",
      "\u001b[0;31mTypeError\u001b[0m: 'tuple' object does not support item assignment"
     ]
    }
   ],
   "source": [
    "a = (1,2,3)\n",
    "print (a)\n",
    "b = (1,3,'string')\n",
    "print(b)\n",
    "\n",
    "a[0] = 2\n",
    "a.append(4)"
   ]
  },
  {
   "cell_type": "code",
   "execution_count": 26,
   "id": "06840da1-e1ea-411c-8686-0272ebb8aee4",
   "metadata": {},
   "outputs": [
    {
     "name": "stdout",
     "output_type": "stream",
     "text": [
      "{'A': 2.3, 'B': 'C', 5: 'd'}\n",
      "{'A': 5.2, 'B': 'C', 5: 'd'}\n",
      "{'A': 5.2, 'B': 'C', 5: 'd', 'Hello': [1, 2, 3, 4, 'world']}\n"
     ]
    }
   ],
   "source": [
    "info = {'A' : 2.3, 'B' :'C' , 5 : 'd'}\n",
    "print(info)\n",
    "\n",
    "info['A'] =5.2\n",
    "print(info)\n",
    "\n",
    "info['Hello'] = [1,2,3,4,'world']\n",
    "print(info)\n"
   ]
  },
  {
   "cell_type": "code",
   "execution_count": 27,
   "id": "cb0f0b5e-8d15-4b3d-ad3c-4be2180c3849",
   "metadata": {},
   "outputs": [
    {
     "name": "stdout",
     "output_type": "stream",
     "text": [
      "banana\n",
      "apple\n",
      "banana\n",
      "cherry\n",
      "True\n",
      "<class 'tuple'> <class 'int'>\n",
      "(1,) 1\n",
      "('a', 'b', 'c', 1, 2, 3) (1, 2, 3, 1, 2, 3)\n"
     ]
    }
   ],
   "source": [
    "# 기본 타입 튜플(tuple)실습\n",
    "thistuple = (\"apple\",\"banana\",\"cherry\")\n",
    "print(thistuple[1])\n",
    "for x in thistuple:\n",
    "    print(x)\n",
    "tuple1= (\"abc\",34,True,40,\"male\",\"abc\")\n",
    "print(tuple1[2])\n",
    "a=1,\n",
    "b=1\n",
    "\n",
    "print(type(a),type(b))\n",
    "print(a,b)\n",
    "\n",
    "\n",
    "tuple1= (\"a\",\"b\",\"c\")\n",
    "tuple2=(1,2,3)\n",
    "tuple3= tuple1 + tuple2\n",
    "tuple4= tuple2*2\n",
    "print (tuple3, tuple4)"
   ]
  },
  {
   "cell_type": "code",
   "execution_count": 31,
   "id": "66648a4c-373f-42c6-b9f9-8f7138e389a4",
   "metadata": {},
   "outputs": [
    {
     "name": "stdout",
     "output_type": "stream",
     "text": [
      "('apple', 'banana', 'cherry')\n",
      "('apple', 'banana', 'cherry', 'orange')\n",
      "('apple', 'banana', 'cherry')\n",
      "('apple', 'banana', 'cherry', 'orange')\n",
      "apple\n",
      "banana\n",
      "['cherry', 'strawberry', 'raspberry']\n"
     ]
    }
   ],
   "source": [
    "#udate tuple\n",
    "thistuple = (\"apple\",\"banana\",\"cherry\")\n",
    "print(thistuple)\n",
    "y=(\"orange\",)\n",
    "thistuple += y\n",
    "print(thistuple)\n",
    "\n",
    "thistuple = (\"apple\",\"banana\",\"cherry\")\n",
    "print(thistuple)\n",
    "y = list(thistuple)\n",
    "y.append('orange')\n",
    "thistuple = tuple(y)\n",
    "print(thistuple)\n",
    "\n",
    "frults= (\"apple\", \"banana\",\"cherry\",\"strawberry\",\"raspberry\")\n",
    "(green,yellow, *red)=frults\n",
    "# *red는 남은 나머지 주소를 전부 할당하겠다는 뜻\n",
    "print(green)\n",
    "print(yellow)\n",
    "print(red)"
   ]
  },
  {
   "cell_type": "code",
   "execution_count": 40,
   "id": "5e28a730-b535-4d72-bd92-437305801e63",
   "metadata": {},
   "outputs": [
    {
     "name": "stdout",
     "output_type": "stream",
     "text": [
      "1\n",
      "2\n",
      "3\n",
      "4\n",
      "hello\n",
      "6.24\n",
      "-------------\n",
      "1\n",
      "2\n",
      "3\n",
      "4\n",
      "hello\n",
      "6.24\n",
      "-------------\n",
      "1 2\n",
      "3 4\n",
      "5 6\n",
      "-------------\n",
      "1 2\n",
      "3 4\n",
      "5 6\n",
      "-------------\n",
      "A {'A': 1, 'B': 2, 'C': 3} ['A']\n",
      "B {'A': 1, 'B': 2, 'C': 3} ['B']\n",
      "C {'A': 1, 'B': 2, 'C': 3} ['C']\n",
      "-------------\n",
      "A 1\n",
      "B 2\n",
      "C 3\n"
     ]
    }
   ],
   "source": [
    "#for loop\n",
    "\n",
    "items = [1,2,3,4,'hello',6.24]\n",
    "\n",
    "for k in range(0,len(items)):\n",
    "    print(items[k])\n",
    "print('-------------')\n",
    "for item in items:\n",
    "    print(item)\n",
    "print('-------------')\n",
    "items = [[1,2],[3,4],[5,6]]\n",
    "for item in items:\n",
    "    print(item[0],item[1])\n",
    "print('-------------')\n",
    "for item1,item2 in items:\n",
    "    print(item1,item2)\n",
    "print('-------------')\n",
    "info = {'A' : 1, 'B' :2, 'C' :3}\n",
    "for key in info:\n",
    "    print(key, info,[key])\n",
    "print('-------------')\n",
    "for key,val in info.items():\n",
    "    print (key,val)"
   ]
  },
  {
   "cell_type": "code",
   "execution_count": 39,
   "id": "bdb34801-bb4b-456c-a9cb-43e78b58c419",
   "metadata": {},
   "outputs": [
    {
     "name": "stdout",
     "output_type": "stream",
     "text": [
      "[[1, 2], [3, 4], [5, 6]]\n",
      "[['A', 'B'], ['C', 'D'], ['E', 'F']]\n",
      "--------------------------------------------\n",
      "[1, 2] ['A', 'B']\n",
      "[3, 4] ['C', 'D']\n",
      "[5, 6] ['E', 'F']\n"
     ]
    }
   ],
   "source": [
    "items1 = [[1,2],[3,4],[5,6]]\n",
    "items2 = [['A','B'],['C','D'],['E','F']]\n",
    "print(items1)\n",
    "print(items2)\n",
    "print('--------------------------------------------')\n",
    "for digits, characters in zip(items1,items2):\n",
    "    print (digits, characters)"
   ]
  },
  {
   "cell_type": "code",
   "execution_count": 58,
   "id": "4c4ea52b-687b-42e4-a08b-ae952eee13b0",
   "metadata": {},
   "outputs": [
    {
     "name": "stdout",
     "output_type": "stream",
     "text": [
      "[0, 1, 2, 3, 4]\n",
      "------------------------\n",
      "[0, 1, 2, 3, 4]\n",
      "------------------------\n",
      "[0, 1]\n",
      "------------------------\n",
      "[0, 2, 4]\n",
      "------------------------\n",
      "{0: 0, 1: 10, 2: 20, 3: 30, 4: 40}\n",
      "------------------------\n",
      "[1, 9, 16]\n"
     ]
    }
   ],
   "source": [
    "a= []\n",
    "for k in range(0,5):\n",
    "    a.append(k)\n",
    "print(a)\n",
    "print('------------------------')\n",
    "a = [k for k in range(0,5)]\n",
    "print(a)\n",
    "print('------------------------')\n",
    "a = [k if (k*1)%2 else k*5*1 for k in range(0,2)]\n",
    "print(a)\n",
    "print('------------------------')\n",
    "a = [k for k in range(0,5) if k% 2== 0]\n",
    "print(a)\n",
    "print('------------------------')\n",
    "a = {k : k*10 for k in range(0,5)}\n",
    "print(a)\n",
    "print('------------------------')\n",
    "a = [1,3,4]\n",
    "c = [a[i] * a[i] for i in range(len(a))]\n",
    "print(c)\n"
   ]
  },
  {
   "cell_type": "code",
   "execution_count": null,
   "id": "4ef9b7fc-e1cc-43a6-95df-db673a7a4750",
   "metadata": {},
   "outputs": [],
   "source": []
  },
  {
   "cell_type": "code",
   "execution_count": 43,
   "id": "a0c8cd9e-dcfa-4ff4-ab04-2f869c239936",
   "metadata": {},
   "outputs": [
    {
     "name": "stdout",
     "output_type": "stream",
     "text": [
      "[(0, 'apple'), (1, 'banana'), (2, 'cherry')]\n",
      "------------------------\n",
      "(0, 'A')\n",
      "(1, 'B')\n",
      "(2, 'C')\n",
      "------------------------\n",
      "0 A\n",
      "1 B\n",
      "2 C\n",
      "------------------------\n",
      "101 A\n",
      "102 B\n",
      "103 C\n"
     ]
    }
   ],
   "source": [
    "#enumerate\n",
    "x = ('apple','banana','cherry')\n",
    "y = enumerate(x)\n",
    "print(list(y))\n",
    "print('------------------------')\n",
    "for entry in enumerate(['A','B','C']):\n",
    "    print(entry)\n",
    "print('------------------------')\n",
    "for i , entry in enumerate(['A','B','C']):\n",
    "    print(i,entry)\n",
    "print('------------------------')\n",
    "for i , letter in enumerate(['A','B','C'],start=101):\n",
    "    print(i,letter)\n",
    "\n"
   ]
  },
  {
   "cell_type": "code",
   "execution_count": 45,
   "id": "123f2f65-5c22-4063-874a-8f581287ff3e",
   "metadata": {},
   "outputs": [],
   "source": [
    "#파일 쓰기 \n",
    "filename = 'readme.txt'\n",
    "file = open(filename,'w')\n",
    "file.write(\"Hello world\")\n",
    "file.close()"
   ]
  },
  {
   "cell_type": "code",
   "execution_count": 46,
   "id": "74e9da79-d948-48fa-b755-642bb225161c",
   "metadata": {},
   "outputs": [
    {
     "name": "stdout",
     "output_type": "stream",
     "text": [
      "Hello world\n"
     ]
    }
   ],
   "source": [
    "#파일 읽기\n",
    "filename = 'readme.txt'\n",
    "file = open(filename,'r')\n",
    "content = file.read()\n",
    "print(content)\n",
    "file.close()"
   ]
  },
  {
   "cell_type": "code",
   "execution_count": 47,
   "id": "41398d97-874a-4dac-877d-9c266406527d",
   "metadata": {},
   "outputs": [],
   "source": [
    "filename = 'readme.txt'\n",
    "with open(filename, 'w')as file:\n",
    "    file.write(\"Hello world\")"
   ]
  },
  {
   "cell_type": "code",
   "execution_count": 48,
   "id": "5e864fb6-2fa5-4418-8b9f-61e9c81f6c77",
   "metadata": {},
   "outputs": [
    {
     "name": "stdout",
     "output_type": "stream",
     "text": [
      "Hello world\n"
     ]
    }
   ],
   "source": [
    "filename = 'readme.txt'\n",
    "with open(filename, 'r')as file:\n",
    "    content = file.read()\n",
    "    print(content)"
   ]
  },
  {
   "cell_type": "code",
   "execution_count": null,
   "id": "ce19c407-19bc-4282-85e6-a0505630c1b3",
   "metadata": {},
   "outputs": [],
   "source": []
  }
 ],
 "metadata": {
  "kernelspec": {
   "display_name": "Python 3 (ipykernel)",
   "language": "python",
   "name": "python3"
  },
  "language_info": {
   "codemirror_mode": {
    "name": "ipython",
    "version": 3
   },
   "file_extension": ".py",
   "mimetype": "text/x-python",
   "name": "python",
   "nbconvert_exporter": "python",
   "pygments_lexer": "ipython3",
   "version": "3.10.12"
  }
 },
 "nbformat": 4,
 "nbformat_minor": 5
}

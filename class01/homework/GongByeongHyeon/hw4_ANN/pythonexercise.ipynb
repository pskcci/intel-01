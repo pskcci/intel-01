{
 "cells": [
  {
   "cell_type": "code",
   "execution_count": 11,
   "id": "fc25eaeb-e609-4af7-a47e-112b81b041cb",
   "metadata": {},
   "outputs": [
    {
     "name": "stdout",
     "output_type": "stream",
     "text": [
      "[1, 3, 4]\n",
      "[9, 3, 4]\n",
      "[1, 3, 'string']\n",
      "[1, 3, 'string', 6.24]\n",
      "[9, 3, 4, 9, 3, 4]\n",
      "[1, 3, 'string', 6.24, 1, 3, 'string', 6.24]\n",
      "[18, 6, 8]\n"
     ]
    },
    {
     "data": {
      "text/plain": [
       "[18, 6, 8]"
      ]
     },
     "execution_count": 11,
     "metadata": {},
     "output_type": "execute_result"
    }
   ],
   "source": [
    "a = [1, 3, 4]\n",
    "print(a)\n",
    "a[0] = 9\n",
    "print(a)\n",
    "\n",
    "b = [1, 3, 'string']\n",
    "print(b)\n",
    "b.append(6.24)\n",
    "print(b)\n",
    "\n",
    "print(2*a)\n",
    "print(b*2)\n",
    "c = [a[i] + a[i] for i in range(len(a))]\n",
    "print(c)\n",
    "\n",
    "[1, 3, 4]\n",
    "[9, 3, 4]\n",
    "[1, 3, 'string']\n",
    "[1, 3, 'string']\n",
    "[1, 3, 'string', 6.24]\n",
    "[9, 3, 4, 9, 3, 4]\n",
    "[1, 3, 'string', 6.24, 1, 3, 'string', 6.24]\n",
    "[18, 6, 8]"
   ]
  },
  {
   "cell_type": "code",
   "execution_count": 12,
   "id": "0c7ffc8f-2aca-45fd-b388-fa202082377c",
   "metadata": {},
   "outputs": [
    {
     "name": "stdout",
     "output_type": "stream",
     "text": [
      "(1, 2, 3)\n",
      "(1, 3, 'string')\n"
     ]
    },
    {
     "ename": "TypeError",
     "evalue": "'tuple' object does not support item assignment",
     "output_type": "error",
     "traceback": [
      "\u001b[0;31m---------------------------------------------------------------------------\u001b[0m",
      "\u001b[0;31mTypeError\u001b[0m                                 Traceback (most recent call last)",
      "Cell \u001b[0;32mIn[12], line 6\u001b[0m\n\u001b[1;32m      3\u001b[0m b \u001b[38;5;241m=\u001b[39m (\u001b[38;5;241m1\u001b[39m, \u001b[38;5;241m3\u001b[39m, \u001b[38;5;124m'\u001b[39m\u001b[38;5;124mstring\u001b[39m\u001b[38;5;124m'\u001b[39m)\n\u001b[1;32m      4\u001b[0m \u001b[38;5;28mprint\u001b[39m(b)\n\u001b[0;32m----> 6\u001b[0m \u001b[43ma\u001b[49m\u001b[43m[\u001b[49m\u001b[38;5;241;43m0\u001b[39;49m\u001b[43m]\u001b[49m \u001b[38;5;241m=\u001b[39m \u001b[38;5;241m2\u001b[39m\n\u001b[1;32m      7\u001b[0m a\u001b[38;5;241m.\u001b[39mappend(\u001b[38;5;241m4\u001b[39m)\n",
      "\u001b[0;31mTypeError\u001b[0m: 'tuple' object does not support item assignment"
     ]
    }
   ],
   "source": [
    "a = (1, 2, 3)\n",
    "print(a)\n",
    "b = (1, 3, 'string')\n",
    "print(b)\n",
    "\n",
    "a[0] = 2\n",
    "a.append(4)"
   ]
  },
  {
   "cell_type": "code",
   "execution_count": 14,
   "id": "91c6a602-7777-4f7e-8ea1-33509b099db5",
   "metadata": {},
   "outputs": [
    {
     "name": "stdout",
     "output_type": "stream",
     "text": [
      "{'A': 2.3, 'B': 'C', '5': 'D'}\n",
      "{'A': 5.2, 'B': 'C', '5': 'D'}\n",
      "{'A': 5.2, 'B': 'C', '5': 'D', 'Hello': [1, 2, 3, 4, 'World.']}\n"
     ]
    }
   ],
   "source": [
    "info = {'A' : 2.3, 'B' : 'C', '5' : 'D'}\n",
    "print(info)\n",
    "\n",
    "info['A'] = 5.2\n",
    "print(info)\n",
    "\n",
    "info['Hello'] = [1, 2, 3, 4, \"World.\"]\n",
    "print(info)"
   ]
  },
  {
   "cell_type": "code",
   "execution_count": 20,
   "id": "9e6d27ea-1347-453d-8027-ec12f1836857",
   "metadata": {},
   "outputs": [
    {
     "name": "stdout",
     "output_type": "stream",
     "text": [
      "banana\n",
      "apple\n",
      "banana\n",
      "cherry\n",
      "True\n",
      "<class 'tuple'> <class 'int'>\n",
      "('a', 'b', 'c') (1, 2, 3) ('a', 'b', 'c', 1, 2, 3) (1, 2, 3, 1, 2, 3)\n"
     ]
    }
   ],
   "source": [
    "thistuple = (\"apple\", \"banana\", \"cherry\")\n",
    "print(thistuple[1])\n",
    "for x in thistuple:\n",
    "    print(x)\n",
    "tuple1 = (\"abc\", 34, True, 40, \"male\", \"abc\")\n",
    "print(tuple1[2])\n",
    "a = 1,\n",
    "b = 1\n",
    "print(type(a), type(b))\n",
    "\n",
    "tuple1 = (\"a\", \"b\", \"c\")\n",
    "tuple2 = (1, 2, 3)\n",
    "tuple3 = tuple1 + tuple2\n",
    "tuple4 = tuple2 * 2\n",
    "print(tuple1, tuple2, tuple3, tuple4)"
   ]
  },
  {
   "cell_type": "code",
   "execution_count": 23,
   "id": "7b1cd929-c4b4-41ba-b664-bb1e9e9feec4",
   "metadata": {},
   "outputs": [
    {
     "name": "stdout",
     "output_type": "stream",
     "text": [
      "('apple', 'banana', 'cherry')\n",
      "('apple', 'banana', 'cherry', 'orange')\n",
      "('apple', 'banana', 'cherry')\n",
      "('apple', 'banana', 'cherry', 'orange')\n",
      "apple\n",
      "banana\n",
      "['cherry', 'strawberry', 'raspberry']\n",
      "apple\n",
      "['banana', 'cherry', 'strawberry']\n",
      "raspberry\n",
      "<class 'str'>\n",
      "<class 'tuple'>\n"
     ]
    }
   ],
   "source": [
    "thistuple = (\"apple\", \"banana\", \"cherry\")\n",
    "print(thistuple)\n",
    "y = (\"orange\",)\n",
    "thistuple += y\n",
    "print(thistuple)\n",
    "\n",
    "thistuple = (\"apple\", \"banana\", \"cherry\")\n",
    "print(thistuple)\n",
    "y = list(thistuple)\n",
    "y.append(\"orange\")\n",
    "thistuple = tuple(y)\n",
    "print(thistuple)\n",
    "\n",
    "fruits = (\"apple\", \"banana\", \"cherry\", \"strawberry\", \"raspberry\")\n",
    "(green, yello, *red) = fruits\n",
    "print(green)\n",
    "print(yello)\n",
    "print(red)\n",
    "\n",
    "friuts = (\"apple\", \"mango\", \"papaya\", \"pineapple\", \"cherry\")\n",
    "(green, *tropic, red) = fruits\n",
    "print(green)\n",
    "print(tropic)\n",
    "print(red)\n",
    "\n",
    "z = (\"orange\")\n",
    "zs = (\"orange\",)\n",
    "print(type(z))\n",
    "print(type(zs))"
   ]
  },
  {
   "cell_type": "code",
   "execution_count": 30,
   "id": "917d1825-40e2-4e5d-81ad-44ae43124d12",
   "metadata": {},
   "outputs": [
    {
     "name": "stdout",
     "output_type": "stream",
     "text": [
      "1\n",
      "2\n",
      "3\n",
      "4\n",
      "Hello\n",
      "6.24\n",
      "~~~~~~~~~~~~~~~~~\n",
      "1\n",
      "2\n",
      "3\n",
      "4\n",
      "Hello\n",
      "6.24\n",
      "~~~~~~~~~~~~~~~~~\n",
      "1 2\n",
      "3 4\n",
      "5 6\n",
      "~~~~~~~~~~~~~~~~~\n",
      "1 2\n",
      "3 4\n",
      "5 6\n",
      "~~~~~~~~~~~~~~~~~\n",
      "A 1\n",
      "B 2\n",
      "C 3\n",
      "~~~~~~~~~~~~~~~~~\n"
     ]
    },
    {
     "ename": "TypeError",
     "evalue": "'list' object is not callable",
     "output_type": "error",
     "traceback": [
      "\u001b[0;31m---------------------------------------------------------------------------\u001b[0m",
      "\u001b[0;31mTypeError\u001b[0m                                 Traceback (most recent call last)",
      "Cell \u001b[0;32mIn[30], line 20\u001b[0m\n\u001b[1;32m     18\u001b[0m     \u001b[38;5;28mprint\u001b[39m(key, info[key])\n\u001b[1;32m     19\u001b[0m \u001b[38;5;28mprint\u001b[39m(\u001b[38;5;124m'\u001b[39m\u001b[38;5;124m~~~~~~~~~~~~~~~~~\u001b[39m\u001b[38;5;124m'\u001b[39m)\n\u001b[0;32m---> 20\u001b[0m \u001b[38;5;28;01mfor\u001b[39;00m key, value \u001b[38;5;129;01min\u001b[39;00m info, \u001b[43mitems\u001b[49m\u001b[43m(\u001b[49m\u001b[43m)\u001b[49m:\n\u001b[1;32m     21\u001b[0m     \u001b[38;5;28mprint\u001b[39m(key, value)\n",
      "\u001b[0;31mTypeError\u001b[0m: 'list' object is not callable"
     ]
    }
   ],
   "source": [
    "items = [1, 2, 3, 4, 'Hello', 6.24]\n",
    "\n",
    "for k in range(0, len(items)):\n",
    "    print(items[k])\n",
    "print('~~~~~~~~~~~~~~~~~')\n",
    "for item in items:\n",
    "    print(item)\n",
    "print('~~~~~~~~~~~~~~~~~')\n",
    "items = [[1, 2], [3, 4], [5, 6]]\n",
    "for item in items:\n",
    "    print(item[0], item[1])\n",
    "print('~~~~~~~~~~~~~~~~~')\n",
    "for item1, item2 in items:\n",
    "    print(item1, item2)\n",
    "print('~~~~~~~~~~~~~~~~~')\n",
    "info = {'A' : 1, 'B' : 2, 'C' : 3}\n",
    "for key in info:\n",
    "    print(key, info[key])\n",
    "print('~~~~~~~~~~~~~~~~~')\n",
    "for key, value in info, items():\n",
    "    print(key, value)"
   ]
  },
  {
   "cell_type": "code",
   "execution_count": 32,
   "id": "2d9d0091-3295-46b4-806e-326147a86d8f",
   "metadata": {},
   "outputs": [
    {
     "name": "stdout",
     "output_type": "stream",
     "text": [
      "[[1, 2], [3, 4], [5, 6]]\n",
      "[['A', 'B'], ['C', 'D'], ['E', 'F']]\n",
      "~~~~~~~~~~~~~~~~~\n",
      "[1, 2] ['A', 'B']\n",
      "[3, 4] ['C', 'D']\n",
      "[5, 6] ['E', 'F']\n"
     ]
    }
   ],
   "source": [
    "items1 = [[1, 2], [3, 4], [5, 6]]\n",
    "items2 = [['A', 'B'], ['C', 'D'], ['E', 'F']]\n",
    "print(items1)\n",
    "print(items2)\n",
    "print('~~~~~~~~~~~~~~~~~')\n",
    "for digits, characters in zip(items1, items2):\n",
    "    print(digits, characters)"
   ]
  },
  {
   "cell_type": "code",
   "execution_count": 33,
   "id": "557290a5-5a86-4780-be23-4952aa33db97",
   "metadata": {},
   "outputs": [
    {
     "name": "stdout",
     "output_type": "stream",
     "text": [
      "[(0, 'apple'), (1, 'banana'), (2, 'cherry')]\n",
      "~~~~~~~~~~~~~~~~~\n",
      "(0, 'A')\n",
      "(1, 'B')\n",
      "(2, 'C')\n",
      "~~~~~~~~~~~~~~~~~\n",
      "0 A\n",
      "1 B\n",
      "2 C\n",
      "~~~~~~~~~~~~~~~~~\n",
      "101 A\n",
      "102 B\n",
      "103 C\n"
     ]
    }
   ],
   "source": [
    "x = ('apple', 'banana', 'cherry')\n",
    "y = enumerate(x)\n",
    "print(list(y))\n",
    "print('~~~~~~~~~~~~~~~~~')\n",
    "for entry in enumerate(['A', 'B', 'C']):\n",
    "    print(entry)\n",
    "print('~~~~~~~~~~~~~~~~~')\n",
    "for i, letter in enumerate(['A', 'B', 'C']):\n",
    "    print(i, letter)\n",
    "print('~~~~~~~~~~~~~~~~~')\n",
    "for i, letter in enumerate(['A', 'B', 'C'], start=101):\n",
    "    print(i, letter)\n",
    "    "
   ]
  },
  {
   "cell_type": "code",
   "execution_count": 35,
   "id": "f7e467fc-1c42-478e-b17f-298140e84b81",
   "metadata": {},
   "outputs": [
    {
     "ename": "SyntaxError",
     "evalue": "unterminated string literal (detected at line 15) (1137106670.py, line 15)",
     "output_type": "error",
     "traceback": [
      "\u001b[0;36m  Cell \u001b[0;32mIn[35], line 15\u001b[0;36m\u001b[0m\n\u001b[0;31m    filename = 'readme.txt, 'r')\u001b[0m\n\u001b[0m                             ^\u001b[0m\n\u001b[0;31mSyntaxError\u001b[0m\u001b[0;31m:\u001b[0m unterminated string literal (detected at line 15)\n"
     ]
    }
   ],
   "source": [
    "filename = 'readme.txt'\n",
    "file = open(filename, 'w')\n",
    "file.write(\"Hello, World!\")\n",
    "file.close()\n",
    "\n",
    "filename = 'readme.txt'\n",
    "file = open(filename, 'r')\n",
    "content = file.read()\n",
    "print(content)\n",
    "file.close()\n",
    "\n",
    "filename = 'readme.txt'\n",
    "with open(filename, 'w') as file:\n",
    "    file.write(\"Hello, World!\")\n",
    "filename = 'readme.txt, 'r')\n",
    "with open(filename, 'r') as file:\n",
    "    content = file.read()\n",
    "    print(content)"
   ]
  },
  {
   "cell_type": "code",
   "execution_count": null,
   "id": "7d86e2a4-22ed-4f17-8c47-0e73b6d0fc68",
   "metadata": {},
   "outputs": [],
   "source": []
  }
 ],
 "metadata": {
  "kernelspec": {
   "display_name": "Python 3 (ipykernel)",
   "language": "python",
   "name": "python3"
  },
  "language_info": {
   "codemirror_mode": {
    "name": "ipython",
    "version": 3
   },
   "file_extension": ".py",
   "mimetype": "text/x-python",
   "name": "python",
   "nbconvert_exporter": "python",
   "pygments_lexer": "ipython3",
   "version": "3.10.12"
  }
 },
 "nbformat": 4,
 "nbformat_minor": 5
}

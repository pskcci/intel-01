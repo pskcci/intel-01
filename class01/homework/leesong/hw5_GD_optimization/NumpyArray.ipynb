{
 "cells": [
  {
   "cell_type": "code",
   "execution_count": 5,
   "id": "31941837-ec43-4e4f-8eec-56d576c68502",
   "metadata": {},
   "outputs": [
    {
     "name": "stdout",
     "output_type": "stream",
     "text": [
      "[1 2 3 4]\n",
      "[2 4 6 8]\n"
     ]
    }
   ],
   "source": [
    "import numpy as np\n",
    "a = np.array([1,2,3,4])\n",
    "print(a)\n",
    "print(a + a)"
   ]
  },
  {
   "cell_type": "code",
   "execution_count": 8,
   "id": "54a9b36e-c455-403e-af76-781c8abc7c8e",
   "metadata": {
    "scrolled": true
   },
   "outputs": [
    {
     "name": "stdout",
     "output_type": "stream",
     "text": [
      "[[[1 2]\n",
      "  [3 4]]\n",
      "\n",
      " [[1 2]\n",
      "  [3 4]]]\n"
     ]
    }
   ],
   "source": [
    "import numpy as np\n",
    "a = np.array([[[1,2],[3,4]], [[1,2],[3,4]]])\n",
    "print(a)"
   ]
  },
  {
   "cell_type": "code",
   "execution_count": 11,
   "id": "dbb809c5-2f67-4510-b720-1c1b64bb0bad",
   "metadata": {
    "scrolled": true
   },
   "outputs": [
    {
     "name": "stdout",
     "output_type": "stream",
     "text": [
      "[1 2 3 4]\n",
      "(4,)\n",
      "[[1]\n",
      " [2]\n",
      " [3]\n",
      " [4]]\n",
      "(4, 1)\n"
     ]
    }
   ],
   "source": [
    "a = np.array([1,2,3,4])\n",
    "b = np.array([[1],[2],[3],[4]])\n",
    "print(a)\n",
    "print(a.shape)\n",
    "print(b)\n",
    "print(b.shape)"
   ]
  },
  {
   "cell_type": "code",
   "execution_count": 14,
   "id": "0fe3a048-e7a1-4e4b-8691-7c255ee0a23c",
   "metadata": {
    "scrolled": true
   },
   "outputs": [
    {
     "name": "stdout",
     "output_type": "stream",
     "text": [
      "[1.41421356 2.23606798 5.        ]\n",
      "[3.74165739 4.24264069]\n",
      "[6. 6.]\n",
      "[3.74165739 4.24264069]\n"
     ]
    }
   ],
   "source": [
    "import numpy as np\n",
    "from numpy import linalg as LA\n",
    "c = np.array([[1,2,3],[-1,1,4]])\n",
    "print(LA.norm(c, axis=0))\n",
    "print(LA.norm(c, axis=1))\n",
    "print(LA.norm(c, ord=1, axis=1))\n",
    "print(LA.norm(c, ord=2, axis=1))"
   ]
  },
  {
   "cell_type": "code",
   "execution_count": 15,
   "id": "32ecbbb8-ae71-4a5d-a010-db46eaa03b31",
   "metadata": {},
   "outputs": [
    {
     "name": "stdout",
     "output_type": "stream",
     "text": [
      "[[1]\n",
      " [2]\n",
      " [3]\n",
      " [4]]\n",
      "[[1 2 3 4]]\n",
      "[[1 2 3 4]]\n",
      "(4, 1)\n",
      "(4, 1)\n"
     ]
    }
   ],
   "source": [
    "a = np.array([[1],[2],[3],[4]])\n",
    "print(a)\n",
    "print(a.T)\n",
    "print(a.T.reshape(-1,4))\n",
    "print(a.shape)\n",
    "print(a.T.reshape(-1,4).T.shape)"
   ]
  },
  {
   "cell_type": "code",
   "execution_count": 16,
   "id": "283c2b11-0452-445f-8fb2-7aa898ca3685",
   "metadata": {},
   "outputs": [
    {
     "name": "stdout",
     "output_type": "stream",
     "text": [
      "[[1 2]\n",
      " [3 4]\n",
      " [5 6]]\n",
      "(6,)\n",
      "[[1 2]\n",
      " [3 4]\n",
      " [5 6]]\n",
      "(3, 2)\n",
      "[[1 2]\n",
      " [3 4]\n",
      " [5 6]]\n",
      "(3, 2)\n"
     ]
    }
   ],
   "source": [
    "a = np.array([1,2,3,4,5,6])\n",
    "print(a.reshape(3,2))\n",
    "print(a.shape)\n",
    "b=a.reshape(3,-1)\n",
    "print(b)\n",
    "print(b.shape)\n",
    "c=a.reshape(-1,2)\n",
    "print(c)\n",
    "print(c.shape)"
   ]
  },
  {
   "cell_type": "code",
   "execution_count": null,
   "id": "2cb59a9f-7e4a-449c-adb9-0250dc8ca6c1",
   "metadata": {},
   "outputs": [],
   "source": [
    "a = np.array([1,2,3,4])\n",
    "print(a)\n",
    "print(a.T)\n",
    "b-a.reshape(4,-1)"
   ]
  },
  {
   "cell_type": "code",
   "execution_count": 18,
   "id": "6ac765a4-0585-4917-bed9-ac238560ff57",
   "metadata": {},
   "outputs": [
    {
     "name": "stdout",
     "output_type": "stream",
     "text": [
      "[10 20 30 40 50 60]\n",
      "[50 30 10]\n",
      "[0 1 2 3 4 5]\n",
      "[4 1 3 5 0 2]\n",
      "[50 20 40 60 10 30]\n"
     ]
    }
   ],
   "source": [
    "a = np.array([10,20,30,40,50,60])\n",
    "print(a)\n",
    "b = a[[4,2,0]]\n",
    "print(b)\n",
    "idx = np.arange(0, len(a))\n",
    "print(idx)\n",
    "np.random.shuffle(idx)\n",
    "print(idx)\n",
    "print(a[idx])"
   ]
  },
  {
   "cell_type": "code",
   "execution_count": 19,
   "id": "31feab84-6eb1-48b2-85ff-5e2bf6d22ac6",
   "metadata": {},
   "outputs": [
    {
     "name": "stdout",
     "output_type": "stream",
     "text": [
      "1\n",
      "6\n",
      "6\n",
      "5\n",
      "1\n",
      "[1 2]\n",
      "[3 4 5]\n",
      "[1 2]\n",
      "[5 6]\n",
      "[5 6]\n",
      "[1 2] [3 4 5 6]\n",
      "[1 2 3 4] [5 6]\n",
      "[5 6 7 8 9]\n"
     ]
    }
   ],
   "source": [
    "import numpy as np\n",
    "c = np.array([1,2,3,4,5,6])\n",
    "print(c[0])\n",
    "print(c[5])\n",
    "print(c[-1])\n",
    "print(c[-2])\n",
    "print(c[-6])\n",
    "print(c[0:2])\n",
    "print(c[2:5])\n",
    "print(c[:2])\n",
    "print(c[4:])\n",
    "print(c[-2:])\n",
    "print(c[:2],c[2:])\n",
    "print(c[:4],c[4:])\n",
    "print(np.arange(5,10))"
   ]
  },
  {
   "cell_type": "code",
   "execution_count": 32,
   "id": "1326486f-3d83-466f-8efb-a45283903bf6",
   "metadata": {},
   "outputs": [
    {
     "name": "stdout",
     "output_type": "stream",
     "text": [
      "P\n",
      "n\n",
      "n\n",
      "o\n",
      "P\n",
      "Py\n",
      "tho\n",
      "Py\n",
      "on\n",
      "on\n"
     ]
    },
    {
     "ename": "TypeError",
     "evalue": "can only concatenate str (not \"list\") to str",
     "output_type": "error",
     "traceback": [
      "\u001b[0;31m---------------------------------------------------------------------------\u001b[0m",
      "\u001b[0;31mTypeError\u001b[0m                                 Traceback (most recent call last)",
      "Cell \u001b[0;32mIn[32], line 12\u001b[0m\n\u001b[1;32m     10\u001b[0m \u001b[38;5;28mprint\u001b[39m(word[\u001b[38;5;241m4\u001b[39m:])\n\u001b[1;32m     11\u001b[0m \u001b[38;5;28mprint\u001b[39m(word[\u001b[38;5;241m-\u001b[39m\u001b[38;5;241m2\u001b[39m:])\n\u001b[0;32m---> 12\u001b[0m \u001b[38;5;28mprint\u001b[39m(\u001b[43mword\u001b[49m\u001b[43m[\u001b[49m\u001b[43m:\u001b[49m\u001b[38;5;241;43m2\u001b[39;49m\u001b[43m]\u001b[49m\u001b[38;5;241;43m+\u001b[39;49m\u001b[43m[\u001b[49m\u001b[38;5;241;43m2\u001b[39;49m\u001b[43m]\u001b[49m)\n\u001b[1;32m     13\u001b[0m \u001b[38;5;28mprint\u001b[39m(word[:\u001b[38;5;241m4\u001b[39m]\u001b[38;5;241m+\u001b[39m[\u001b[38;5;241m4\u001b[39m])\n",
      "\u001b[0;31mTypeError\u001b[0m: can only concatenate str (not \"list\") to str"
     ]
    }
   ],
   "source": [
    "word = 'Python'\n",
    "print(word[0])\n",
    "print(word[5])\n",
    "print(word[-1])\n",
    "print(word[-2])\n",
    "print(word[-6])\n",
    "print(word[0:2])\n",
    "print(word[2:5])\n",
    "print(word[:2])\n",
    "print(word[4:])\n",
    "print(word[-2:])\n",
    "print(word[:2]+[2])\n",
    "print(word[:4]+[4])"
   ]
  },
  {
   "cell_type": "code",
   "execution_count": 27,
   "id": "f028d2de-974f-4221-81d2-d08dad7adc11",
   "metadata": {},
   "outputs": [
    {
     "name": "stdout",
     "output_type": "stream",
     "text": [
      "calculate= [13 19 26 44]\n",
      "dot [13 19 26 44]\n",
      "matmul [13 19 26 44]\n",
      "A@x [13 19 26 44]\n",
      "A*x [[ 1  6  6  0]\n",
      " [ 9 10  0  0]\n",
      " [ 4  0  6 16]\n",
      " [ 6  2 24 12]]\n"
     ]
    }
   ],
   "source": [
    "A = np.array([[1,3,2,0],[9,5,0,0],[4,0,2,4],[6,1,8,3]])\n",
    "x = np.array([1,2,3,4])\n",
    "b = np.array([0,0,0,0])\n",
    "n =4\n",
    "for i in range(0, n):\n",
    "    val =0.0\n",
    "    for j in range(0,n):\n",
    "        val += A[i,j]*x[j]\n",
    "    b[i] = val\n",
    "\n",
    "print(\"calculate=\", b)\n",
    "\n",
    "b = np.dot(A,x)\n",
    "print(\"dot\",b)\n",
    "\n",
    "b = np.matmul(A,x)\n",
    "print(\"matmul\", b)\n",
    "\n",
    "b = A@x\n",
    "print(\"A@x\",b)\n",
    "\n",
    "b = A*x\n",
    "print(\"A*x\",b)"
   ]
  },
  {
   "cell_type": "code",
   "execution_count": 37,
   "id": "e33ed655-64d0-4c92-b6e4-41f2781caa79",
   "metadata": {},
   "outputs": [
    {
     "name": "stdout",
     "output_type": "stream",
     "text": [
      "det= 620.0000000000002\n",
      "solver = [0.58064516 2.75483871 3.07741935 4.38064516]\n",
      "inversel = [0.58064516 2.75483871 3.07741935 4.38064516]\n",
      "inverse2= [0.58064516 2.75483871 3.07741935 4.38064516]\n"
     ]
    }
   ],
   "source": [
    "import numpy as np\n",
    "A = np.array([[1,3,2,0], [9,5,0,0],[4,0,2,4],[6,1,8,3]])\n",
    "b = np.array([15,19,26,44])\n",
    "\n",
    "print(\"det=\",np.linalg.det(A))\n",
    "\n",
    "x = np.linalg.solve(A,b)\n",
    "print(\"solver =\", x)\n",
    "\n",
    "x = np.dot(np.linalg.inv(A),b)\n",
    "print(\"inversel =\",x)\n",
    "\n",
    "tmp_b = np.dot(A.T,b)\n",
    "tmp_T = np.dot(A.T,A)\n",
    "tmp_inv = np.linalg.inv(np.dot(A.T,A))\n",
    "x = np.dot(tmp_inv,tmp_b)\n",
    "\n",
    "print(\"inverse2=\",x)"
   ]
  },
  {
   "cell_type": "code",
   "execution_count": null,
   "id": "c19cfc9d-1ea2-4e86-977f-d08496450a83",
   "metadata": {},
   "outputs": [],
   "source": [
    "from numpy import linalg as LA\n",
    "import numpy as np\n",
    "import matplotlib.pylab as plt\n",
    "\n",
    "A = np.array([[2,-1],[-1,2]])\n",
    "elgenvalues, eigenvectors = LA.elg(A)\n",
    "x=elgenvectors\n",
    "lamda=elgenvalues\n",
    "y1=A@x[:,0]\n",
    "y2=A@x[:,1]\n",
    "print(\"A:\\n\",A,\"Wnelgen value0:\",lamda[0],\n",
    "      \"Wnelgen vector0:\\n\",x[:,0],\"Wnax:\\n\",y1,\n",
    "      \"Wnelgen value1:\",lamda[1],\n",
    "      \"Wnelgen vvector1:\\n\",x[:,1],\"wnAx:\\n\",y2)\n",
    "print(\"\\n--------------random array-------------\\n\")\n",
    "\n",
    "x_test=np.random.rand(2,1)\n",
    "y_test=A@x_test\n",
    "print(\"test vector:\\n\",x_test,\"ax_test\",y_test)\n",
    "\n",
    "plt.subplot(3,3,1)\n",
    "plt.plot([0,x[0,0]],[0,x[1,0]],'go-', label='elgenvCTOR0', LINEWIDTH=2)\n",
    "PLT.plot("
   ]
  },
  {
   "cell_type": "code",
   "execution_count": null,
   "id": "47f8a332-9698-420e-90f0-ba3d8318942d",
   "metadata": {},
   "outputs": [],
   "source": []
  },
  {
   "cell_type": "code",
   "execution_count": null,
   "id": "fa7d4864-4673-4839-b961-03f8a846f8a4",
   "metadata": {},
   "outputs": [],
   "source": []
  },
  {
   "cell_type": "code",
   "execution_count": null,
   "id": "6dcbebba-6021-419d-8670-766ac88a3874",
   "metadata": {},
   "outputs": [],
   "source": []
  },
  {
   "cell_type": "code",
   "execution_count": null,
   "id": "9207c66d-16aa-4c39-b598-90ac5b96b441",
   "metadata": {},
   "outputs": [],
   "source": []
  }
 ],
 "metadata": {
  "kernelspec": {
   "display_name": "Python 3 (ipykernel)",
   "language": "python",
   "name": "python3"
  },
  "language_info": {
   "codemirror_mode": {
    "name": "ipython",
    "version": 3
   },
   "file_extension": ".py",
   "mimetype": "text/x-python",
   "name": "python",
   "nbconvert_exporter": "python",
   "pygments_lexer": "ipython3",
   "version": "3.10.12"
  }
 },
 "nbformat": 4,
 "nbformat_minor": 5
}

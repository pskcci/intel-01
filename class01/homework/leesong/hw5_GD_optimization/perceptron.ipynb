{
 "cells": [
  {
   "cell_type": "code",
   "execution_count": 13,
   "id": "1a0b3cb3-8519-4848-9dd1-e8d4a19a7249",
   "metadata": {},
   "outputs": [],
   "source": [
    "import numpy as np"
   ]
  },
  {
   "cell_type": "code",
   "execution_count": 14,
   "id": "681e1337-c591-4fe9-b9c6-c19b57d25e51",
   "metadata": {},
   "outputs": [],
   "source": [
    "def sigmoid(x):\n",
    "    return 1 / (1 + np.exp(-x))"
   ]
  },
  {
   "cell_type": "code",
   "execution_count": 15,
   "id": "40609cd4-9487-4b7b-8652-f8b5f1e2fe8a",
   "metadata": {},
   "outputs": [],
   "source": [
    "def numerical_derivative(f, x):\n",
    "    delta_x = 1e-4\n",
    "    gradf = np.zeros_like(x)\n",
    "    \n",
    "    it = np.nditer(x, flags=['multi_index'], op_flags=['readwrite'])\n",
    "    \n",
    "    while not it.finished:\n",
    "        idx = it.multi_index\n",
    "        tmp_val = x[idx]\n",
    "        \n",
    "        x[idx] = float(tmp_val) + delta_x\n",
    "        fx1 = f(x)\n",
    "        \n",
    "        x[idx] = float(tmp_val) - delta_x\n",
    "        fx2 = f(x)\n",
    "        \n",
    "        gradf[idx] = (fx1 - fx2) / (2 * delta_x)\n",
    "        \n",
    "        x[idx] = tmp_val\n",
    "        it.iternext()\n",
    "    \n",
    "    return gradf"
   ]
  },
  {
   "cell_type": "code",
   "execution_count": 16,
   "id": "35ec75f5-b37f-44ef-80ff-8d8a56dd24b8",
   "metadata": {},
   "outputs": [],
   "source": [
    "class LogicGate:\n",
    "    def __init__(self, gate_name, xdata, tdata, learning_rate=0.01, threshold=0.5):\n",
    "        self.name = gate_name\n",
    "        self.__xdata = xdata.reshape(4, 2)\n",
    "        self.__tdata = tdata.reshape(4, 1)\n",
    "        self.__w = np.random.rand(2, 1)\n",
    "        self.__b = np.random.rand(1)\n",
    "        self.__learning_rate = learning_rate\n",
    "        self.__threshold = threshold\n",
    "\n",
    "    def loss_func(self):\n",
    "        delta = 1e-7\n",
    "        z = np.dot(self.__xdata, self.__w) + self.__b\n",
    "        y = sigmoid(z)\n",
    "        return -np.sum(self.__tdata * np.log(y + delta) + (1 - self.__tdata) * np.log((1 - y) + delta))\n",
    "\n",
    "    def err_val(self):\n",
    "        delta = 1e-7\n",
    "        z = np.dot(self.__xdata, self.__w) + self.__b\n",
    "        y = sigmoid(z)\n",
    "        return -np.sum(self.__tdata * np.log(y + delta) + (1 - self.__tdata) * np.log((1 - y) + delta))\n",
    "\n",
    "    def train(self):\n",
    "        f = lambda x: self.loss_func()\n",
    "        print(\"init error : \", self.err_val())\n",
    "        for stp in range(20000):\n",
    "            self.__w -= self.__learning_rate * numerical_derivative(f, self.__w)\n",
    "            self.__b -= self.__learning_rate * numerical_derivative(f, self.__b)\n",
    "            if stp % 2000 == 0:\n",
    "                print(\"step:\", stp, \"error : \", self.err_val())\n",
    "\n",
    "    def predict(self, input_data):\n",
    "        z = np.dot(input_data, self.__w) + self.__b\n",
    "        y = sigmoid(z)\n",
    "        if y > self.__threshold:\n",
    "            result = 1\n",
    "        else:\n",
    "            result = 0\n",
    "        return y, result\n",
    "        "
   ]
  },
  {
   "cell_type": "code",
   "execution_count": 17,
   "id": "c9191a19-694c-4eef-a227-f3585c70b57e",
   "metadata": {},
   "outputs": [
    {
     "name": "stdout",
     "output_type": "stream",
     "text": [
      "init error :  3.015866672329655\n",
      "step: 0 error :  3.007472431499644\n",
      "step: 2000 error :  0.6853575740900943\n",
      "step: 4000 error :  0.39912180376392337\n",
      "step: 6000 error :  0.2793703720543453\n",
      "step: 8000 error :  0.21392269982264928\n",
      "step: 10000 error :  0.17288282513663894\n",
      "step: 12000 error :  0.14483690041313063\n",
      "step: 14000 error :  0.12450109283984391\n",
      "step: 16000 error :  0.10910248575389214\n",
      "step: 18000 error :  0.09704984810569908\n",
      "[0 0] : 1\n",
      "[0 1] : 1\n",
      "[1 0] : 1\n",
      "[1 1] : 0\n"
     ]
    }
   ],
   "source": [
    "xdata = np.array([[0, 0], [0, 1], [1, 0], [1, 1]])\n",
    "tdata = np.array([[1], [1], [1], [0]])\n",
    "\n",
    "AND_gate = LogicGate(\"AND_GATE\", xdata, tdata)\n",
    "AND_gate.train()\n",
    "\n",
    "for in_data in xdata:\n",
    "    sig_val, logic_val = AND_gate.predict(in_data)\n",
    "    print(in_data, \":\", logic_val)"
   ]
  },
  {
   "cell_type": "code",
   "execution_count": 18,
   "id": "60e20d90-4a8f-42ee-a686-f112dbf4b5ed",
   "metadata": {},
   "outputs": [
    {
     "name": "stdout",
     "output_type": "stream",
     "text": [
      "init error :  4.817140960973177\n",
      "step: 0 error :  4.733606051502284\n",
      "step: 2000 error :  0.44403260524912125\n",
      "step: 4000 error :  0.23640042338404008\n",
      "step: 6000 error :  0.1588765180426051\n",
      "step: 8000 error :  0.11903872464689103\n",
      "step: 10000 error :  0.09495015756445728\n",
      "step: 12000 error :  0.07886914153170395\n",
      "step: 14000 error :  0.06739463814773494\n",
      "step: 16000 error :  0.05880581774787665\n",
      "step: 18000 error :  0.05214111677093316\n",
      "[0 0] : 1\n",
      "[0 1] : 0\n",
      "[1 0] : 0\n",
      "[1 1] : 0\n"
     ]
    }
   ],
   "source": [
    "xdata = np.array([[0, 0], [0, 1], [1, 0], [1, 1]])\n",
    "tdata = np.array([[1], [0], [0], [0]])\n",
    "\n",
    "AND_gate = LogicGate(\"AND_GATE\", xdata, tdata)\n",
    "AND_gate.train()\n",
    "\n",
    "for in_data in xdata:\n",
    "    sig_val, logic_val = AND_gate.predict(in_data)\n",
    "    print(in_data, \":\", logic_val)"
   ]
  }
 ],
 "metadata": {
  "kernelspec": {
   "display_name": "Python 3 (ipykernel)",
   "language": "python",
   "name": "python3"
  },
  "language_info": {
   "codemirror_mode": {
    "name": "ipython",
    "version": 3
   },
   "file_extension": ".py",
   "mimetype": "text/x-python",
   "name": "python",
   "nbconvert_exporter": "python",
   "pygments_lexer": "ipython3",
   "version": "3.10.12"
  }
 },
 "nbformat": 4,
 "nbformat_minor": 5
}

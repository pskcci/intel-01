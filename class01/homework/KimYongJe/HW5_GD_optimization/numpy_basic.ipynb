{
 "cells": [
  {
   "cell_type": "code",
   "execution_count": 17,
   "id": "40ec18f7-9eda-4771-b6b7-2f78a3365cbc",
   "metadata": {},
   "outputs": [
    {
     "name": "stdout",
     "output_type": "stream",
     "text": [
      "[1 2 3 4]\n",
      "[2 4 6 8]\n"
     ]
    }
   ],
   "source": [
    "# 넘파이 배열\n",
    "import numpy as np\n",
    "a = np.array([1,2,3,4])\n",
    "print(a)\n",
    "print(a+a)"
   ]
  },
  {
   "cell_type": "code",
   "execution_count": 6,
   "id": "27c071a9-e391-4679-8568-18a8e66ea146",
   "metadata": {},
   "outputs": [
    {
     "name": "stdout",
     "output_type": "stream",
     "text": [
      "[1, 2, 3, 4, 1, 2, 3, 4]\n"
     ]
    }
   ],
   "source": [
    "# 일반 배열\n",
    "b = [1,2,3,4]\n",
    "print(b+b)"
   ]
  },
  {
   "cell_type": "code",
   "execution_count": 8,
   "id": "27e3be91-f582-49cb-82f6-9c585bd36d85",
   "metadata": {},
   "outputs": [
    {
     "name": "stdout",
     "output_type": "stream",
     "text": [
      "[[1 2]\n",
      " [3 4]]\n"
     ]
    }
   ],
   "source": [
    "# 이중 배열(행렬)\n",
    "a = np.array([[1,2],[3,4]])\n",
    "print(a)"
   ]
  },
  {
   "cell_type": "code",
   "execution_count": 13,
   "id": "913c965c-68d5-4821-8230-a1f58c96eac4",
   "metadata": {},
   "outputs": [
    {
     "name": "stdout",
     "output_type": "stream",
     "text": [
      "[[[1 2]\n",
      "  [3 4]]\n",
      "\n",
      " [[1 2]\n",
      "  [3 4]]]\n"
     ]
    }
   ],
   "source": [
    "# 삼중 배열(행렬)\n",
    "a= np.array([[[1,2],[3,4]], [[1,2],[3,4]]])\n",
    "print(a)"
   ]
  },
  {
   "cell_type": "code",
   "execution_count": 14,
   "id": "bcebb07e-a9ac-446d-8ab1-5d2abbc98a80",
   "metadata": {},
   "outputs": [
    {
     "name": "stdout",
     "output_type": "stream",
     "text": [
      "[1 2 3 4]\n",
      "(4,)\n",
      "[[1]\n",
      " [2]\n",
      " [3]\n",
      " [4]]\n",
      "(4, 1)\n"
     ]
    }
   ],
   "source": [
    "# 형태\n",
    "a = np.array([1,2,3,4])\n",
    "b = np.array([[1],[2],[3],[4]])\n",
    "print(a)\n",
    "print(a.shape)\n",
    "print(b)\n",
    "print(b.shape)"
   ]
  },
  {
   "cell_type": "code",
   "execution_count": 16,
   "id": "6d756302-fdf0-4b8f-a6e9-7a93819f4eb2",
   "metadata": {},
   "outputs": [
    {
     "name": "stdout",
     "output_type": "stream",
     "text": [
      "[1.41421356 2.23606798 5.        ]\n",
      "[3.74165739 4.24264069]\n",
      "[6. 6.]\n",
      "[3.74165739 4.24264069]\n"
     ]
    }
   ],
   "source": [
    "import numpy as np\n",
    "from numpy import linalg as LA\n",
    "c = np.array([[1,2,3,],[-1,1,4]])\n",
    "print(LA.norm(c, axis = 0))\n",
    "print(LA.norm(c, axis = 1))\n",
    "print(LA.norm(c, ord = 1,axis = 1))\n",
    "print(LA.norm(c, ord = 2,axis = 1))"
   ]
  },
  {
   "cell_type": "code",
   "execution_count": 24,
   "id": "1389f74e-2eaf-4d21-91db-98e68bf55f5a",
   "metadata": {},
   "outputs": [
    {
     "name": "stdout",
     "output_type": "stream",
     "text": [
      "[[1]\n",
      " [2]\n",
      " [3]\n",
      " [4]]\n",
      "(4, 1)\n",
      "===================================\n",
      "[[1 2 3 4]]\n",
      "(1, 4)\n",
      "===================================\n",
      "[[1 2 3 4]]\n",
      "(4, 1)\n",
      "===================================\n",
      "(4, 1)\n"
     ]
    }
   ],
   "source": [
    "# 전치 연산(Transpose)\n",
    "a = np.array([[1],[2],[3],[4]])\n",
    "print(a)\n",
    "print(a.shape)\n",
    "print('===================================')\n",
    "print(a.T)\n",
    "print(a.T.shape)\n",
    "print('===================================')\n",
    "# 4열로 지정 후 행은 알아서 지정(-1은 알아서 지정해주라는 뜻)\n",
    "print(a.T.reshape(-1,4))\n",
    "print(a.shape)\n",
    "print('===================================')\n",
    "print(a.T.reshape(-1,4).T.shape)"
   ]
  },
  {
   "cell_type": "code",
   "execution_count": 28,
   "id": "1dc2ae25-be72-4692-b928-81390c0d2f24",
   "metadata": {},
   "outputs": [
    {
     "name": "stdout",
     "output_type": "stream",
     "text": [
      "[[1 2]\n",
      " [3 4]\n",
      " [5 6]]\n",
      "(6,)\n",
      "===================================\n",
      "[[1 2]\n",
      " [3 4]\n",
      " [5 6]]\n",
      "(3, 2)\n",
      "===================================\n",
      "[[1 2]\n",
      " [3 4]\n",
      " [5 6]]\n",
      "(3, 2)\n"
     ]
    }
   ],
   "source": [
    "a = np.array([1,2,3,4,5,6])\n",
    "print(a.reshape(3,2))\n",
    "print(a.shape)\n",
    "print('===================================')\n",
    "b = a.reshape(3,-1)\n",
    "print(b)\n",
    "print(b.shape)\n",
    "print('===================================')\n",
    "c = a.reshape(-1,2)\n",
    "print(c)\n",
    "print(c.shape)"
   ]
  },
  {
   "cell_type": "code",
   "execution_count": 34,
   "id": "33515f58-e0b3-4189-8255-b0d2058a213f",
   "metadata": {},
   "outputs": [
    {
     "name": "stdout",
     "output_type": "stream",
     "text": [
      "[[1 2 3 4]]\n",
      "[[1]\n",
      " [2]\n",
      " [3]\n",
      " [4]]\n",
      "(4, 1)\n",
      "===================================\n",
      "(4, 1)\n",
      "[[1]\n",
      " [2]\n",
      " [3]\n",
      " [4]]\n",
      "[[1 2 3 4]]\n",
      "(1, 4)\n",
      "===================================\n",
      "[1 2 3 4]\n",
      "[1 2 3 4]\n"
     ]
    }
   ],
   "source": [
    "a = np.array([[1,2,3,4]])\n",
    "print(a)\n",
    "print(a.T)\n",
    "print(a.T.shape)\n",
    "print('===================================')\n",
    "b = a.reshape(4,-1)\n",
    "print(b.shape)\n",
    "print(b)\n",
    "print(b.T)\n",
    "print(b.T.shape)\n",
    "print('===================================')\n",
    "c = np.array([1,2,3,4])\n",
    "print(c)\n",
    "print(c.T)"
   ]
  },
  {
   "cell_type": "code",
   "execution_count": 25,
   "id": "66ff24d9-a589-4725-842f-871409098370",
   "metadata": {},
   "outputs": [
    {
     "name": "stdout",
     "output_type": "stream",
     "text": [
      "[10 20 30 40 50 60]\n",
      "===================================\n",
      "[50 30 10]\n",
      "===================================\n",
      "[0 1 2 3 4 5]\n",
      "===================================\n",
      "[4 5 2 3 1 0]\n",
      "[50 60 30 40 20 10]\n"
     ]
    }
   ],
   "source": [
    "# 배열 인덱싱\n",
    "a = np.array([10,20,30,40,50,60])\n",
    "print(a)\n",
    "print('===================================')\n",
    "b = a[[4,2,0]]\n",
    "print(b)\n",
    "print('===================================')\n",
    "idx = np.arange(0,len(a))\n",
    "print(idx)\n",
    "print('===================================')\n",
    "np.random.shuffle(idx)\n",
    "print(idx)\n",
    "print(a[idx])"
   ]
  },
  {
   "cell_type": "code",
   "execution_count": 27,
   "id": "4996c191-04af-4552-b774-40636cf6eb4b",
   "metadata": {},
   "outputs": [
    {
     "name": "stdout",
     "output_type": "stream",
     "text": [
      "1\n",
      "6\n",
      "===================================\n",
      "6\n",
      "5\n",
      "1\n",
      "===================================\n",
      "[1 2]\n",
      "[3 4 5]\n",
      "===================================\n",
      "[1 2]\n",
      "===================================\n",
      "[5 6]\n",
      "[5 6]\n",
      "===================================\n",
      "[1 2] [3 4 5 6]\n",
      "[1 2 3 4] [5 6]\n",
      "===================================\n",
      "[5 6 7 8 9]\n"
     ]
    }
   ],
   "source": [
    "import numpy as np\n",
    "c = np.array([1,2,3,4,5,6])\n",
    "print(c[0])\n",
    "print(c[5])\n",
    "print('===================================')\n",
    "print(c[-1])\n",
    "print(c[-2])\n",
    "print(c[-6])\n",
    "print('===================================')\n",
    "print(c[0:2])\n",
    "print(c[2:5])\n",
    "print('===================================')\n",
    "print(c[:2])\n",
    "print('===================================')\n",
    "print(c[4:])\n",
    "print(c[-2:])\n",
    "print('===================================')\n",
    "print(c[:2], c[2:])\n",
    "print(c[:4], c[4:])\n",
    "print('===================================')\n",
    "print(np.arange(5,10))"
   ]
  },
  {
   "cell_type": "code",
   "execution_count": 36,
   "id": "f0677b7a-cb2b-42e7-8cea-5c3cf0238d28",
   "metadata": {},
   "outputs": [
    {
     "name": "stdout",
     "output_type": "stream",
     "text": [
      "P\n",
      "n\n",
      "===================================\n",
      "n\n",
      "o\n",
      "P\n",
      "===================================\n",
      "Py\n",
      "tho\n",
      "===================================\n",
      "Py\n",
      "on\n",
      "===================================\n",
      "on\n",
      "===================================\n",
      "Python\n",
      "Python\n"
     ]
    }
   ],
   "source": [
    "word = 'Python'\n",
    "print(word[0])\n",
    "print(word[5])\n",
    "print('===================================')\n",
    "print(word[-1])\n",
    "print(word[-2])\n",
    "print(word[-6])\n",
    "print('===================================')\n",
    "print(word[0:2])\n",
    "print(word[2:5])\n",
    "print('===================================')\n",
    "print(word[:2])\n",
    "print(word[4:])\n",
    "print('===================================')\n",
    "print(word[-2:])\n",
    "print('===================================')\n",
    "print(word[:2] + word[2:])\n",
    "print(word[:4] + word[4:])"
   ]
  },
  {
   "cell_type": "code",
   "execution_count": null,
   "id": "428c1470-0b8d-4766-9315-0ac71b5334ee",
   "metadata": {},
   "outputs": [],
   "source": []
  }
 ],
 "metadata": {
  "kernelspec": {
   "display_name": "Python 3 (ipykernel)",
   "language": "python",
   "name": "python3"
  },
  "language_info": {
   "codemirror_mode": {
    "name": "ipython",
    "version": 3
   },
   "file_extension": ".py",
   "mimetype": "text/x-python",
   "name": "python",
   "nbconvert_exporter": "python",
   "pygments_lexer": "ipython3",
   "version": "3.10.12"
  }
 },
 "nbformat": 4,
 "nbformat_minor": 5
}

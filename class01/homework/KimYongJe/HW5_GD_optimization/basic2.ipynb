{
 "cells": [
  {
   "cell_type": "code",
   "execution_count": 2,
   "id": "da8fbc66-cb1d-4b88-bd66-1a24ff712e46",
   "metadata": {},
   "outputs": [
    {
     "name": "stdout",
     "output_type": "stream",
     "text": [
      "spam and eggs\n",
      "eggs and spam\n",
      "Thisspam is absolutely horrible.\n",
      "The story of Bill, Manfred, and Georg.\n",
      "저는 coffee를 좋아합니다. 하루 5잔을 마셔요\n"
     ]
    }
   ],
   "source": [
    "print('{0} and {1}' .format('spam','eggs'))\n",
    "print('{1} and {0}' .format('spam','eggs'))\n",
    "print('This{food} is {adjective}.'.format(food = 'spam', adjective = 'absolutely horrible'))\n",
    "print('The story of {0}, {1}, and {other}.'.format('Bill','Manfred',other='Georg'))\n",
    "\n",
    "s = 'coffee'\n",
    "n = 5\n",
    "result1 = f'저는 {s}를 좋아합니다. 하루 {n}잔을 마셔요'\n",
    "print(result1)"
   ]
  },
  {
   "cell_type": "code",
   "execution_count": null,
   "id": "1e7a5023-88d0-4d3f-9a7e-b8ef6927c93d",
   "metadata": {},
   "outputs": [],
   "source": []
  },
  {
   "cell_type": "code",
   "execution_count": null,
   "id": "8b4b7fbc-984e-413f-8396-0c1ec6bbb59b",
   "metadata": {},
   "outputs": [],
   "source": []
  }
 ],
 "metadata": {
  "kernelspec": {
   "display_name": "Python 3 (ipykernel)",
   "language": "python",
   "name": "python3"
  },
  "language_info": {
   "codemirror_mode": {
    "name": "ipython",
    "version": 3
   },
   "file_extension": ".py",
   "mimetype": "text/x-python",
   "name": "python",
   "nbconvert_exporter": "python",
   "pygments_lexer": "ipython3",
   "version": "3.10.12"
  }
 },
 "nbformat": 4,
 "nbformat_minor": 5
}

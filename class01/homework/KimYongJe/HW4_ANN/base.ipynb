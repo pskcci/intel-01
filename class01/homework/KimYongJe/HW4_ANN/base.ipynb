{
 "cells": [
  {
   "cell_type": "code",
   "execution_count": 4,
   "id": "491c2ba9-164d-437f-bbd4-312e0bc9b00c",
   "metadata": {},
   "outputs": [
    {
     "name": "stdout",
     "output_type": "stream",
     "text": [
      "[1, 3, 4]\n",
      "[9, 3, 4]\n",
      "[1, 3, 'string']\n",
      "[1, 3, 'string', 6.24]\n"
     ]
    }
   ],
   "source": [
    "a = [1,3,4]\n",
    "print(a)\n",
    "a[0] = 9\n",
    "print(a)\n",
    "\n",
    "b = [1,3,'string']\n",
    "print(b)\n",
    "b.append(6.24)\n",
    "print(b)"
   ]
  },
  {
   "cell_type": "code",
   "execution_count": 6,
   "id": "d0d22f1b-95f6-4896-a0b8-cb29060ccc57",
   "metadata": {},
   "outputs": [
    {
     "name": "stdout",
     "output_type": "stream",
     "text": [
      "[9, 3, 4, 9, 3, 4]\n",
      "[1, 3, 'string', 6.24, 1, 3, 'string', 6.24]\n",
      "[18, 6, 8]\n"
     ]
    }
   ],
   "source": [
    "print(2*a)\n",
    "print(b*2)\n",
    "c = [a[i] + a[i] for i in range(len(a))]\n",
    "print(c)\n"
   ]
  },
  {
   "cell_type": "code",
   "execution_count": 7,
   "id": "0e57edb4-8ead-4b9b-9702-e8a6827da540",
   "metadata": {},
   "outputs": [
    {
     "name": "stdout",
     "output_type": "stream",
     "text": [
      "(1, 2, 3)\n",
      "(1, 3, 'string')\n"
     ]
    },
    {
     "ename": "TypeError",
     "evalue": "'tuple' object does not support item assignment",
     "output_type": "error",
     "traceback": [
      "\u001b[0;31m---------------------------------------------------------------------------\u001b[0m",
      "\u001b[0;31mTypeError\u001b[0m                                 Traceback (most recent call last)",
      "Cell \u001b[0;32mIn[7], line 6\u001b[0m\n\u001b[1;32m      3\u001b[0m b \u001b[38;5;241m=\u001b[39m (\u001b[38;5;241m1\u001b[39m,\u001b[38;5;241m3\u001b[39m,\u001b[38;5;124m'\u001b[39m\u001b[38;5;124mstring\u001b[39m\u001b[38;5;124m'\u001b[39m)\n\u001b[1;32m      4\u001b[0m \u001b[38;5;28mprint\u001b[39m(b)\n\u001b[0;32m----> 6\u001b[0m \u001b[43ma\u001b[49m\u001b[43m[\u001b[49m\u001b[38;5;241;43m0\u001b[39;49m\u001b[43m]\u001b[49m\u001b[38;5;241m=\u001b[39m\u001b[38;5;241m2\u001b[39m\n\u001b[1;32m      7\u001b[0m a\u001b[38;5;241m.\u001b[39mappend(\u001b[38;5;241m4\u001b[39m)\n",
      "\u001b[0;31mTypeError\u001b[0m: 'tuple' object does not support item assignment"
     ]
    }
   ],
   "source": [
    "a = (1,2,3)\n",
    "print(a)\n",
    "b = (1,3,'string')\n",
    "print(b)\n",
    "\n",
    "a[0]=2\n",
    "a.append(4)\n"
   ]
  },
  {
   "cell_type": "code",
   "execution_count": 9,
   "id": "938bb82a-569e-4985-85ef-7c39e09769d0",
   "metadata": {},
   "outputs": [
    {
     "name": "stdout",
     "output_type": "stream",
     "text": [
      "{'A': 2.3, 'B': 'C', 5: 'D'}\n",
      "{'A': 5.2, 'B': 'C', 5: 'D'}\n",
      "{'A': 5.2, 'B': 'C', 5: 'D', 'Hello': [1, 2, 3, 4, 'World']}\n"
     ]
    }
   ],
   "source": [
    "info = {'A' : 2.3, 'B' : 'C',5:'D'}\n",
    "print(info)\n",
    "\n",
    "info['A'] = 5.2\n",
    "print(info)\n",
    "\n",
    "info['Hello'] = [1,2,3,4,'World']\n",
    "print(info)"
   ]
  },
  {
   "cell_type": "code",
   "execution_count": 11,
   "id": "43bfbe29-d047-4164-b94e-f018e8273182",
   "metadata": {},
   "outputs": [
    {
     "name": "stdout",
     "output_type": "stream",
     "text": [
      "banana\n",
      "apple\n",
      "banana\n",
      "cherry\n",
      "True\n",
      "<class 'tuple'> <class 'int'>\n",
      "(1,) 1\n",
      "('a', 'b', 'c', 1, 2, 3) (1, 2, 3, 1, 2, 3)\n"
     ]
    }
   ],
   "source": [
    "thistuple = (\"apple\",\"banana\",\"cherry\")\n",
    "print(thistuple[1])\n",
    "for x in thistuple:\n",
    "    print(x)\n",
    "tuple1 = (\"abc\",34,True,40,\"male\",\"abc\")\n",
    "print(tuple1[2])\n",
    "a=1,\n",
    "b=1\n",
    "print(type(a),type(b))\n",
    "print(a,b)\n",
    "\n",
    "tuple1 = (\"a\",\"b\",\"c\")\n",
    "tuple2 = (1,2,3)\n",
    "tuple3 = tuple1 + tuple2\n",
    "tuple4 = tuple2 * 2\n",
    "print(tuple3, tuple4)"
   ]
  },
  {
   "cell_type": "code",
   "execution_count": 13,
   "id": "8e099423-d1bd-4ed7-a12c-b8e97cbcac9d",
   "metadata": {},
   "outputs": [
    {
     "name": "stdout",
     "output_type": "stream",
     "text": [
      "('apple', 'banana', 'cherry')\n",
      "('apple', 'banana', 'cherry', 'orange')\n",
      "('apple', 'banana', 'cherry')\n",
      "('apple', 'banana', 'cherry', 'orange')\n",
      "apple\n",
      "banana\n",
      "['cherry', 'strawberry', 'raspberry']\n",
      "apple\n",
      "['banana', 'cherry', 'strawberry']\n",
      "raspberry\n"
     ]
    }
   ],
   "source": [
    "thistuple = (\"apple\",\"banana\",\"cherry\")\n",
    "print(thistuple)\n",
    "y = (\"orange\",)\n",
    "thistuple += y\n",
    "print(thistuple)\n",
    "\n",
    "thistuple = (\"apple\",\"banana\",\"cherry\")\n",
    "print(thistuple)\n",
    "y = list(thistuple)\n",
    "y.append(\"orange\")\n",
    "thistuple = tuple(y)\n",
    "print(thistuple)\n",
    "\n",
    "fruits = (\"apple\",\"banana\",\"cherry\",\"strawberry\",\"raspberry\")\n",
    "(green,yellow,*red)=fruits\n",
    "print(green)\n",
    "print(yellow)\n",
    "print(red)\n",
    "\n",
    "fruits = (\"apple\",\"banana\",\"cherry\",\"strawberry\",\"raspberry\")\n",
    "(green, *tropic, red) = fruits\n",
    "print(green)\n",
    "print(tropic)\n",
    "print(red)"
   ]
  },
  {
   "cell_type": "code",
   "execution_count": 15,
   "id": "9b0eff31-28cd-46cf-b6ef-be216005c1f7",
   "metadata": {},
   "outputs": [
    {
     "name": "stdout",
     "output_type": "stream",
     "text": [
      "1\n",
      "2\n",
      "3\n",
      "4\n",
      "Hello\n",
      "6.24\n",
      "====================\n",
      "1\n",
      "2\n",
      "3\n",
      "4\n",
      "Hello\n",
      "6.24\n",
      "====================\n",
      "1 2\n",
      "3 4\n",
      "5 6\n",
      "====================\n",
      "1 2\n",
      "3 4\n",
      "5 6\n",
      "====================\n",
      "A 1\n",
      "B 2\n",
      "C 3\n",
      "====================\n",
      "A 1\n",
      "B 2\n",
      "C 3\n"
     ]
    }
   ],
   "source": [
    "items =[1,2,3,4,'Hello',6.24]\n",
    "\n",
    "for k in range(0, len(items)):\n",
    "    print(items[k])\n",
    "print('====================')\n",
    "for item in items:\n",
    "    print(item)\n",
    "print('====================')\n",
    "items = [[1,2], [3,4], [5,6]]\n",
    "for item in items:\n",
    "    print(item[0], item[1])\n",
    "print('====================')\n",
    "for item1, item2 in items:\n",
    "    print(item1,item2)\n",
    "print('====================')\n",
    "info = {'A' : 1, 'B' : 2, 'C' : 3}\n",
    "for key in info:\n",
    "    print(key, info[key])\n",
    "print('====================')\n",
    "for key, value in info.items():\n",
    "    print(key, value)"
   ]
  },
  {
   "cell_type": "code",
   "execution_count": 16,
   "id": "58057146-1044-44be-9896-79dfe60b90e2",
   "metadata": {},
   "outputs": [
    {
     "name": "stdout",
     "output_type": "stream",
     "text": [
      "[[1, 2], [3, 4], [5, 6]]\n",
      "[['A', 'B'], ['C', 'D'], ['E', 'F']]\n",
      "========================================\n",
      "[1, 2] ['A', 'B']\n",
      "[3, 4] ['C', 'D']\n",
      "[5, 6] ['E', 'F']\n"
     ]
    }
   ],
   "source": [
    "items1 = [[1,2],[3,4],[5,6]]\n",
    "items2 = [['A','B'], ['C','D'], ['E','F']]\n",
    "print(items1)\n",
    "print(items2)\n",
    "print('========================================')\n",
    "for digits, characters in zip(items1,items2):\n",
    "    print(digits, characters)"
   ]
  },
  {
   "cell_type": "code",
   "execution_count": 18,
   "id": "4d305bd0-69e2-4ba2-bb85-6330d93dfbbe",
   "metadata": {},
   "outputs": [
    {
     "name": "stdout",
     "output_type": "stream",
     "text": [
      "[0, 1, 2, 3, 4]\n",
      "========================================\n",
      "[0, 1, 2, 3, 4]\n",
      "========================================\n",
      "[0, 1, 10, 3, 20]\n",
      "========================================\n",
      "[0, 2, 4]\n",
      "========================================\n",
      "{0: 0, 1: 10, 2: 20, 3: 30, 4: 40}\n",
      "========================================\n",
      "[1, 9, 16]\n"
     ]
    }
   ],
   "source": [
    "a = []\n",
    "for k in range(0,5):\n",
    "    a.append(k)\n",
    "print(a)\n",
    "print('========================================')\n",
    "a = [k for k in range(0,5)]\n",
    "print(a)\n",
    "print('========================================')\n",
    "a = [k if (k*1)%2 else k*5*1 for k in range(0,5)]\n",
    "print(a)\n",
    "print('========================================')\n",
    "a = [k for k in range(0,5) if k % 2 == 0]\n",
    "print(a)\n",
    "print('========================================')\n",
    "a = {k : k*10 for k in range(0,5)}\n",
    "print(a)\n",
    "print('========================================')\n",
    "a = [1,3,4]\n",
    "c = [a[i] * a[i] for i in range(len(a))]\n",
    "print(c)"
   ]
  },
  {
   "cell_type": "code",
   "execution_count": 19,
   "id": "aa737036-dd38-473e-835d-35f762adba51",
   "metadata": {},
   "outputs": [
    {
     "name": "stdout",
     "output_type": "stream",
     "text": [
      "[(0, 'apple'), (1, 'banana'), (2, 'cherry')]\n",
      "========================================\n",
      "(0, 'A')\n",
      "(1, 'B')\n",
      "(2, 'C')\n",
      "========================================\n",
      "0 A\n",
      "1 B\n",
      "2 C\n",
      "========================================\n",
      "101 A\n",
      "102 B\n",
      "103 C\n"
     ]
    }
   ],
   "source": [
    "x = ('apple','banana','cherry')\n",
    "y = enumerate(x)\n",
    "print(list(y))\n",
    "print('========================================')\n",
    "for entry in enumerate(['A','B','C']):\n",
    "    print(entry)\n",
    "print('========================================')\n",
    "for i, letter in enumerate(['A','B','C']):\n",
    "    print(i, letter)\n",
    "print('========================================')\n",
    "for i,letter in enumerate(['A','B','C'], start=101):\n",
    "    print(i, letter)"
   ]
  },
  {
   "cell_type": "code",
   "execution_count": 20,
   "id": "876b1880-c870-45cc-9eaa-35d2d1dcf934",
   "metadata": {},
   "outputs": [],
   "source": [
    "filename = 'readme.txt'\n",
    "file = open(filename,'w')\n",
    "file.write(\"Hello,World!\")\n",
    "file.close()"
   ]
  },
  {
   "cell_type": "code",
   "execution_count": 21,
   "id": "0164964f-8431-48fc-80d9-156cc1be02f4",
   "metadata": {},
   "outputs": [
    {
     "name": "stdout",
     "output_type": "stream",
     "text": [
      "Hello,World!\n"
     ]
    }
   ],
   "source": [
    "filename = 'readme.txt'\n",
    "file = open(filename,'r')\n",
    "content = file.read()\n",
    "print(content)\n",
    "file.close()"
   ]
  },
  {
   "cell_type": "code",
   "execution_count": 22,
   "id": "73706ee3-37b5-4489-a06d-34c5ddd3d06b",
   "metadata": {},
   "outputs": [],
   "source": [
    "filename = 'readme.txt'\n",
    "with open(filename,'w') as file:\n",
    "    file.write(\"Hello,World!\")"
   ]
  },
  {
   "cell_type": "code",
   "execution_count": 24,
   "id": "16d6784a-81c0-42e4-9930-a77bd40ec209",
   "metadata": {},
   "outputs": [
    {
     "name": "stdout",
     "output_type": "stream",
     "text": [
      "Hello,World!\n"
     ]
    }
   ],
   "source": [
    "filename = 'readme.txt'\n",
    "with open(filename,'r') as file:\n",
    "    content = file.read()\n",
    "    print(content)\n",
    "file.close()"
   ]
  },
  {
   "cell_type": "code",
   "execution_count": null,
   "id": "ce680553-d96c-4304-8572-0f5082888821",
   "metadata": {},
   "outputs": [],
   "source": []
  }
 ],
 "metadata": {
  "kernelspec": {
   "display_name": "Python 3 (ipykernel)",
   "language": "python",
   "name": "python3"
  },
  "language_info": {
   "codemirror_mode": {
    "name": "ipython",
    "version": 3
   },
   "file_extension": ".py",
   "mimetype": "text/x-python",
   "name": "python",
   "nbconvert_exporter": "python",
   "pygments_lexer": "ipython3",
   "version": "3.10.12"
  }
 },
 "nbformat": 4,
 "nbformat_minor": 5
}
